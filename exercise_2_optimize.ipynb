{
  "nbformat": 4,
  "nbformat_minor": 0,
  "metadata": {
    "kernelspec": {
      "display_name": "Python 3",
      "language": "python",
      "name": "python3"
    },
    "language_info": {
      "codemirror_mode": {
        "name": "ipython",
        "version": 3
      },
      "file_extension": ".py",
      "mimetype": "text/x-python",
      "name": "python",
      "nbconvert_exporter": "python",
      "pygments_lexer": "ipython3",
      "version": "3.7.3"
    },
    "colab": {
      "name": "exercise_2_optimize.ipynb",
      "provenance": [],
      "include_colab_link": true
    }
  },
  "cells": [
    {
      "cell_type": "markdown",
      "metadata": {
        "id": "view-in-github",
        "colab_type": "text"
      },
      "source": [
        "<a href=\"https://colab.research.google.com/github/deanwampler/RISECamp2019Tutorials/blob/master/exercise_2_optimize.ipynb\" target=\"_parent\"><img src=\"https://colab.research.google.com/assets/colab-badge.svg\" alt=\"Open In Colab\"/></a>"
      ]
    },
    {
      "cell_type": "markdown",
      "metadata": {
        "id": "9rVXRQp1IeT7",
        "colab_type": "text"
      },
      "source": [
        "# Tutorial: Accelerated Hyperparameter Tuning For PyTorch"
      ]
    },
    {
      "cell_type": "markdown",
      "metadata": {
        "id": "Yr34-2DTIeUB",
        "colab_type": "text"
      },
      "source": [
        "### In this tutorial, we'll show you how to leverage advanced hyperparameter tuning techniques with Tune.\n",
        "\n",
        "<img src=\"tune-arch-simple.png\" alt=\"Tune Logo\" width=\"600\"/>\n",
        "\n",
        "Specifically, we'll leverage ASHA and Bayesian Optimization (via HyperOpt) without modifying your underlying code.\n",
        "\n",
        "Tune is a scalable framework for model training and hyperparameter search with a focus on deep learning and deep reinforcement learning.\n",
        "\n",
        "* **Code**: https://github.com/ray-project/ray/tree/master/python/ray/tune \n",
        "* **Examples**: https://github.com/ray-project/ray/tree/master/python/ray/tune/examples\n",
        "* **Documentation**: http://ray.readthedocs.io/en/latest/tune.html\n",
        "* **Mailing List** https://groups.google.com/forum/#!forum/ray-dev"
      ]
    },
    {
      "cell_type": "code",
      "metadata": {
        "id": "_MqczgD2IeUD",
        "colab_type": "code",
        "colab": {
          "base_uri": "https://localhost:8080/",
          "height": 119
        },
        "outputId": "ef23fa8a-f1cb-4f27-ef22-21f5701974ad"
      },
      "source": [
        "## If you are running on Google Colab, uncomment below to install the necessary dependencies \n",
        "## before beginning the exercise.\n",
        "\n",
        "print(\"Setting up colab environment\")\n",
        "!pip uninstall -y -q pyarrow\n",
        "!pip install -q https://s3-us-west-2.amazonaws.com/ray-wheels/latest/ray-0.8.0.dev5-cp36-cp36m-manylinux1_x86_64.whl\n",
        "!pip install -q ray[debug]\n",
        "\n",
        "# # A hack to force the runtime to restart, needed to include the above dependencies.\n",
        "print(\"Done installing! Restarting via forced crash.\")\n",
        "import os\n",
        "os._exit(0)"
      ],
      "execution_count": 0,
      "outputs": [
        {
          "output_type": "stream",
          "text": [
            "Setting up colab environment\n",
            "\u001b[K     |████████████████████████████████| 75.9MB 411kB/s \n",
            "\u001b[K     |████████████████████████████████| 1.3MB 4.3MB/s \n",
            "\u001b[K     |████████████████████████████████| 71kB 27.0MB/s \n",
            "\u001b[K     |████████████████████████████████| 2.8MB 7.1MB/s \n",
            "\u001b[?25h  Building wheel for setproctitle (setup.py) ... \u001b[?25l\u001b[?25hdone\n"
          ],
          "name": "stdout"
        }
      ]
    },
    {
      "cell_type": "code",
      "metadata": {
        "id": "TdeaoqiEIeUG",
        "colab_type": "code",
        "colab": {
          "base_uri": "https://localhost:8080/",
          "height": 34
        },
        "outputId": "ce6e8d88-1531-4a0e-cded-d42e05140843"
      },
      "source": [
        "# # If you are running on Google Colab, please install TensorFlow 2.0 by uncommenting below..\n",
        "\n",
        "try:\n",
        "  # %tensorflow_version only exists in Colab.\n",
        "  %tensorflow_version 2.x\n",
        "except Exception:\n",
        "  pass"
      ],
      "execution_count": 1,
      "outputs": [
        {
          "output_type": "stream",
          "text": [
            "TensorFlow 2.x selected.\n"
          ],
          "name": "stdout"
        }
      ]
    },
    {
      "cell_type": "markdown",
      "metadata": {
        "id": "nJh_4e5zIeUI",
        "colab_type": "text"
      },
      "source": [
        "### Exercise 1: PyTorch Imports Code"
      ]
    },
    {
      "cell_type": "code",
      "metadata": {
        "id": "QUM5NoXTIeUJ",
        "colab_type": "code",
        "colab": {
          "base_uri": "https://localhost:8080/",
          "height": 1000
        },
        "outputId": "9a29b6df-9182-432a-bc6c-cba8d4a903b2"
      },
      "source": [
        "import tensorflow as tf\n",
        "try:\n",
        "    tf.get_logger().setLevel('INFO')\n",
        "except Exception as exc:\n",
        "    print(exc)\n",
        "import warnings\n",
        "warnings.simplefilter(\"ignore\")\n",
        "\n",
        "import numpy as np\n",
        "import torch\n",
        "import torch.optim as optim\n",
        "from torchvision import datasets\n",
        "from ray.tune.examples.mnist_pytorch import train, test, ConvNet, get_data_loaders\n",
        "\n",
        "import ray\n",
        "from ray import tune\n",
        "from ray.tune import track\n",
        "from ray.tune.schedulers import AsyncHyperBandScheduler\n",
        "\n",
        "%matplotlib inline\n",
        "import matplotlib.pyplot as plt\n",
        "import matplotlib.style as style\n",
        "style.use(\"ggplot\")\n",
        "\n",
        "datasets.MNIST(\"~/data\", train=True, download=True)"
      ],
      "execution_count": 2,
      "outputs": [
        {
          "output_type": "stream",
          "text": [
            "\r0it [00:00, ?it/s]"
          ],
          "name": "stderr"
        },
        {
          "output_type": "stream",
          "text": [
            "Downloading http://yann.lecun.com/exdb/mnist/train-images-idx3-ubyte.gz to /root/data/MNIST/raw/train-images-idx3-ubyte.gz\n"
          ],
          "name": "stdout"
        },
        {
          "output_type": "stream",
          "text": [
            "100%|█████████▉| 9912320/9912422 [05:14<00:00, 40895.38it/s]"
          ],
          "name": "stderr"
        },
        {
          "output_type": "stream",
          "text": [
            "Extracting /root/data/MNIST/raw/train-images-idx3-ubyte.gz to /root/data/MNIST/raw\n"
          ],
          "name": "stdout"
        },
        {
          "output_type": "stream",
          "text": [
            "\n",
            "0it [00:00, ?it/s]\u001b[A"
          ],
          "name": "stderr"
        },
        {
          "output_type": "stream",
          "text": [
            "Downloading http://yann.lecun.com/exdb/mnist/train-labels-idx1-ubyte.gz to /root/data/MNIST/raw/train-labels-idx1-ubyte.gz\n"
          ],
          "name": "stdout"
        },
        {
          "output_type": "stream",
          "text": [
            "\n",
            "  0%|          | 0/28881 [00:00<?, ?it/s]\u001b[A\n",
            " 28%|██▊       | 8192/28881 [00:00<00:00, 22240.22it/s]\u001b[A\n",
            " 85%|████████▌ | 24576/28881 [00:01<00:00, 24948.25it/s]\u001b[A\n",
            "32768it [00:01, 26964.54it/s]                           \u001b[A\n",
            "0it [00:00, ?it/s]\u001b[A"
          ],
          "name": "stderr"
        },
        {
          "output_type": "stream",
          "text": [
            "Extracting /root/data/MNIST/raw/train-labels-idx1-ubyte.gz to /root/data/MNIST/raw\n",
            "Downloading http://yann.lecun.com/exdb/mnist/t10k-images-idx3-ubyte.gz to /root/data/MNIST/raw/t10k-images-idx3-ubyte.gz\n"
          ],
          "name": "stdout"
        },
        {
          "output_type": "stream",
          "text": [
            "\n",
            "  0%|          | 0/1648877 [00:00<?, ?it/s]\u001b[A\n",
            "  1%|          | 16384/1648877 [00:00<00:19, 85748.32it/s]\u001b[A\n",
            "  2%|▏         | 32768/1648877 [00:00<00:18, 86222.82it/s]\u001b[A\n",
            "  3%|▎         | 49152/1648877 [00:00<00:18, 87332.81it/s]\u001b[A\n",
            "  3%|▎         | 57344/1648877 [00:01<00:23, 67687.03it/s]\u001b[A\n",
            "  5%|▍         | 81920/1648877 [00:01<00:23, 67410.69it/s]\u001b[A\n",
            "  6%|▋         | 106496/1648877 [00:01<00:19, 79388.74it/s]\u001b[A\n",
            "  7%|▋         | 114688/1648877 [00:01<00:23, 64870.98it/s]\u001b[A\n",
            "  8%|▊         | 131072/1648877 [00:02<00:26, 57165.63it/s]\u001b[A\n",
            "  9%|▉         | 155648/1648877 [00:02<00:21, 69003.40it/s]\u001b[A\n",
            " 10%|█         | 172032/1648877 [00:02<00:22, 65261.28it/s]\u001b[A\n",
            " 11%|█         | 180224/1648877 [00:03<00:35, 41543.93it/s]\u001b[A\n",
            " 12%|█▏        | 204800/1648877 [00:03<00:28, 49799.88it/s]\u001b[A\n",
            " 13%|█▎        | 212992/1648877 [00:03<00:29, 48309.28it/s]\u001b[A\n",
            " 14%|█▍        | 229376/1648877 [00:04<00:34, 40641.87it/s]\u001b[A\n",
            " 15%|█▍        | 245760/1648877 [00:04<00:26, 52075.86it/s]\u001b[A\n",
            " 16%|█▌        | 262144/1648877 [00:04<00:31, 44372.55it/s]\u001b[A\n",
            " 17%|█▋        | 278528/1648877 [00:05<00:33, 40467.54it/s]\u001b[A\n",
            " 17%|█▋        | 286720/1648877 [00:05<00:28, 47063.07it/s]\u001b[A\n",
            " 18%|█▊        | 294912/1648877 [00:05<00:41, 32324.19it/s]\u001b[A\n",
            " 18%|█▊        | 303104/1648877 [00:06<00:56, 24009.51it/s]\u001b[A\n",
            " 19%|█▉        | 311296/1648877 [00:07<01:22, 16125.33it/s]\u001b[A\n",
            " 19%|█▉        | 319488/1648877 [00:07<01:33, 14233.87it/s]\u001b[A\n",
            " 20%|█▉        | 327680/1648877 [00:08<01:22, 15973.52it/s]\u001b[A\n",
            " 20%|██        | 335872/1648877 [00:08<01:15, 17483.03it/s]\u001b[A\n",
            " 21%|██        | 344064/1648877 [00:09<01:21, 16072.47it/s]\u001b[A\n",
            " 21%|██▏       | 352256/1648877 [00:09<01:13, 17582.43it/s]\u001b[A\n",
            " 22%|██▏       | 360448/1648877 [00:09<01:11, 17954.08it/s]\u001b[A\n",
            " 22%|██▏       | 368640/1648877 [00:10<01:05, 19426.85it/s]\u001b[A\n",
            " 23%|██▎       | 376832/1648877 [00:10<01:11, 17849.26it/s]\u001b[A\n",
            " 23%|██▎       | 385024/1648877 [00:11<01:25, 14715.60it/s]\u001b[A\n",
            " 24%|██▍       | 393216/1648877 [00:12<01:43, 12157.39it/s]\u001b[A\n",
            "9920512it [05:30, 40895.38it/s]                             \n",
            " 25%|██▍       | 409600/1648877 [00:14<01:55, 10748.37it/s]\u001b[A\n",
            " 25%|██▌       | 417792/1648877 [00:15<02:09, 9511.19it/s] \u001b[A\n",
            " 26%|██▌       | 425984/1648877 [00:16<01:54, 10672.47it/s]\u001b[A\n",
            " 26%|██▋       | 434176/1648877 [00:17<02:11, 9219.78it/s] \u001b[A\n",
            " 27%|██▋       | 442368/1648877 [00:17<01:47, 11204.34it/s]\u001b[A\n",
            " 27%|██▋       | 450560/1648877 [00:18<01:30, 13193.28it/s]\u001b[A\n",
            " 28%|██▊       | 458752/1648877 [00:18<01:11, 16748.08it/s]\u001b[A\n",
            " 28%|██▊       | 466944/1648877 [00:18<01:05, 18142.24it/s]\u001b[A\n",
            " 29%|██▉       | 475136/1648877 [00:19<01:17, 15144.20it/s]\u001b[A\n",
            " 29%|██▉       | 483328/1648877 [00:19<01:01, 18917.59it/s]\u001b[A\n",
            " 30%|██▉       | 491520/1648877 [00:19<00:50, 22907.92it/s]\u001b[A\n",
            " 30%|███       | 499712/1648877 [00:20<00:49, 23129.43it/s]\u001b[A\n",
            " 31%|███       | 507904/1648877 [00:20<00:42, 27087.50it/s]\u001b[A\n",
            " 31%|███▏      | 516096/1648877 [00:20<00:36, 30730.32it/s]\u001b[A\n",
            " 32%|███▏      | 524288/1648877 [00:20<00:33, 33895.75it/s]\u001b[A\n",
            " 32%|███▏      | 532480/1648877 [00:20<00:30, 36633.74it/s]\u001b[A\n",
            " 33%|███▎      | 540672/1648877 [00:20<00:28, 38818.01it/s]\u001b[A\n",
            " 33%|███▎      | 548864/1648877 [00:21<00:34, 31880.06it/s]\u001b[A\n",
            " 34%|███▍      | 565248/1648877 [00:21<00:27, 39173.53it/s]\u001b[A\n",
            " 35%|███▍      | 573440/1648877 [00:21<00:26, 40762.95it/s]\u001b[A\n",
            " 35%|███▌      | 581632/1648877 [00:21<00:25, 41950.02it/s]\u001b[A\n",
            " 36%|███▌      | 589824/1648877 [00:22<00:24, 42944.15it/s]\u001b[A\n",
            " 36%|███▋      | 598016/1648877 [00:22<00:31, 33715.15it/s]\u001b[A\n",
            " 37%|███▋      | 606208/1648877 [00:23<00:44, 23624.14it/s]\u001b[A\n",
            " 37%|███▋      | 614400/1648877 [00:23<00:43, 24053.69it/s]\u001b[A\n",
            " 38%|███▊      | 622592/1648877 [00:23<00:43, 23565.96it/s]\u001b[A\n",
            " 38%|███▊      | 630784/1648877 [00:24<00:46, 22025.62it/s]\u001b[A\n",
            " 39%|███▉      | 638976/1648877 [00:24<01:01, 16549.69it/s]\u001b[A\n",
            " 39%|███▉      | 647168/1648877 [00:25<00:55, 17982.26it/s]\u001b[A\n",
            " 40%|███▉      | 655360/1648877 [00:25<00:58, 16988.16it/s]\u001b[A\n",
            " 40%|████      | 663552/1648877 [00:26<00:47, 20879.89it/s]\u001b[A\n",
            " 41%|████      | 671744/1648877 [00:26<00:39, 24888.70it/s]\u001b[A\n",
            " 41%|████      | 679936/1648877 [00:26<00:33, 28743.02it/s]\u001b[A\n",
            " 42%|████▏     | 688128/1648877 [00:26<00:29, 32244.13it/s]\u001b[A\n",
            " 42%|████▏     | 696320/1648877 [00:27<00:50, 19045.57it/s]\u001b[A\n",
            " 44%|████▎     | 720896/1648877 [00:28<00:41, 22620.94it/s]\u001b[A\n",
            " 45%|████▍     | 737280/1648877 [00:28<00:37, 24428.73it/s]\u001b[A\n",
            " 45%|████▌     | 745472/1648877 [00:29<00:43, 20561.56it/s]\u001b[A\n",
            " 46%|████▌     | 753664/1648877 [00:29<00:42, 21121.04it/s]\u001b[A\n",
            " 46%|████▌     | 761856/1648877 [00:29<00:41, 21528.53it/s]\u001b[A\n",
            " 47%|████▋     | 770048/1648877 [00:30<00:46, 19028.45it/s]\u001b[A\n",
            " 47%|████▋     | 778240/1648877 [00:31<00:55, 15764.85it/s]\u001b[A\n",
            " 48%|████▊     | 786432/1648877 [00:31<01:03, 13519.68it/s]\u001b[A\n",
            " 48%|████▊     | 794624/1648877 [00:32<01:10, 12140.10it/s]\u001b[A\n",
            " 49%|████▊     | 802816/1648877 [00:33<01:18, 10798.91it/s]\u001b[A\n",
            " 49%|████▉     | 811008/1648877 [00:34<01:05, 12784.90it/s]\u001b[A\n",
            " 50%|████▉     | 819200/1648877 [00:34<01:07, 12225.65it/s]\u001b[A\n",
            " 50%|█████     | 827392/1648877 [00:35<00:57, 14176.37it/s]\u001b[A\n",
            " 51%|█████     | 835584/1648877 [00:35<00:45, 17844.81it/s]\u001b[A\n",
            " 51%|█████     | 843776/1648877 [00:35<00:42, 19033.50it/s]\u001b[A\n",
            " 52%|█████▏    | 851968/1648877 [00:36<00:45, 17575.66it/s]\u001b[A\n",
            " 52%|█████▏    | 860160/1648877 [00:36<00:41, 18803.67it/s]\u001b[A\n",
            " 53%|█████▎    | 868352/1648877 [00:36<00:39, 19794.70it/s]\u001b[A\n",
            " 53%|█████▎    | 876544/1648877 [00:37<00:32, 23800.65it/s]\u001b[A\n",
            " 54%|█████▎    | 884736/1648877 [00:37<00:27, 27721.97it/s]\u001b[A\n",
            " 54%|█████▍    | 892928/1648877 [00:37<00:24, 31337.97it/s]\u001b[A\n",
            " 55%|█████▍    | 901120/1648877 [00:37<00:21, 34494.39it/s]\u001b[A\n",
            " 55%|█████▌    | 909312/1648877 [00:37<00:19, 37111.46it/s]\u001b[A\n",
            " 56%|█████▌    | 917504/1648877 [00:38<00:18, 39184.86it/s]\u001b[A\n",
            " 56%|█████▌    | 925696/1648877 [00:38<00:17, 40780.70it/s]\u001b[A\n",
            " 57%|█████▋    | 933888/1648877 [00:38<00:17, 41982.64it/s]\u001b[A\n",
            " 58%|█████▊    | 950272/1648877 [00:38<00:13, 49966.90it/s]\u001b[A\n",
            " 58%|█████▊    | 958464/1648877 [00:38<00:14, 48361.14it/s]\u001b[A\n",
            " 59%|█████▉    | 974848/1648877 [00:38<00:12, 56147.11it/s]\u001b[A\n",
            " 60%|█████▉    | 983040/1648877 [00:39<00:12, 52232.87it/s]\u001b[A\n",
            " 61%|██████    | 999424/1648877 [00:39<00:15, 42773.85it/s]\u001b[A\n",
            " 62%|██████▏   | 1024000/1648877 [00:39<00:11, 53824.97it/s]\u001b[A\n",
            " 63%|██████▎   | 1040384/1648877 [00:40<00:09, 61020.39it/s]\u001b[A\n",
            " 64%|██████▎   | 1048576/1648877 [00:40<00:10, 55211.54it/s]\u001b[A\n",
            " 64%|██████▍   | 1056768/1648877 [00:40<00:11, 51993.97it/s]\u001b[A\n",
            " 65%|██████▌   | 1073152/1648877 [00:40<00:09, 59348.26it/s]\u001b[A\n",
            " 66%|██████▌   | 1081344/1648877 [00:41<00:14, 39801.87it/s]\u001b[A\n",
            " 67%|██████▋   | 1105920/1648877 [00:41<00:13, 41266.72it/s]\u001b[A\n",
            " 68%|██████▊   | 1122304/1648877 [00:41<00:10, 49282.17it/s]\u001b[A\n",
            " 69%|██████▊   | 1130496/1648877 [00:42<00:21, 24468.43it/s]\u001b[A\n",
            " 69%|██████▉   | 1138688/1648877 [00:42<00:21, 23858.48it/s]\u001b[A\n",
            " 70%|██████▉   | 1146880/1648877 [00:43<00:18, 27767.80it/s]\u001b[A\n",
            " 70%|███████   | 1155072/1648877 [00:43<00:15, 31374.70it/s]\u001b[A\n",
            " 71%|███████   | 1163264/1648877 [00:43<00:14, 34529.60it/s]\u001b[A\n",
            " 71%|███████   | 1171456/1648877 [00:43<00:19, 24846.36it/s]\u001b[A\n",
            " 72%|███████▏  | 1187840/1648877 [00:44<00:14, 31678.27it/s]\u001b[A\n",
            " 73%|███████▎  | 1196032/1648877 [00:44<00:13, 34734.52it/s]\u001b[A\n",
            " 73%|███████▎  | 1204224/1648877 [00:44<00:11, 37305.12it/s]\u001b[A\n",
            " 74%|███████▎  | 1212416/1648877 [00:44<00:11, 39331.19it/s]\u001b[A\n",
            " 74%|███████▍  | 1220608/1648877 [00:44<00:10, 40837.82it/s]\u001b[A\n",
            " 75%|███████▍  | 1228800/1648877 [00:45<00:15, 26924.68it/s]\u001b[A\n",
            " 76%|███████▌  | 1245184/1648877 [00:45<00:11, 34090.69it/s]\u001b[A\n",
            " 76%|███████▌  | 1253376/1648877 [00:45<00:10, 36777.64it/s]\u001b[A\n",
            " 77%|███████▋  | 1261568/1648877 [00:45<00:09, 38922.08it/s]\u001b[A\n",
            " 77%|███████▋  | 1269760/1648877 [00:46<00:14, 26333.77it/s]\u001b[A\n",
            " 78%|███████▊  | 1277952/1648877 [00:47<00:17, 21490.09it/s]\u001b[A\n",
            " 78%|███████▊  | 1286144/1648877 [00:47<00:22, 16055.42it/s]\u001b[A\n",
            " 78%|███████▊  | 1294336/1648877 [00:48<00:21, 16438.68it/s]\u001b[A\n",
            " 79%|███████▉  | 1302528/1648877 [00:48<00:19, 17899.49it/s]\u001b[A\n",
            " 79%|███████▉  | 1310720/1648877 [00:48<00:15, 21842.09it/s]\u001b[A\n",
            " 80%|███████▉  | 1318912/1648877 [00:49<00:17, 18437.98it/s]\u001b[A\n",
            " 80%|████████  | 1327104/1648877 [00:49<00:15, 20314.53it/s]\u001b[A\n",
            " 81%|████████  | 1335296/1648877 [00:50<00:14, 20912.92it/s]\u001b[A\n",
            " 81%|████████▏ | 1343488/1648877 [00:50<00:14, 20427.64it/s]\u001b[A\n",
            " 82%|████████▏ | 1351680/1648877 [00:50<00:13, 21948.88it/s]\u001b[A\n",
            " 82%|████████▏ | 1359872/1648877 [00:51<00:11, 25931.64it/s]\u001b[A\n",
            " 83%|████████▎ | 1368064/1648877 [00:51<00:11, 25119.22it/s]\u001b[A\n",
            " 83%|████████▎ | 1376256/1648877 [00:51<00:09, 28573.51it/s]\u001b[A\n",
            " 84%|████████▍ | 1384448/1648877 [00:51<00:08, 32010.09it/s]\u001b[A\n",
            " 84%|████████▍ | 1392640/1648877 [00:51<00:07, 35075.39it/s]\u001b[A\n",
            " 85%|████████▍ | 1400832/1648877 [00:52<00:06, 37580.98it/s]\u001b[A\n",
            " 85%|████████▌ | 1409024/1648877 [00:52<00:06, 39574.50it/s]\u001b[A\n",
            " 86%|████████▌ | 1417216/1648877 [00:52<00:07, 32071.48it/s]\u001b[A\n",
            " 87%|████████▋ | 1433600/1648877 [00:52<00:05, 39656.36it/s]\u001b[A\n",
            " 87%|████████▋ | 1441792/1648877 [00:53<00:05, 41147.36it/s]\u001b[A\n",
            " 88%|████████▊ | 1458176/1648877 [00:53<00:04, 40465.49it/s]\u001b[A\n",
            " 89%|████████▉ | 1466368/1648877 [00:53<00:05, 32664.10it/s]\u001b[A\n",
            " 90%|████████▉ | 1482752/1648877 [00:53<00:03, 42165.71it/s]\u001b[A\n",
            " 90%|█████████ | 1490944/1648877 [00:54<00:04, 39477.61it/s]\u001b[A\n",
            " 91%|█████████ | 1499136/1648877 [00:54<00:04, 32216.74it/s]\u001b[A\n",
            " 91%|█████████▏| 1507328/1648877 [00:54<00:04, 35208.48it/s]\u001b[A\n",
            " 92%|█████████▏| 1515520/1648877 [00:55<00:05, 25043.06it/s]\u001b[A\n",
            " 93%|█████████▎| 1531904/1648877 [00:55<00:03, 31900.51it/s]\u001b[A\n",
            " 93%|█████████▎| 1540096/1648877 [00:55<00:03, 34714.08it/s]\u001b[A\n",
            " 94%|█████████▍| 1548288/1648877 [00:56<00:04, 23647.69it/s]\u001b[A\n",
            " 94%|█████████▍| 1556480/1648877 [00:56<00:03, 24546.93it/s]\u001b[A\n",
            " 95%|█████████▍| 1564672/1648877 [00:56<00:02, 28439.78it/s]\u001b[A\n",
            " 95%|█████████▌| 1572864/1648877 [00:56<00:02, 31960.02it/s]\u001b[A\n",
            " 96%|█████████▌| 1581056/1648877 [00:57<00:01, 34967.38it/s]\u001b[A\n",
            " 96%|█████████▋| 1589248/1648877 [00:57<00:01, 37485.77it/s]\u001b[A\n",
            " 97%|█████████▋| 1597440/1648877 [00:57<00:01, 39497.76it/s]\u001b[A\n",
            " 98%|█████████▊| 1613824/1648877 [00:57<00:00, 45023.40it/s]\u001b[A\n",
            " 98%|█████████▊| 1622016/1648877 [00:57<00:00, 44783.36it/s]\u001b[A\n",
            " 99%|█████████▉| 1630208/1648877 [00:58<00:00, 44845.13it/s]\u001b[A\n",
            " 99%|█████████▉| 1638400/1648877 [00:58<00:00, 50260.01it/s]\u001b[A\n",
            "\n",
            "0it [00:00, ?it/s]\u001b[A\u001b[A"
          ],
          "name": "stderr"
        },
        {
          "output_type": "stream",
          "text": [
            "Extracting /root/data/MNIST/raw/t10k-images-idx3-ubyte.gz to /root/data/MNIST/raw\n",
            "Downloading http://yann.lecun.com/exdb/mnist/t10k-labels-idx1-ubyte.gz to /root/data/MNIST/raw/t10k-labels-idx1-ubyte.gz\n"
          ],
          "name": "stdout"
        },
        {
          "output_type": "stream",
          "text": [
            "\n",
            "\n",
            "  0%|          | 0/4542 [00:00<?, ?it/s]\u001b[A\u001b[A\n",
            "\n",
            "8192it [00:00, 21564.44it/s]            \u001b[A\u001b[A"
          ],
          "name": "stderr"
        },
        {
          "output_type": "stream",
          "text": [
            "Extracting /root/data/MNIST/raw/t10k-labels-idx1-ubyte.gz to /root/data/MNIST/raw\n",
            "Processing...\n",
            "Done!\n"
          ],
          "name": "stdout"
        },
        {
          "output_type": "execute_result",
          "data": {
            "text/plain": [
              "Dataset MNIST\n",
              "    Number of datapoints: 60000\n",
              "    Root location: /root/data\n",
              "    Split: Train"
            ]
          },
          "metadata": {
            "tags": []
          },
          "execution_count": 2
        }
      ]
    },
    {
      "cell_type": "markdown",
      "metadata": {
        "id": "K9SjuWqgIeUL",
        "colab_type": "text"
      },
      "source": [
        "We import some helper functions above. For example, `train` is simply a for loop over the data loader.\n",
        "\n",
        "```python\n",
        "    def train(model, optimizer, train_loader):\n",
        "        model.train()\n",
        "        for batch_idx, (data, target) in enumerate(train_loader):\n",
        "            if batch_idx * len(data) > EPOCH_SIZE:\n",
        "                return\n",
        "            optimizer.zero_grad()\n",
        "            output = model(data)\n",
        "            loss = F.nll_loss(output, target)\n",
        "            loss.backward()\n",
        "            optimizer.step()\n",
        "```\n",
        "\n",
        "In order to make decisions in the middle of training, we need to let the training function notify Tune. The ``tune.track`` API allows Tune to keep track of current results.\n",
        "\n",
        "**TODO**: Add `tune.track.log(mean_accuracy=acc)` within the training loop. "
      ]
    },
    {
      "cell_type": "code",
      "metadata": {
        "id": "oaGNkZM7IeUN",
        "colab_type": "code",
        "colab": {}
      },
      "source": [
        "def train_mnist(config):\n",
        "    model = ConvNet()\n",
        "    train_loader, test_loader = get_data_loaders()\n",
        "\n",
        "    optimizer = optim.SGD(\n",
        "        model.parameters(), lr=config[\"lr\"], momentum=config[\"momentum\"])\n",
        "\n",
        "    for i in range(20):\n",
        "        train(model, optimizer, train_loader)  # Train for 1 epoch\n",
        "        acc = test(model, test_loader)  # Obtain validation accuracy.\n",
        "        # TODO: Add tune.track.log(mean_accuracy=acc) here\n",
        "        tune.track.log(mean_accuracy=acc) \n",
        "        if i % 5 == 0:\n",
        "            torch.save(model, \"./model.pth\") # This saves the model to the trial directory"
      ],
      "execution_count": 0,
      "outputs": []
    },
    {
      "cell_type": "markdown",
      "metadata": {
        "id": "w3hwROWHIeUQ",
        "colab_type": "text"
      },
      "source": [
        "### Example Trial Run\n",
        "\n",
        "Let's run 1 trial, randomly sampling from a uniform distribution for learning rate and momentum. \n",
        "\n",
        "A \"trial\" is the execution of training using a set of hyperparameters. An **experiment** is a set of trials (i.e., a hyperparameter search).\n",
        "\n",
        "Run the below cell to run Tune. \n",
        "\n",
        "#### This is one random sample and should perform poorly."
      ]
    },
    {
      "cell_type": "code",
      "metadata": {
        "scrolled": true,
        "id": "Z9h7ds-HIeUR",
        "colab_type": "code",
        "colab": {
          "base_uri": "https://localhost:8080/",
          "height": 217
        },
        "outputId": "c2e54a0a-768e-4d8c-d0cc-d8794627726b"
      },
      "source": [
        "np.random.seed(1)\n",
        "search_space = {\n",
        "    \"lr\": tune.loguniform(0.0001, 0.1),\n",
        "    \"momentum\": tune.uniform(0.1, 0.9)\n",
        "}\n",
        "\n",
        "ray.shutdown()  # Restart Ray defensively in case the ray connection is lost. \n",
        "ray.init(log_to_driver=False)\n",
        "\n",
        "\n",
        "analysis = tune.run(\n",
        "    train_mnist, \n",
        "    config=search_space, \n",
        "    verbose=1,\n",
        "    name=\"train_mnist\",  # This is used to specify the logging directory.\n",
        "    stop={\"mean_accuracy\": 0.98}  # This will stop the trial \n",
        ")"
      ],
      "execution_count": 4,
      "outputs": [
        {
          "output_type": "display_data",
          "data": {
            "text/html": [
              "== Status ==<br>Memory usage on this node: 1.2/12.7 GiB<br>Using FIFO scheduling algorithm.<br>Resources requested: 0/2 CPUs, 0/0 GPUs, 0.0/6.01 GiB heap, 0.0/2.05 GiB objects<br>Number of trials: 1 ({'TERMINATED': 1})<br>Result logdir: /root/ray_results/train_mnist<br><table>\n",
              "<thead>\n",
              "<tr><th>Trial name          </th><th>ID      </th><th>status    </th><th>loc    </th><th style=\"text-align: right;\">  momentum</th><th style=\"text-align: right;\">         lr</th><th style=\"text-align: right;\">  iter</th><th style=\"text-align: right;\">  total time (s)</th><th style=\"text-align: right;\">     acc</th></tr>\n",
              "</thead>\n",
              "<tbody>\n",
              "<tr><td>train_mnist_345fcc00</td><td>345fcc00</td><td>TERMINATED</td><td>pid=376</td><td style=\"text-align: right;\">  0.899232</td><td style=\"text-align: right;\">0.000242311</td><td style=\"text-align: right;\">    19</td><td style=\"text-align: right;\">         5.86489</td><td style=\"text-align: right;\">0.434375</td></tr>\n",
              "</tbody>\n",
              "</table><br>"
            ],
            "text/plain": [
              "<IPython.core.display.HTML object>"
            ]
          },
          "metadata": {
            "tags": []
          }
        },
        {
          "output_type": "stream",
          "text": [
            "2019-10-17 19:20:48,962\tINFO tune.py:285 -- Returning an analysis object by default. You can call `analysis.trials` to retrieve a list of trials. This message will be removed in future versions of Tune.\n"
          ],
          "name": "stderr"
        }
      ]
    },
    {
      "cell_type": "markdown",
      "metadata": {
        "id": "doFKFazlIeUU",
        "colab_type": "text"
      },
      "source": [
        "#### Plot the performance of this trial."
      ]
    },
    {
      "cell_type": "code",
      "metadata": {
        "id": "zGRa2rr1IeUV",
        "colab_type": "code",
        "colab": {
          "base_uri": "https://localhost:8080/",
          "height": 286
        },
        "outputId": "b742d306-621a-411b-ca5e-b4c294a93f28"
      },
      "source": [
        "dfs = analysis.fetch_trial_dataframes()\n",
        "[d.mean_accuracy.plot() for d in dfs.values()]\n",
        "plt.xlabel(\"epoch\"); plt.ylabel(\"Test Accuracy\"); "
      ],
      "execution_count": 5,
      "outputs": [
        {
          "output_type": "display_data",
          "data": {
            "image/png": "[encoded data removed]",
            "text/plain": [
              "<Figure size 432x288 with 1 Axes>"
            ]
          },
          "metadata": {
            "tags": []
          }
        }
      ]
    },
    {
      "cell_type": "markdown",
      "metadata": {
        "id": "ERtPWQiOIeUX",
        "colab_type": "text"
      },
      "source": [
        "### Exercise 2: Efficient Grid Search with Early Stopping\n",
        "\n",
        "\n",
        "Tune provides a `tune.grid_search` primitive to pass into `tune.run` as follows:\n",
        "```python\n",
        "tune.run(config={\"variable\": tune.grid_search([1, 2, 3])})\n",
        "```\n",
        "\n",
        "From this, Tune will run 3 trials, evaluating each value in the grid search. To specify a multi-dimensional grid search, you can use `tune.grid_search` on multiple variables:\n",
        "\n",
        "\n",
        "```python\n",
        "tune.run(config={\n",
        "    \"variable1\": tune.grid_search([1, 2, 3]),\n",
        "    \"variable2\": tune.grid_search([1, 2, 3]),\n",
        "    \"variable3\": tune.grid_search([1, 2, 3]),\n",
        "    \"variable4\": tune.grid_search([1, 2, 3]),\n",
        "})\n",
        "```\n",
        "\n",
        "This will generate a total $3 * 3 * 3 * 3 = 81$ trials.\n",
        "\n",
        "Below, we will set up a grid search over the \"lr\" and \"momentum\" hyperparameters.\n",
        "\n",
        "#### FAQ: what is \"lr\"?\n",
        "\n",
        "\"lr\" stands for \"learning rate\".\n",
        "Deep learning neural networks are trained using the stochastic gradient descent (SGD) algorithm.\n",
        "\n",
        "SGD estimates the error gradient for the current state of the model using examples from the training dataset, then updates the weights of the model using the back-propagation of errors algorithm, referred to as simply backpropagation.\n",
        "\n",
        "The amount that the weights are updated during training is referred to as the step size or the “learning rate.”\n",
        "\n",
        "(Taken from https://machinelearningmastery.com/understand-the-dynamics-of-learning-rate-on-deep-learning-neural-networks/)\n",
        "\n",
        "####  FAQ: what is \"momentum\"?\n",
        "\n",
        "Momentum is a hyperparameter to the SGD aglorithm.\n",
        "\n",
        "An exponentially weighted average of the prior updates to the weight can be included when the weights are updated. This change to stochastic gradient descent is called “momentum” and adds inertia to the update procedure, causing many past updates in one direction to continue in that direction in the future.\n",
        "\n",
        "(Taken from https://machinelearningmastery.com/learning-rate-for-deep-learning-neural-networks/)\n",
        "\n",
        "### Instructions: \n",
        "**TODO**: Specify a multi-dimensional grid search, gridding over `lr` and `momentum`. Choose 5 values between 0.001 to 0.9 for both values.\n"
      ]
    },
    {
      "cell_type": "code",
      "metadata": {
        "id": "VynN6yE-IeUX",
        "colab_type": "code",
        "colab": {}
      },
      "source": [
        "# TODO: Specify a multi-dimensional grid search, gridding over lr and momentum. \n",
        "# Choose 5 values between 0.001 to 0.9 for both values.\n",
        "hyperparameter_space = {\n",
        "    \"lr\": tune.grid_search([0.001, 0.1, 0.3, 0.6, 0.9]),\n",
        "    \"momentum\":  tune.grid_search([0.001, 0.1, 0.3, 0.6, 0.9])\n",
        "\n",
        "}\n",
        "\n",
        "assert \"grid_search\" in hyperparameter_space.get(\"lr\") \n",
        "assert \"grid_search\" in hyperparameter_space.get(\"momentum\")"
      ],
      "execution_count": 0,
      "outputs": []
    },
    {
      "cell_type": "markdown",
      "metadata": {
        "id": "acQvK5MNIeUZ",
        "colab_type": "text"
      },
      "source": [
        "#### Using an early-stopping algorithm\n",
        "\n",
        "An efficient hyperparameter optimization avoids training low-performing trials. This is one of the main inefficiencies of a grid search. \n",
        "\n",
        "In Tune, we can avoid this by using state-of-the-art search algorithms such as Asynchronous Successive Halving Algorithm (ASHA). ASHA is a scalable algorithm for principled early stopping. How does it work? On a high level, it terminates trials that are less promising and allocates more time and resources to more promising trials. \n",
        "\n",
        "    The successive halving algorithm begins with all candidate configurations in the base \"halving\" iteration and proceeds as follows:\n",
        "\n",
        "        1. Uniformly allocate a budget to a set of candidate hyperparameter configurations in a given \"halving\" iteration.\n",
        "        2. Evaluate the performance of all candidate configurations.\n",
        "        3. Promote the top half of candidate configurations to the next \"halving\" iteration.\n",
        "        4. Double the budget per configuration for the next \"halving\" iteration and repeat until one configurations remains. \n",
        "        \n",
        "A textual representation (\"iter\" stands for *'\"halving\" iteration'*):\n",
        "    \n",
        "           | Configurations | Epochs per \n",
        "           | Remaining      | Configuration\n",
        "    ---------------------------------------\n",
        "    iter 1 | 27             | 1\n",
        "    iter 2 | 9              | 3\n",
        "    iter 3 | 3              | 9\n",
        "    iter 4 | 1              | 27\n",
        "\n",
        "(from https://blog.ml.cmu.edu/2018/12/12/massively-parallel-hyperparameter-optimization/ for the ASHA blog post and paper)"
      ]
    },
    {
      "cell_type": "markdown",
      "metadata": {
        "id": "UuFTOSgUIeUa",
        "colab_type": "text"
      },
      "source": [
        "### Instructions: \n",
        "**TODO**: Set up ASHA.\n",
        "\n",
        "1) Create an ASHA \"Scheduler\" (ASHA). A scheduler decides which trials to run, stop, or pause. \n",
        "```python\n",
        "from ray.tune.schedulers import ASHAScheduler\n",
        "\n",
        "custom_scheduler = ASHAScheduler(\n",
        "    metric='mean_accuracy',\n",
        "    mode=\"max\",\n",
        "    grace_period=1,\n",
        ")\n",
        "```\n",
        "\n",
        "*Note: Read the documentation on this step at https://ray.readthedocs.io/en/latest/tune-schedulers.html#asynchronous-hyperband or call ``help(tune.schedulers.ASHAScheduler)`` to learn more about the ASHA Scheduler*\n"
      ]
    },
    {
      "cell_type": "markdown",
      "metadata": {
        "id": "AmVrMv4NIeUb",
        "colab_type": "text"
      },
      "source": [
        "\n",
        "#### FAQ: How do I debug things in Tune?\n",
        "\n",
        "The `error file` column will show up in the output. Run the below cell with the ``error file`` path to diagnose your issue.\n",
        "\n",
        "```\n",
        "! cat /home/ubuntu/tune_iris/tune_iris_c66e1100_2019-10-09_17-13-24x_swb9xs/error_2019-10-09_17-13-29.txt\n",
        "```"
      ]
    },
    {
      "cell_type": "code",
      "metadata": {
        "scrolled": false,
        "id": "TtTboLzzIeUb",
        "colab_type": "code",
        "colab": {
          "base_uri": "https://localhost:8080/",
          "height": 721
        },
        "outputId": "88f7cbb4-56a0-476b-9edf-7e49e7b9504a"
      },
      "source": [
        "from ray.tune.schedulers import ASHAScheduler\n",
        "\n",
        "ray.shutdown()  # Restart Ray defensively in case the ray connection is lost. \n",
        "ray.init(log_to_driver=False)\n",
        "\n",
        "\n",
        "custom_scheduler = ASHAScheduler(\n",
        "    metric='mean_accuracy',\n",
        "    mode=\"max\",\n",
        "    grace_period=1,\n",
        ")  # TODO: Add a ASHA as custom scheduler here\n",
        "\n",
        "\n",
        "analysis = tune.run(\n",
        "    train_mnist, \n",
        "    scheduler=custom_scheduler, \n",
        "    config=hyperparameter_space, \n",
        "    verbose=1,\n",
        "    name=\"train_mnist\"  # This is used to specify the logging directory.\n",
        ")"
      ],
      "execution_count": 10,
      "outputs": [
        {
          "output_type": "display_data",
          "data": {
            "text/html": [
              "== Status ==<br>Memory usage on this node: 1.1/12.7 GiB<br>Using AsyncHyperBand: num_stopped=21\n",
              "Bracket: Iter 64.000: None | Iter 16.000: 0.915625 | Iter 4.000: 0.8687499999999999 | Iter 1.000: 0.63125<br>Resources requested: 0/2 CPUs, 0/0 GPUs, 0.0/5.96 GiB heap, 0.0/2.05 GiB objects<br>Number of trials: 25 ({'TERMINATED': 25})<br>Result logdir: /root/ray_results/train_mnist<br><table>\n",
              "<thead>\n",
              "<tr><th>Trial name          </th><th>ID      </th><th>status    </th><th>loc    </th><th style=\"text-align: right;\">  momentum</th><th style=\"text-align: right;\">   lr</th><th style=\"text-align: right;\">  iter</th><th style=\"text-align: right;\">  total time (s)</th><th style=\"text-align: right;\">     acc</th></tr>\n",
              "</thead>\n",
              "<tbody>\n",
              "<tr><td>train_mnist_6285ca34</td><td>6285ca34</td><td>TERMINATED</td><td>pid=613</td><td style=\"text-align: right;\">     0.001</td><td style=\"text-align: right;\">0.001</td><td style=\"text-align: right;\">    16</td><td style=\"text-align: right;\">        16.1894 </td><td style=\"text-align: right;\">0.18125 </td></tr>\n",
              "<tr><td>train_mnist_6286cc5e</td><td>6286cc5e</td><td>TERMINATED</td><td>pid=614</td><td style=\"text-align: right;\">     0.001</td><td style=\"text-align: right;\">0.1  </td><td style=\"text-align: right;\">    19</td><td style=\"text-align: right;\">        15.5175 </td><td style=\"text-align: right;\">0.884375</td></tr>\n",
              "<tr><td>train_mnist_6287917a</td><td>6287917a</td><td>TERMINATED</td><td>pid=652</td><td style=\"text-align: right;\">     0.001</td><td style=\"text-align: right;\">0.3  </td><td style=\"text-align: right;\">    19</td><td style=\"text-align: right;\">        19.8089 </td><td style=\"text-align: right;\">0.946875</td></tr>\n",
              "<tr><td>train_mnist_6288790a</td><td>6288790a</td><td>TERMINATED</td><td>pid=678</td><td style=\"text-align: right;\">     0.001</td><td style=\"text-align: right;\">0.6  </td><td style=\"text-align: right;\">     1</td><td style=\"text-align: right;\">         3.4907 </td><td style=\"text-align: right;\">0.13125 </td></tr>\n",
              "<tr><td>train_mnist_62898a5c</td><td>62898a5c</td><td>TERMINATED</td><td>pid=703</td><td style=\"text-align: right;\">     0.001</td><td style=\"text-align: right;\">0.9  </td><td style=\"text-align: right;\">     1</td><td style=\"text-align: right;\">         1.8618 </td><td style=\"text-align: right;\">0.13125 </td></tr>\n",
              "<tr><td>train_mnist_628e75b2</td><td>628e75b2</td><td>TERMINATED</td><td>pid=695</td><td style=\"text-align: right;\">     0.1  </td><td style=\"text-align: right;\">0.001</td><td style=\"text-align: right;\">     1</td><td style=\"text-align: right;\">         2.68701</td><td style=\"text-align: right;\">0.1     </td></tr>\n",
              "<tr><td>train_mnist_628ff82e</td><td>628ff82e</td><td>TERMINATED</td><td>pid=686</td><td style=\"text-align: right;\">     0.1  </td><td style=\"text-align: right;\">0.1  </td><td style=\"text-align: right;\">    16</td><td style=\"text-align: right;\">        17.0458 </td><td style=\"text-align: right;\">0.903125</td></tr>\n",
              "<tr><td>train_mnist_62904360</td><td>62904360</td><td>TERMINATED</td><td>pid=752</td><td style=\"text-align: right;\">     0.1  </td><td style=\"text-align: right;\">0.3  </td><td style=\"text-align: right;\">    19</td><td style=\"text-align: right;\">        17.7347 </td><td style=\"text-align: right;\">0.91875 </td></tr>\n",
              "<tr><td>train_mnist_62918086</td><td>62918086</td><td>TERMINATED</td><td>pid=770</td><td style=\"text-align: right;\">     0.1  </td><td style=\"text-align: right;\">0.6  </td><td style=\"text-align: right;\">     1</td><td style=\"text-align: right;\">         1.74579</td><td style=\"text-align: right;\">0.09375 </td></tr>\n",
              "<tr><td>train_mnist_62928c2e</td><td>62928c2e</td><td>TERMINATED</td><td>pid=751</td><td style=\"text-align: right;\">     0.1  </td><td style=\"text-align: right;\">0.9  </td><td style=\"text-align: right;\">     1</td><td style=\"text-align: right;\">         1.7201 </td><td style=\"text-align: right;\">0.34375 </td></tr>\n",
              "<tr><td>train_mnist_62930b04</td><td>62930b04</td><td>TERMINATED</td><td>pid=802</td><td style=\"text-align: right;\">     0.3  </td><td style=\"text-align: right;\">0.001</td><td style=\"text-align: right;\">     1</td><td style=\"text-align: right;\">         3.25271</td><td style=\"text-align: right;\">0.109375</td></tr>\n",
              "<tr><td>train_mnist_6293ea06</td><td>6293ea06</td><td>TERMINATED</td><td>pid=804</td><td style=\"text-align: right;\">     0.3  </td><td style=\"text-align: right;\">0.1  </td><td style=\"text-align: right;\">     4</td><td style=\"text-align: right;\">         7.34782</td><td style=\"text-align: right;\">0.859375</td></tr>\n",
              "<tr><td>train_mnist_6294abbc</td><td>6294abbc</td><td>TERMINATED</td><td>pid=818</td><td style=\"text-align: right;\">     0.3  </td><td style=\"text-align: right;\">0.3  </td><td style=\"text-align: right;\">     4</td><td style=\"text-align: right;\">         6.5584 </td><td style=\"text-align: right;\">0.83125 </td></tr>\n",
              "<tr><td>train_mnist_6294e9ce</td><td>6294e9ce</td><td>TERMINATED</td><td>pid=825</td><td style=\"text-align: right;\">     0.3  </td><td style=\"text-align: right;\">0.6  </td><td style=\"text-align: right;\">     1</td><td style=\"text-align: right;\">         2.14442</td><td style=\"text-align: right;\">0.60625 </td></tr>\n",
              "<tr><td>train_mnist_62962938</td><td>62962938</td><td>TERMINATED</td><td>pid=853</td><td style=\"text-align: right;\">     0.3  </td><td style=\"text-align: right;\">0.9  </td><td style=\"text-align: right;\">     1</td><td style=\"text-align: right;\">         2.0257 </td><td style=\"text-align: right;\">0.10625 </td></tr>\n",
              "<tr><td>train_mnist_62971fd2</td><td>62971fd2</td><td>TERMINATED</td><td>pid=852</td><td style=\"text-align: right;\">     0.6  </td><td style=\"text-align: right;\">0.001</td><td style=\"text-align: right;\">     1</td><td style=\"text-align: right;\">         1.85694</td><td style=\"text-align: right;\">0.159375</td></tr>\n",
              "<tr><td>train_mnist_62976794</td><td>62976794</td><td>TERMINATED</td><td>pid=898</td><td style=\"text-align: right;\">     0.6  </td><td style=\"text-align: right;\">0.1  </td><td style=\"text-align: right;\">     4</td><td style=\"text-align: right;\">         5.46198</td><td style=\"text-align: right;\">0.821875</td></tr>\n",
              "<tr><td>train_mnist_62988e9e</td><td>62988e9e</td><td>TERMINATED</td><td>pid=900</td><td style=\"text-align: right;\">     0.6  </td><td style=\"text-align: right;\">0.3  </td><td style=\"text-align: right;\">     4</td><td style=\"text-align: right;\">         4.87118</td><td style=\"text-align: right;\">0.7875  </td></tr>\n",
              "<tr><td>train_mnist_62993074</td><td>62993074</td><td>TERMINATED</td><td>pid=920</td><td style=\"text-align: right;\">     0.6  </td><td style=\"text-align: right;\">0.6  </td><td style=\"text-align: right;\">     1</td><td style=\"text-align: right;\">         2.22646</td><td style=\"text-align: right;\">0.115625</td></tr>\n",
              "<tr><td>train_mnist_629a0ff8</td><td>629a0ff8</td><td>TERMINATED</td><td>pid=944</td><td style=\"text-align: right;\">     0.6  </td><td style=\"text-align: right;\">0.9  </td><td style=\"text-align: right;\">     1</td><td style=\"text-align: right;\">         2.09166</td><td style=\"text-align: right;\">0.03125 </td></tr>\n",
              "<tr><td>train_mnist_629b3efa</td><td>629b3efa</td><td>TERMINATED</td><td>pid=949</td><td style=\"text-align: right;\">     0.9  </td><td style=\"text-align: right;\">0.001</td><td style=\"text-align: right;\">     1</td><td style=\"text-align: right;\">         3.434  </td><td style=\"text-align: right;\">0.296875</td></tr>\n",
              "<tr><td>train_mnist_629c28a6</td><td>629c28a6</td><td>TERMINATED</td><td>pid=957</td><td style=\"text-align: right;\">     0.9  </td><td style=\"text-align: right;\">0.1  </td><td style=\"text-align: right;\">    19</td><td style=\"text-align: right;\">        12.7976 </td><td style=\"text-align: right;\">0.940625</td></tr>\n",
              "<tr><td>train_mnist_629d0758</td><td>629d0758</td><td>TERMINATED</td><td>pid=969</td><td style=\"text-align: right;\">     0.9  </td><td style=\"text-align: right;\">0.3  </td><td style=\"text-align: right;\">     1</td><td style=\"text-align: right;\">         2.89595</td><td style=\"text-align: right;\">0.11875 </td></tr>\n",
              "<tr><td>train_mnist_629ebf26</td><td>629ebf26</td><td>TERMINATED</td><td>pid=998</td><td style=\"text-align: right;\">     0.9  </td><td style=\"text-align: right;\">0.6  </td><td style=\"text-align: right;\">     1</td><td style=\"text-align: right;\">         1.40077</td><td style=\"text-align: right;\">0.10625 </td></tr>\n",
              "<tr><td>train_mnist_62a097ce</td><td>62a097ce</td><td>TERMINATED</td><td>pid=991</td><td style=\"text-align: right;\">     0.9  </td><td style=\"text-align: right;\">0.9  </td><td style=\"text-align: right;\">     1</td><td style=\"text-align: right;\">         2.31779</td><td style=\"text-align: right;\">0.078125</td></tr>\n",
              "</tbody>\n",
              "</table><br>"
            ],
            "text/plain": [
              "<IPython.core.display.HTML object>"
            ]
          },
          "metadata": {
            "tags": []
          }
        },
        {
          "output_type": "stream",
          "text": [
            "2019-10-17 19:30:49,280\tINFO tune.py:285 -- Returning an analysis object by default. You can call `analysis.trials` to retrieve a list of trials. This message will be removed in future versions of Tune.\n"
          ],
          "name": "stderr"
        }
      ]
    },
    {
      "cell_type": "markdown",
      "metadata": {
        "id": "E_SXA_HJIeUf",
        "colab_type": "text"
      },
      "source": [
        "#### Let's plot our results by wall-clock time and epoch. "
      ]
    },
    {
      "cell_type": "code",
      "metadata": {
        "id": "bJcXhNKYIeUf",
        "colab_type": "code",
        "colab": {
          "base_uri": "https://localhost:8080/",
          "height": 286
        },
        "outputId": "34c88bb0-e2c8-49ba-a0e5-f56adc669caf"
      },
      "source": [
        "# Plot by wall-clock time\n",
        "\n",
        "dfs = analysis.fetch_trial_dataframes()\n",
        "# This plots everything on the same plot\n",
        "ax = None\n",
        "for d in dfs.values():\n",
        "    ax = d.plot(\"timestamp\", \"mean_accuracy\", ax=ax, legend=False)\n",
        "plt.xlabel(\"timestamp\"); plt.ylabel(\"Test Accuracy\"); "
      ],
      "execution_count": 11,
      "outputs": [
        {
          "output_type": "display_data",
          "data": {
            "image/png": "[encoded data removed]",
            "text/plain": [
              "<Figure size 432x288 with 1 Axes>"
            ]
          },
          "metadata": {
            "tags": []
          }
        }
      ]
    },
    {
      "cell_type": "code",
      "metadata": {
        "id": "D3QfPa_AIeUi",
        "colab_type": "code",
        "colab": {
          "base_uri": "https://localhost:8080/",
          "height": 286
        },
        "outputId": "057fe996-2652-47fa-a8a1-4ac8872cce5d"
      },
      "source": [
        "# Plot by epoch\n",
        "ax = None\n",
        "for d in dfs.values():\n",
        "    ax = d.mean_accuracy.plot(ax=ax, legend=False)\n",
        "plt.xlabel(\"epoch\"); plt.ylabel(\"Test Accuracy\"); "
      ],
      "execution_count": 12,
      "outputs": [
        {
          "output_type": "display_data",
          "data": {
            "image/png": "[encoded data removed]",
            "text/plain": [
              "<Figure size 432x288 with 1 Axes>"
            ]
          },
          "metadata": {
            "tags": []
          }
        }
      ]
    },
    {
      "cell_type": "markdown",
      "metadata": {
        "id": "YNcqqtBoIeUk",
        "colab_type": "text"
      },
      "source": [
        "### Exercise 3: Search Algorithms in Tune\n",
        "\n",
        "Tune enables you to scale existing hyperparameter search libraries such as HyperOpt (https://github.com/hyperopt/hyperopt). In this setting, use the external library's hyperparameter space specification instead of Tune's configuration.\n",
        "\n",
        "Search algorithms can limit the number of concurrent hyperparameters are being evaluated. This is necessary because sometimes the external library is more effective when evaluations are sequential.\n",
        "\n",
        "### Instructions\n",
        "**TODO:** Create a HyperOptSearch object by passing in a HyperOpt specific search space. Also enforce that only 1 trials can run concurrently:\n",
        "\n",
        "```python\n",
        "    hyperopt_search = HyperOptSearch(space, max_concurrent=1, metric=\"mean_accuracy\", mode=\"max\")\n",
        "```\n",
        "\n",
        "Then, plug in `HyperOptSearch` into `tune.run`."
      ]
    },
    {
      "cell_type": "code",
      "metadata": {
        "id": "wklnZwWXIeUm",
        "colab_type": "code",
        "colab": {
          "base_uri": "https://localhost:8080/",
          "height": 406
        },
        "outputId": "493fa64b-c9d5-4e6e-8950-b98fdf10f67e"
      },
      "source": [
        "from hyperopt import hp\n",
        "from ray.tune.suggest.hyperopt import HyperOptSearch\n",
        "\n",
        "# This is a HyperOpt specific hyperparameter space configuration.\n",
        "space = {\n",
        "    \"lr\": hp.loguniform(\"lr\", -10, -1),\n",
        "    \"momentum\": hp.uniform(\"momentum\", 0.1, 0.9),\n",
        "}\n",
        "\n",
        "# TODO: Create a HyperOptSearch object by passing in a HyperOpt specific search space.\n",
        "# Also enforce that only 1 trials can run concurrently.\n",
        "hyperopt_search = HyperOptSearch(space, max_concurrent=1, metric=\"mean_accuracy\", mode=\"max\") # TODO: Change this\n",
        "\n",
        "# We Remove the dir so that we can visualize tensorboard correctly\n",
        "! rm -rf ~/ray_results/search_algorithm \n",
        "analysis = tune.run(\n",
        "    train_mnist, \n",
        "    num_samples=10,  \n",
        "    search_alg=hyperopt_search,  #  TODO: Change this\n",
        "    verbose=1,\n",
        "    name=\"search_algorithm\"  # This is used to specify the logging directory.\n",
        ")"
      ],
      "execution_count": 13,
      "outputs": [
        {
          "output_type": "display_data",
          "data": {
            "text/html": [
              "== Status ==<br>Memory usage on this node: 1.1/12.7 GiB<br>Using FIFO scheduling algorithm.<br>Resources requested: 0/2 CPUs, 0/0 GPUs, 0.0/5.96 GiB heap, 0.0/2.05 GiB objects<br>Number of trials: 10 ({'TERMINATED': 10})<br>Result logdir: /root/ray_results/search_algorithm<br><table>\n",
              "<thead>\n",
              "<tr><th>Trial name          </th><th>ID      </th><th>status    </th><th>loc     </th><th style=\"text-align: right;\">  momentum</th><th style=\"text-align: right;\">         lr</th><th style=\"text-align: right;\">  iter</th><th style=\"text-align: right;\">  total time (s)</th><th style=\"text-align: right;\">     acc</th></tr>\n",
              "</thead>\n",
              "<tbody>\n",
              "<tr><td>train_mnist_f4a89bbc</td><td>f4a89bbc</td><td>TERMINATED</td><td>pid=1090</td><td style=\"text-align: right;\">  0.256074</td><td style=\"text-align: right;\">0.000237886</td><td style=\"text-align: right;\">    19</td><td style=\"text-align: right;\">         5.54795</td><td style=\"text-align: right;\">0.14375 </td></tr>\n",
              "<tr><td>train_mnist_f4a98ba8</td><td>f4a98ba8</td><td>TERMINATED</td><td>pid=1109</td><td style=\"text-align: right;\">  0.714654</td><td style=\"text-align: right;\">0.00274103 </td><td style=\"text-align: right;\">    19</td><td style=\"text-align: right;\">         5.29423</td><td style=\"text-align: right;\">0.8     </td></tr>\n",
              "<tr><td>train_mnist_f8cfd19c</td><td>f8cfd19c</td><td>TERMINATED</td><td>pid=1128</td><td style=\"text-align: right;\">  0.129799</td><td style=\"text-align: right;\">0.00013955 </td><td style=\"text-align: right;\">    19</td><td style=\"text-align: right;\">         5.43819</td><td style=\"text-align: right;\">0.09375 </td></tr>\n",
              "<tr><td>train_mnist_fcdfdd7c</td><td>fcdfdd7c</td><td>TERMINATED</td><td>pid=1144</td><td style=\"text-align: right;\">  0.623093</td><td style=\"text-align: right;\">0.000686011</td><td style=\"text-align: right;\">    19</td><td style=\"text-align: right;\">         5.41853</td><td style=\"text-align: right;\">0.19375 </td></tr>\n",
              "<tr><td>train_mnist_01100cb4</td><td>01100cb4</td><td>TERMINATED</td><td>pid=1163</td><td style=\"text-align: right;\">  0.868216</td><td style=\"text-align: right;\">0.000766776</td><td style=\"text-align: right;\">    19</td><td style=\"text-align: right;\">         5.1536 </td><td style=\"text-align: right;\">0.75625 </td></tr>\n",
              "<tr><td>train_mnist_0537886c</td><td>0537886c</td><td>TERMINATED</td><td>pid=1182</td><td style=\"text-align: right;\">  0.471714</td><td style=\"text-align: right;\">9.80963e-05</td><td style=\"text-align: right;\">    19</td><td style=\"text-align: right;\">         5.36938</td><td style=\"text-align: right;\">0.05625 </td></tr>\n",
              "<tr><td>train_mnist_091402c6</td><td>091402c6</td><td>TERMINATED</td><td>pid=1198</td><td style=\"text-align: right;\">  0.713229</td><td style=\"text-align: right;\">0.00216679 </td><td style=\"text-align: right;\">    19</td><td style=\"text-align: right;\">         5.13998</td><td style=\"text-align: right;\">0.8125  </td></tr>\n",
              "<tr><td>train_mnist_0d10a6fe</td><td>0d10a6fe</td><td>TERMINATED</td><td>pid=1217</td><td style=\"text-align: right;\">  0.100898</td><td style=\"text-align: right;\">7.74974e-05</td><td style=\"text-align: right;\">    19</td><td style=\"text-align: right;\">         5.29135</td><td style=\"text-align: right;\">0.040625</td></tr>\n",
              "<tr><td>train_mnist_11008a04</td><td>11008a04</td><td>TERMINATED</td><td>pid=1236</td><td style=\"text-align: right;\">  0.474992</td><td style=\"text-align: right;\">0.0212834  </td><td style=\"text-align: right;\">    19</td><td style=\"text-align: right;\">         5.08032</td><td style=\"text-align: right;\">0.88125 </td></tr>\n",
              "<tr><td>train_mnist_1512b996</td><td>1512b996</td><td>TERMINATED</td><td>pid=1252</td><td style=\"text-align: right;\">  0.170123</td><td style=\"text-align: right;\">0.0147431  </td><td style=\"text-align: right;\">    19</td><td style=\"text-align: right;\">         4.90822</td><td style=\"text-align: right;\">0.85    </td></tr>\n",
              "</tbody>\n",
              "</table><br>"
            ],
            "text/plain": [
              "<IPython.core.display.HTML object>"
            ]
          },
          "metadata": {
            "tags": []
          }
        },
        {
          "output_type": "stream",
          "text": [
            "2019-10-17 19:34:18,856\tINFO tune.py:285 -- Returning an analysis object by default. You can call `analysis.trials` to retrieve a list of trials. This message will be removed in future versions of Tune.\n"
          ],
          "name": "stderr"
        }
      ]
    },
    {
      "cell_type": "markdown",
      "metadata": {
        "id": "ZXJR2agUIeUp",
        "colab_type": "text"
      },
      "source": [
        "## Extra - use Tensorboard for results"
      ]
    },
    {
      "cell_type": "markdown",
      "metadata": {
        "id": "6tr_T-0pIeUq",
        "colab_type": "text"
      },
      "source": [
        "You can use TensorBoard to view trial performances. If the graphs do not load, click `Toggle All Runs`."
      ]
    },
    {
      "cell_type": "code",
      "metadata": {
        "id": "bgNQIK_rIeUr",
        "colab_type": "code",
        "colab": {}
      },
      "source": [
        "%load_ext tensorboard"
      ],
      "execution_count": 0,
      "outputs": []
    },
    {
      "cell_type": "code",
      "metadata": {
        "scrolled": false,
        "id": "ej7ylOVQIeUu",
        "colab_type": "code",
        "colab": {
          "base_uri": "https://localhost:8080/",
          "height": 34
        },
        "outputId": "f773602f-bdd9-4938-9990-8401c2cfc58c"
      },
      "source": [
        "%tensorboard --logdir ~/ray_results/search_algorithm"
      ],
      "execution_count": 16,
      "outputs": [
        {
          "output_type": "display_data",
          "data": {
            "text/plain": [
              "Reusing TensorBoard on port 6006 (pid 1277), started 0:00:06 ago. (Use '!kill 1277' to kill it.)"
            ]
          },
          "metadata": {
            "tags": []
          }
        },
        {
          "output_type": "display_data",
          "data": {
            "text/html": [
              "\n",
              "    <div id=\"root\"></div>\n",
              "    <script>\n",
              "      (function() {\n",
              "        window.TENSORBOARD_ENV = window.TENSORBOARD_ENV || {};\n",
              "        window.TENSORBOARD_ENV[\"IN_COLAB\"] = true;\n",
              "        document.querySelector(\"base\").href = \"https://localhost:6006\";\n",
              "        function fixUpTensorboard(root) {\n",
              "          const tftb = root.querySelector(\"tf-tensorboard\");\n",
              "          // Disable the fragment manipulation behavior in Colab. Not\n",
              "          // only is the behavior not useful (as the iframe's location\n",
              "          // is not visible to the user), it causes TensorBoard's usage\n",
              "          // of `window.replace` to navigate away from the page and to\n",
              "          // the `localhost:<port>` URL specified by the base URI, which\n",
              "          // in turn causes the frame to (likely) crash.\n",
              "          tftb.removeAttribute(\"use-hash\");\n",
              "        }\n",
              "        function executeAllScripts(root) {\n",
              "          // When `script` elements are inserted into the DOM by\n",
              "          // assigning to an element's `innerHTML`, the scripts are not\n",
              "          // executed. Thus, we manually re-insert these scripts so that\n",
              "          // TensorBoard can initialize itself.\n",
              "          for (const script of root.querySelectorAll(\"script\")) {\n",
              "            const newScript = document.createElement(\"script\");\n",
              "            newScript.type = script.type;\n",
              "            newScript.textContent = script.textContent;\n",
              "            root.appendChild(newScript);\n",
              "            script.remove();\n",
              "          }\n",
              "        }\n",
              "        function setHeight(root, height) {\n",
              "          // We set the height dynamically after the TensorBoard UI has\n",
              "          // been initialized. This avoids an intermediate state in\n",
              "          // which the container plus the UI become taller than the\n",
              "          // final width and cause the Colab output frame to be\n",
              "          // permanently resized, eventually leading to an empty\n",
              "          // vertical gap below the TensorBoard UI. It's not clear\n",
              "          // exactly what causes this problematic intermediate state,\n",
              "          // but setting the height late seems to fix it.\n",
              "          root.style.height = `${height}px`;\n",
              "        }\n",
              "        const root = document.getElementById(\"root\");\n",
              "        fetch(\".\")\n",
              "          .then((x) => x.text())\n",
              "          .then((html) => void (root.innerHTML = html))\n",
              "          .then(() => fixUpTensorboard(root))\n",
              "          .then(() => executeAllScripts(root))\n",
              "          .then(() => setHeight(root, 800));\n",
              "      })();\n",
              "    </script>\n",
              "  "
            ],
            "text/plain": [
              "<IPython.core.display.HTML object>"
            ]
          },
          "metadata": {
            "tags": []
          }
        }
      ]
    },
    {
      "cell_type": "markdown",
      "metadata": {
        "id": "WNhTnTM5IeUw",
        "colab_type": "text"
      },
      "source": [
        "# Extra: Using GPUs."
      ]
    },
    {
      "cell_type": "markdown",
      "metadata": {
        "id": "WOrEN2YuIeUx",
        "colab_type": "text"
      },
      "source": [
        "If your machine has a GPU, you can use the `resources_per_trial` argument to specify that the trial should use a GPU. This allows Tune to automatically set the `CUDA_VISIBLE_DEVICES` for the trial and enforce resource isolation (i.e., 1 trial per GPU at a time)."
      ]
    },
    {
      "cell_type": "code",
      "metadata": {
        "id": "SVALEDvwIeUx",
        "colab_type": "code",
        "colab": {}
      },
      "source": [
        "analysis = tune.run(\n",
        "    train_mnist, \n",
        "    num_samples=10,  \n",
        "    resources_per_trial={\"GPU\": 1},\n",
        "    verbose=1,\n",
        "    name=\"use_gpu\"  # This is used to specify the logging directory.\n",
        ")"
      ],
      "execution_count": 0,
      "outputs": []
    }
  ]
}