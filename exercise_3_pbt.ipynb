{
  "nbformat": 4,
  "nbformat_minor": 0,
  "metadata": {
    "kernelspec": {
      "display_name": "Python 3",
      "language": "python",
      "name": "python3"
    },
    "language_info": {
      "codemirror_mode": {
        "name": "ipython",
        "version": 3
      },
      "file_extension": ".py",
      "mimetype": "text/x-python",
      "name": "python",
      "nbconvert_exporter": "python",
      "pygments_lexer": "ipython3",
      "version": "3.7.3"
    },
    "colab": {
      "name": "exercise_3_pbt.ipynb",
      "provenance": [],
      "collapsed_sections": [],
      "include_colab_link": true
    }
  },
  "cells": [
    {
      "cell_type": "markdown",
      "metadata": {
        "id": "view-in-github",
        "colab_type": "text"
      },
      "source": [
        "<a href=\"https://colab.research.google.com/github/deanwampler/RISECamp2019Tutorials/blob/master/exercise_3_pbt.ipynb\" target=\"_parent\"><img src=\"https://colab.research.google.com/assets/colab-badge.svg\" alt=\"Open In Colab\"/></a>"
      ]
    },
    {
      "cell_type": "markdown",
      "metadata": {
        "id": "x_KHxqdDN8dA",
        "colab_type": "text"
      },
      "source": [
        "# Tutorial: Population-Based Training"
      ]
    },
    {
      "cell_type": "markdown",
      "metadata": {
        "id": "AsWBIsRZN8dC",
        "colab_type": "text"
      },
      "source": [
        "### In this tutorial, we'll show you how to leverage Population-based Training.\n",
        "\n",
        "<img src=\"pbt.png\" alt=\"PBT\" width=\"600\"/>\n",
        "\n",
        "Tune is a scalable framework for model training and hyperparameter search with a focus on deep learning and deep reinforcement learning.\n",
        "\n",
        "* **Code**: https://github.com/ray-project/ray/tree/master/python/ray/tune \n",
        "* **Examples**: https://github.com/ray-project/ray/tree/master/python/ray/tune/examples\n",
        "* **Documentation**: http://ray.readthedocs.io/en/latest/tune.html\n",
        "* **Mailing List** https://groups.google.com/forum/#!forum/ray-dev"
      ]
    },
    {
      "cell_type": "code",
      "metadata": {
        "id": "LdX8Y8MLN8dD",
        "colab_type": "code",
        "colab": {
          "base_uri": "https://localhost:8080/",
          "height": 119
        },
        "outputId": "076ea731-2213-4493-a245-3b46232fe0a5"
      },
      "source": [
        "# If you are running on Google Colab, uncomment below to install the necessary dependencies \n",
        "# before beginning the exercise.\n",
        "\n",
        "print(\"Setting up colab environment\")\n",
        "!pip uninstall -y -q pyarrow\n",
        "!pip install -q https://s3-us-west-2.amazonaws.com/ray-wheels/latest/ray-0.8.0.dev5-cp36-cp36m-manylinux1_x86_64.whl\n",
        "!pip install -q ray[debug]\n",
        "\n",
        "# A hack to force the runtime to restart, needed to include the above dependencies.\n",
        "print(\"Done installing! Restarting via forced crash (this is not an issue).\")\n",
        "import os\n",
        "os._exit(0)"
      ],
      "execution_count": 0,
      "outputs": [
        {
          "output_type": "stream",
          "text": [
            "Setting up colab environment\n",
            "\u001b[K     |████████████████████████████████| 75.9MB 1.2MB/s \n",
            "\u001b[K     |████████████████████████████████| 71kB 7.9MB/s \n",
            "\u001b[K     |████████████████████████████████| 1.3MB 14.2MB/s \n",
            "\u001b[K     |████████████████████████████████| 2.8MB 5.1MB/s \n",
            "\u001b[?25h  Building wheel for setproctitle (setup.py) ... \u001b[?25l\u001b[?25hdone\n"
          ],
          "name": "stdout"
        }
      ]
    },
    {
      "cell_type": "code",
      "metadata": {
        "id": "LI4QTCBfN8dH",
        "colab_type": "code",
        "colab": {
          "base_uri": "https://localhost:8080/",
          "height": 1000
        },
        "outputId": "e50563cd-9a41-4544-c8f7-ab63562d860d"
      },
      "source": [
        "import tensorflow as tf\n",
        "try:\n",
        "    tf.get_logger().setLevel('INFO')\n",
        "except Exception as exc:\n",
        "    print(exc)\n",
        "import warnings\n",
        "warnings.simplefilter(\"ignore\")\n",
        "\n",
        "import os\n",
        "import numpy as np\n",
        "import torch\n",
        "import torch.optim as optim\n",
        "from torchvision import datasets\n",
        "from ray.tune.examples.mnist_pytorch import train, test, ConvNet, get_data_loaders\n",
        "\n",
        "import ray\n",
        "from ray import tune\n",
        "from ray.tune import track\n",
        "from ray.tune.schedulers import PopulationBasedTraining\n",
        "from ray.tune.util import validate_save_restore\n",
        "\n",
        "%matplotlib inline\n",
        "import matplotlib.style as style\n",
        "import matplotlib.pyplot as plt\n",
        "style.use(\"ggplot\")\n",
        "\n",
        "datasets.MNIST(\"~/data\", train=True, download=True)"
      ],
      "execution_count": 2,
      "outputs": [
        {
          "output_type": "stream",
          "text": [
            "  0%|          | 0/9912422 [00:00<?, ?it/s]"
          ],
          "name": "stderr"
        },
        {
          "output_type": "stream",
          "text": [
            "Downloading http://yann.lecun.com/exdb/mnist/train-images-idx3-ubyte.gz to /root/data/MNIST/raw/train-images-idx3-ubyte.gz\n"
          ],
          "name": "stdout"
        },
        {
          "output_type": "stream",
          "text": [
            "100%|█████████▉| 9912320/9912422 [02:27<00:00, 59548.43it/s]"
          ],
          "name": "stderr"
        },
        {
          "output_type": "stream",
          "text": [
            "Extracting /root/data/MNIST/raw/train-images-idx3-ubyte.gz to /root/data/MNIST/raw\n"
          ],
          "name": "stdout"
        },
        {
          "output_type": "stream",
          "text": [
            "\n",
            "0it [00:00, ?it/s]\u001b[A\n",
            "  0%|          | 0/28881 [00:00<?, ?it/s]\u001b[A"
          ],
          "name": "stderr"
        },
        {
          "output_type": "stream",
          "text": [
            "Downloading http://yann.lecun.com/exdb/mnist/train-labels-idx1-ubyte.gz to /root/data/MNIST/raw/train-labels-idx1-ubyte.gz\n"
          ],
          "name": "stdout"
        },
        {
          "output_type": "stream",
          "text": [
            "\n",
            " 57%|█████▋    | 16384/28881 [00:00<00:00, 63925.81it/s]\u001b[A\n",
            " 85%|████████▌ | 24576/28881 [00:00<00:00, 39666.63it/s]\u001b[A\n",
            "32768it [00:00, 39721.74it/s]                           \u001b[A\n",
            "0it [00:00, ?it/s]\u001b[A\n",
            "  0%|          | 0/1648877 [00:00<?, ?it/s]\u001b[A"
          ],
          "name": "stderr"
        },
        {
          "output_type": "stream",
          "text": [
            "Extracting /root/data/MNIST/raw/train-labels-idx1-ubyte.gz to /root/data/MNIST/raw\n",
            "Downloading http://yann.lecun.com/exdb/mnist/t10k-images-idx3-ubyte.gz to /root/data/MNIST/raw/t10k-images-idx3-ubyte.gz\n"
          ],
          "name": "stdout"
        },
        {
          "output_type": "stream",
          "text": [
            "\n",
            "  0%|          | 8192/1648877 [00:00<00:34, 47121.19it/s]\u001b[A\n",
            "  2%|▏         | 32768/1648877 [00:00<00:28, 56014.74it/s]\u001b[A\n",
            "  3%|▎         | 57344/1648877 [00:00<00:24, 65269.93it/s]\u001b[A\n",
            "  4%|▍         | 65536/1648877 [00:00<00:24, 63684.92it/s]\u001b[A\n",
            "  5%|▍         | 81920/1648877 [00:01<00:22, 68749.21it/s]\u001b[A\n",
            "  5%|▌         | 90112/1648877 [00:01<00:31, 48993.38it/s]\u001b[A\n",
            "  6%|▋         | 106496/1648877 [00:01<00:25, 61315.11it/s]\u001b[A\n",
            "  7%|▋         | 122880/1648877 [00:01<00:28, 54418.39it/s]\u001b[A\n",
            "  9%|▉         | 147456/1648877 [00:02<00:22, 65813.80it/s]\u001b[A\n",
            " 10%|▉         | 163840/1648877 [00:02<00:21, 68130.92it/s]\u001b[A\n",
            " 11%|█         | 180224/1648877 [00:02<00:19, 75302.15it/s]\u001b[A\n",
            " 12%|█▏        | 196608/1648877 [00:02<00:18, 77838.84it/s]\u001b[A\n",
            " 13%|█▎        | 212992/1648877 [00:02<00:19, 73873.87it/s]\u001b[A\n",
            " 14%|█▍        | 229376/1648877 [00:03<00:21, 66968.93it/s]\u001b[A\n",
            " 15%|█▍        | 245760/1648877 [00:03<00:21, 64661.74it/s]\u001b[A\n",
            " 15%|█▌        | 253952/1648877 [00:03<00:24, 56456.06it/s]\u001b[A\n",
            " 16%|█▌        | 262144/1648877 [00:03<00:25, 54011.56it/s]\u001b[A\n",
            " 16%|█▋        | 270336/1648877 [00:03<00:24, 57228.54it/s]\u001b[A\n",
            " 17%|█▋        | 278528/1648877 [00:04<00:22, 60131.84it/s]\u001b[A\n",
            " 18%|█▊        | 294912/1648877 [00:04<00:24, 55389.54it/s]\u001b[A\n",
            " 19%|█▉        | 319488/1648877 [00:04<00:20, 64535.82it/s]\u001b[A\n",
            " 20%|█▉        | 327680/1648877 [00:04<00:19, 68641.67it/s]\u001b[A\n",
            " 21%|██        | 344064/1648877 [00:04<00:17, 75401.09it/s]\u001b[A\n",
            " 22%|██▏       | 368640/1648877 [00:05<00:14, 88341.30it/s]\u001b[A\n",
            " 23%|██▎       | 385024/1648877 [00:05<00:13, 91588.24it/s]\u001b[A\n",
            " 24%|██▍       | 401408/1648877 [00:05<00:15, 82501.92it/s]\u001b[A\n",
            " 26%|██▌       | 425984/1648877 [00:05<00:12, 94821.53it/s]\u001b[A\n",
            " 27%|██▋       | 442368/1648877 [00:05<00:14, 83674.25it/s]\u001b[A\n",
            " 28%|██▊       | 466944/1648877 [00:06<00:14, 80683.21it/s]\u001b[A\n",
            " 29%|██▉       | 483328/1648877 [00:06<00:13, 85546.55it/s]\u001b[A\n",
            " 30%|███       | 499712/1648877 [00:06<00:16, 69888.67it/s]\u001b[A\n",
            " 31%|███▏      | 516096/1648877 [00:06<00:14, 76821.69it/s]\u001b[A\n",
            " 32%|███▏      | 532480/1648877 [00:07<00:19, 56786.27it/s]\u001b[A\n",
            " 34%|███▍      | 557056/1648877 [00:07<00:16, 65176.81it/s]\u001b[A\n",
            " 34%|███▍      | 565248/1648877 [00:07<00:18, 59500.61it/s]\u001b[A\n",
            " 35%|███▌      | 581632/1648877 [00:08<00:25, 41479.33it/s]\u001b[A\n",
            " 36%|███▋      | 598016/1648877 [00:08<00:24, 43667.00it/s]\u001b[A\n",
            " 37%|███▋      | 606208/1648877 [00:09<00:25, 41349.36it/s]\u001b[A\n",
            " 37%|███▋      | 614400/1648877 [00:09<00:23, 43642.18it/s]\u001b[A\n",
            " 38%|███▊      | 630784/1648877 [00:09<00:20, 48578.72it/s]\u001b[A\n",
            " 39%|███▉      | 647168/1648877 [00:09<00:20, 49099.65it/s]\u001b[A\n",
            " 40%|████      | 663552/1648877 [00:09<00:16, 60021.28it/s]\u001b[A\n",
            " 41%|████      | 671744/1648877 [00:10<00:21, 45673.56it/s]\u001b[A\n",
            " 42%|████▏     | 688128/1648877 [00:10<00:17, 54496.47it/s]\u001b[A\n",
            "9920512it [02:40, 59548.43it/s]                             \n",
            " 43%|████▎     | 712704/1648877 [00:10<00:19, 47688.06it/s]\u001b[A\n",
            " 44%|████▎     | 720896/1648877 [00:11<00:20, 45507.40it/s]\u001b[A\n",
            " 44%|████▍     | 729088/1648877 [00:11<00:31, 28847.24it/s]\u001b[A\n",
            " 45%|████▍     | 737280/1648877 [00:11<00:27, 33061.63it/s]\u001b[A\n",
            " 45%|████▌     | 745472/1648877 [00:11<00:24, 36687.75it/s]\u001b[A\n",
            " 46%|████▌     | 753664/1648877 [00:12<00:26, 34393.41it/s]\u001b[A\n",
            " 46%|████▌     | 761856/1648877 [00:12<00:23, 38008.31it/s]\u001b[A\n",
            " 47%|████▋     | 778240/1648877 [00:13<00:30, 28380.91it/s]\u001b[A\n",
            " 48%|████▊     | 794624/1648877 [00:13<00:25, 34133.08it/s]\u001b[A\n",
            " 49%|████▉     | 811008/1648877 [00:13<00:21, 38884.95it/s]\u001b[A\n",
            " 50%|█████     | 827392/1648877 [00:14<00:20, 39677.42it/s]\u001b[A\n",
            " 51%|█████     | 843776/1648877 [00:14<00:16, 48399.71it/s]\u001b[A\n",
            " 52%|█████▏    | 851968/1648877 [00:14<00:24, 32362.58it/s]\u001b[A\n",
            " 52%|█████▏    | 860160/1648877 [00:15<00:21, 36055.06it/s]\u001b[A\n",
            " 53%|█████▎    | 868352/1648877 [00:15<00:19, 39256.59it/s]\u001b[A\n",
            " 53%|█████▎    | 876544/1648877 [00:15<00:18, 42009.22it/s]\u001b[A\n",
            " 54%|█████▍    | 892928/1648877 [00:15<00:14, 50779.45it/s]\u001b[A\n",
            " 55%|█████▍    | 901120/1648877 [00:15<00:17, 43721.97it/s]\u001b[A\n",
            " 56%|█████▌    | 917504/1648877 [00:15<00:13, 52668.58it/s]\u001b[A\n",
            " 57%|█████▋    | 933888/1648877 [00:16<00:12, 55985.37it/s]\u001b[A\n",
            " 58%|█████▊    | 950272/1648877 [00:16<00:13, 53208.99it/s]\u001b[A\n",
            " 59%|█████▊    | 966656/1648877 [00:16<00:12, 56387.75it/s]\u001b[A\n",
            " 59%|█████▉    | 974848/1648877 [00:16<00:12, 53862.30it/s]\u001b[A\n",
            " 60%|█████▉    | 983040/1648877 [00:17<00:14, 45113.98it/s]\u001b[A\n",
            " 61%|██████    | 999424/1648877 [00:17<00:12, 53751.83it/s]\u001b[A\n",
            " 61%|██████    | 1007616/1648877 [00:17<00:11, 55966.17it/s]\u001b[A\n",
            " 62%|██████▏   | 1015808/1648877 [00:17<00:10, 60103.38it/s]\u001b[A\n",
            " 62%|██████▏   | 1024000/1648877 [00:17<00:12, 51439.57it/s]\u001b[A\n",
            " 63%|██████▎   | 1032192/1648877 [00:17<00:12, 51141.21it/s]\u001b[A\n",
            " 64%|██████▎   | 1048576/1648877 [00:18<00:10, 59589.69it/s]\u001b[A\n",
            " 65%|██████▍   | 1064960/1648877 [00:18<00:08, 67567.32it/s]\u001b[A\n",
            " 66%|██████▌   | 1081344/1648877 [00:18<00:08, 63414.97it/s]\u001b[A\n",
            " 67%|██████▋   | 1097728/1648877 [00:18<00:08, 61473.26it/s]\u001b[A\n",
            " 68%|██████▊   | 1114112/1648877 [00:19<00:08, 62430.87it/s]\u001b[A\n",
            " 68%|██████▊   | 1122304/1648877 [00:19<00:11, 45045.68it/s]\u001b[A\n",
            " 69%|██████▊   | 1130496/1648877 [00:19<00:11, 45851.07it/s]\u001b[A\n",
            " 69%|██████▉   | 1138688/1648877 [00:19<00:15, 33881.97it/s]\u001b[A\n",
            " 70%|██████▉   | 1146880/1648877 [00:20<00:19, 25590.64it/s]\u001b[A\n",
            " 70%|███████   | 1155072/1648877 [00:20<00:17, 28350.08it/s]\u001b[A\n",
            " 71%|███████   | 1163264/1648877 [00:20<00:14, 32558.48it/s]\u001b[A\n",
            " 71%|███████   | 1171456/1648877 [00:21<00:13, 36271.11it/s]\u001b[A\n",
            " 72%|███████▏  | 1187840/1648877 [00:21<00:10, 44851.61it/s]\u001b[A\n",
            " 73%|███████▎  | 1204224/1648877 [00:21<00:08, 53652.79it/s]\u001b[A\n",
            " 74%|███████▍  | 1220608/1648877 [00:21<00:06, 61495.48it/s]\u001b[A\n",
            " 75%|███████▍  | 1228800/1648877 [00:21<00:07, 56874.16it/s]\u001b[A\n",
            " 76%|███████▌  | 1253376/1648877 [00:21<00:05, 69939.39it/s]\u001b[A\n",
            " 77%|███████▋  | 1269760/1648877 [00:22<00:05, 64714.99it/s]\u001b[A\n",
            " 78%|███████▊  | 1286144/1648877 [00:22<00:05, 65585.07it/s]\u001b[A\n",
            " 79%|███████▉  | 1302528/1648877 [00:22<00:04, 73237.34it/s]\u001b[A\n",
            " 80%|███████▉  | 1318912/1648877 [00:22<00:04, 66377.01it/s]\u001b[A\n",
            " 81%|████████  | 1335296/1648877 [00:23<00:04, 73908.33it/s]\u001b[A\n",
            " 82%|████████▏ | 1351680/1648877 [00:23<00:05, 55445.35it/s]\u001b[A\n",
            " 82%|████████▏ | 1359872/1648877 [00:23<00:06, 42849.92it/s]\u001b[A\n",
            " 83%|████████▎ | 1368064/1648877 [00:23<00:06, 44322.88it/s]\u001b[A\n",
            " 83%|████████▎ | 1376256/1648877 [00:24<00:09, 28847.56it/s]\u001b[A\n",
            " 84%|████████▍ | 1384448/1648877 [00:25<00:13, 19512.74it/s]\u001b[A\n",
            " 84%|████████▍ | 1392640/1648877 [00:26<00:19, 12866.50it/s]\u001b[A\n",
            " 85%|████████▍ | 1400832/1648877 [00:26<00:16, 15226.83it/s]\u001b[A\n",
            " 85%|████████▌ | 1409024/1648877 [00:27<00:15, 15284.49it/s]\u001b[A\n",
            " 86%|████████▌ | 1417216/1648877 [00:27<00:13, 17176.68it/s]\u001b[A\n",
            " 86%|████████▋ | 1425408/1648877 [00:28<00:14, 15908.93it/s]\u001b[A\n",
            " 87%|████████▋ | 1433600/1648877 [00:28<00:10, 19924.62it/s]\u001b[A\n",
            " 87%|████████▋ | 1441792/1648877 [00:28<00:08, 24224.69it/s]\u001b[A\n",
            " 88%|████████▊ | 1449984/1648877 [00:28<00:08, 22517.32it/s]\u001b[A\n",
            " 89%|████████▉ | 1466368/1648877 [00:29<00:06, 27997.36it/s]\u001b[A\n",
            " 90%|████████▉ | 1482752/1648877 [00:29<00:04, 35692.38it/s]\u001b[A\n",
            " 91%|█████████ | 1499136/1648877 [00:29<00:03, 38919.80it/s]\u001b[A\n",
            " 92%|█████████▏| 1515520/1648877 [00:30<00:03, 39236.37it/s]\u001b[A\n",
            " 93%|█████████▎| 1531904/1648877 [00:30<00:02, 48020.43it/s]\u001b[A\n",
            " 93%|█████████▎| 1540096/1648877 [00:30<00:03, 29084.38it/s]\u001b[A\n",
            " 94%|█████████▍| 1548288/1648877 [00:30<00:03, 33214.19it/s]\u001b[A\n",
            " 94%|█████████▍| 1556480/1648877 [00:31<00:02, 36624.39it/s]\u001b[A\n",
            " 95%|█████████▍| 1564672/1648877 [00:31<00:02, 39844.02it/s]\u001b[A\n",
            " 96%|█████████▌| 1581056/1648877 [00:31<00:01, 48389.51it/s]\u001b[A\n",
            " 97%|█████████▋| 1597440/1648877 [00:31<00:00, 57211.46it/s]\u001b[A\n",
            " 98%|█████████▊| 1613824/1648877 [00:31<00:00, 65686.45it/s]\u001b[A\n",
            " 99%|█████████▉| 1638400/1648877 [00:31<00:00, 78981.26it/s]\u001b[A\n",
            "\n",
            "0it [00:00, ?it/s]\u001b[A\u001b[A"
          ],
          "name": "stderr"
        },
        {
          "output_type": "stream",
          "text": [
            "Extracting /root/data/MNIST/raw/t10k-images-idx3-ubyte.gz to /root/data/MNIST/raw\n",
            "Downloading http://yann.lecun.com/exdb/mnist/t10k-labels-idx1-ubyte.gz to /root/data/MNIST/raw/t10k-labels-idx1-ubyte.gz\n"
          ],
          "name": "stdout"
        },
        {
          "output_type": "stream",
          "text": [
            "\n",
            "\n",
            "  0%|          | 0/4542 [00:01<?, ?it/s]\u001b[A\u001b[A\n",
            "\n",
            "8192it [00:01, 45480.67it/s]            \u001b[A\u001b[A\n",
            "\n",
            "\u001b[A\u001b[A"
          ],
          "name": "stderr"
        },
        {
          "output_type": "stream",
          "text": [
            "Extracting /root/data/MNIST/raw/t10k-labels-idx1-ubyte.gz to /root/data/MNIST/raw\n",
            "Processing...\n",
            "Done!\n"
          ],
          "name": "stdout"
        },
        {
          "output_type": "execute_result",
          "data": {
            "text/plain": [
              "Dataset MNIST\n",
              "    Number of datapoints: 60000\n",
              "    Root location: /root/data\n",
              "    Split: Train"
            ]
          },
          "metadata": {
            "tags": []
          },
          "execution_count": 2
        }
      ]
    },
    {
      "cell_type": "markdown",
      "metadata": {
        "id": "-lmo2mvFN8dK",
        "colab_type": "text"
      },
      "source": [
        "# Setup Trainable\n"
      ]
    },
    {
      "cell_type": "markdown",
      "metadata": {
        "id": "9ofoqzgCN8dL",
        "colab_type": "text"
      },
      "source": [
        "To utilize the PopulationBasedTraining Scheduler, we will have to use Tune's more extensive Class-based API. \n",
        "\n",
        "This API will allow Tune to take intermediate actions such as checkpointing and changing the hyperparameters in the middle of training.\n",
        "\n",
        "``train()`` wraps ``_train()``.\n",
        "\n",
        "A call to ``train()`` on a trainable will execute one logical iteration of training. As a rule of thumb, the execution time of one train call should be large enough to avoid overheads (i.e. more than a few seconds), but short enough to report progress periodically (i.e. at most a few minutes).\n",
        "\n",
        "### Instructions:\n",
        "\n",
        "Add training code under ``_train`` as follows:\n",
        "\n",
        "```python\n",
        "    def _train(self):\n",
        "        train(self.model, self.optimizer, self.train_loader, device=self.device)\n",
        "        acc = test(self.model, self.test_loader, self.device)\n",
        "        return {\"mean_accuracy\": acc}\n",
        "```"
      ]
    },
    {
      "cell_type": "code",
      "metadata": {
        "id": "YBc1d39PN8dM",
        "colab_type": "code",
        "colab": {
          "base_uri": "https://localhost:8080/",
          "height": 71
        },
        "outputId": "382f9656-2f08-4e1e-92e8-538b383b563b"
      },
      "source": [
        "class PytorchTrainble(tune.Trainable):\n",
        "    def _setup(self, config):\n",
        "        self.device = torch.device(\"cpu\")\n",
        "        self.train_loader, self.test_loader = get_data_loaders()\n",
        "        self.model = ConvNet().to(self.device)\n",
        "        self.optimizer = optim.SGD(\n",
        "            self.model.parameters(),\n",
        "            lr=config.get(\"lr\", 0.01),\n",
        "            momentum=config.get(\"momentum\", 0.9))\n",
        "\n",
        "    def _train(self):\n",
        "        # TODO: Add training code here.\n",
        "        train(self.model, self.optimizer, self.train_loader, device=self.device)\n",
        "        acc = test(self.model, self.test_loader, self.device)\n",
        "        return {\"mean_accuracy\": acc}\n",
        "\n",
        "    def _save(self, checkpoint_dir):\n",
        "        checkpoint_path = os.path.join(checkpoint_dir, \"model.pth\")\n",
        "        torch.save(self.model.state_dict(), checkpoint_path)\n",
        "        return checkpoint_path\n",
        "\n",
        "    def _restore(self, checkpoint_path):\n",
        "        self.model.load_state_dict(torch.load(checkpoint_path))\n",
        "        \n",
        "    def reset_config(self, new_config):\n",
        "        del self.optimizer\n",
        "        self.optimizer = optim.SGD(\n",
        "            self.model.parameters(),\n",
        "            lr=new_config.get(\"lr\", 0.01),\n",
        "            momentum=new_config.get(\"momentum\", 0.9))\n",
        "        return True\n",
        "\n",
        "\n",
        "ray.shutdown()  # Restart Ray defensively in case the ray connection is lost. \n",
        "ray.init(log_to_driver=False)\n",
        "\n",
        "validate_save_restore(PytorchTrainble)\n",
        "validate_save_restore(PytorchTrainble, use_object_store=True)\n",
        "print(\"Success!\")"
      ],
      "execution_count": 3,
      "outputs": [
        {
          "output_type": "stream",
          "text": [
            "2019-10-17 19:41:34,398\tINFO resource_spec.py:205 -- Starting Ray with 6.05 GiB memory available for workers and up to 3.04 GiB for objects. You can adjust these settings with ray.init(memory=<bytes>, object_store_memory=<bytes>).\n"
          ],
          "name": "stderr"
        },
        {
          "output_type": "stream",
          "text": [
            "Success!\n"
          ],
          "name": "stdout"
        }
      ]
    },
    {
      "cell_type": "markdown",
      "metadata": {
        "id": "WQgPFHpLN8dP",
        "colab_type": "text"
      },
      "source": [
        "# Use population-based training with 2 samples"
      ]
    },
    {
      "cell_type": "markdown",
      "metadata": {
        "id": "vvF7VgZgN8dT",
        "colab_type": "text"
      },
      "source": [
        "PBT uses information from the rest of the population to refine the hyperparameters and direct computational resources to models which show promise. \n",
        "\n",
        "In PBT, a worker might copy the model parameters from a better performing worker. It can also explore new hyperparameters by changing the current values randomly (``hyperparam_mutations``).\n",
        "\n",
        "\n",
        "\n",
        "As the training of the population of neural networks progresses, this process of exploiting and exploring is performed periodically, ensuring that all the workers in the population have a good base level of performance and also that new hyperparameters are consistently explored.  This means that PBT can quickly exploit good hyperparameters, can dedicate more training time to promising models and, crucially, can adapt the hyperparameter values throughout training, leading to automatic learning of the best configurations."
      ]
    },
    {
      "cell_type": "code",
      "metadata": {
        "id": "6TJe1HG_N8dU",
        "colab_type": "code",
        "colab": {}
      },
      "source": [
        "scheduler = PopulationBasedTraining(\n",
        "    time_attr=\"training_iteration\",\n",
        "    metric=\"mean_accuracy\",\n",
        "    mode=\"max\",\n",
        "    perturbation_interval=5,\n",
        "    hyperparam_mutations={\n",
        "        # distribution for resampling\n",
        "        \"lr\": lambda: np.random.uniform(0.0001, 1),\n",
        "        # allow perturbations within this set of categorical values\n",
        "        \"momentum\": [0.8, 0.9, 0.99],\n",
        "    }\n",
        ")"
      ],
      "execution_count": 0,
      "outputs": []
    },
    {
      "cell_type": "code",
      "metadata": {
        "scrolled": false,
        "id": "-c9nNKQeN8dW",
        "colab_type": "code",
        "colab": {
          "base_uri": "https://localhost:8080/",
          "height": 280
        },
        "outputId": "590282de-1c7b-473b-9415-ac4f0a113434"
      },
      "source": [
        "ray.shutdown()  # Restart Ray defensively in case the ray connection is lost. \n",
        "ray.init(log_to_driver=False)\n",
        "\n",
        "\n",
        "analysis = tune.run(\n",
        "    PytorchTrainble,\n",
        "    name=\"pbt_test\",\n",
        "    scheduler=scheduler,\n",
        "    reuse_actors=True,\n",
        "    verbose=1,\n",
        "    stop={\n",
        "        \"training_iteration\": 100,\n",
        "    },\n",
        "    num_samples=4,\n",
        "    \n",
        "    # PBT starts by training many neural networks in parallel with random hyperparameters. \n",
        "    config={\n",
        "        \"lr\": tune.uniform(0.001, 1),\n",
        "        \"momentum\": tune.uniform(0.001, 1),\n",
        "    })\n"
      ],
      "execution_count": 5,
      "outputs": [
        {
          "output_type": "display_data",
          "data": {
            "text/html": [
              "== Status ==<br>Memory usage on this node: 1.5/12.7 GiB<br>PopulationBasedTraining: 24 checkpoints, 17 perturbs<br>Resources requested: 0/2 CPUs, 0/0 GPUs, 0.0/6.05 GiB heap, 0.0/2.05 GiB objects<br>Number of trials: 4 ({'TERMINATED': 4})<br>Result logdir: /root/ray_results/pbt_test<br><table>\n",
              "<thead>\n",
              "<tr><th>Trial name              </th><th>ID      </th><th>status    </th><th>loc    </th><th style=\"text-align: right;\">  momentum</th><th style=\"text-align: right;\">      lr</th><th style=\"text-align: right;\">  iter</th><th style=\"text-align: right;\">  total time (s)</th><th style=\"text-align: right;\">     acc</th></tr>\n",
              "</thead>\n",
              "<tbody>\n",
              "<tr><td>PytorchTrainble_7f816484</td><td>7f816484</td><td>TERMINATED</td><td>pid=539</td><td style=\"text-align: right;\">  0.945551</td><td style=\"text-align: right;\">0.145209</td><td style=\"text-align: right;\">   100</td><td style=\"text-align: right;\">         49.7458</td><td style=\"text-align: right;\">0.940625</td></tr>\n",
              "<tr><td>PytorchTrainble_7f82b1f4</td><td>7f82b1f4</td><td>TERMINATED</td><td>pid=515</td><td style=\"text-align: right;\">  0.584342</td><td style=\"text-align: right;\">0.111904</td><td style=\"text-align: right;\">   100</td><td style=\"text-align: right;\">         48.0581</td><td style=\"text-align: right;\">0.946875</td></tr>\n",
              "<tr><td>PytorchTrainble_7f83d1ce</td><td>7f83d1ce</td><td>TERMINATED</td><td>pid=539</td><td style=\"text-align: right;\">  0.945551</td><td style=\"text-align: right;\">0.145209</td><td style=\"text-align: right;\">   100</td><td style=\"text-align: right;\">         47.7538</td><td style=\"text-align: right;\">0.9375  </td></tr>\n",
              "<tr><td>PytorchTrainble_7f853622</td><td>7f853622</td><td>TERMINATED</td><td>pid=515</td><td style=\"text-align: right;\">  0.584342</td><td style=\"text-align: right;\">0.111904</td><td style=\"text-align: right;\">   100</td><td style=\"text-align: right;\">         47.4192</td><td style=\"text-align: right;\">0.859375</td></tr>\n",
              "</tbody>\n",
              "</table><br>"
            ],
            "text/plain": [
              "<IPython.core.display.HTML object>"
            ]
          },
          "metadata": {
            "tags": []
          }
        },
        {
          "output_type": "stream",
          "text": [
            "2019-10-17 19:46:02,089\tINFO tune.py:285 -- Returning an analysis object by default. You can call `analysis.trials` to retrieve a list of trials. This message will be removed in future versions of Tune.\n"
          ],
          "name": "stderr"
        }
      ]
    },
    {
      "cell_type": "code",
      "metadata": {
        "id": "SshKBbCMN8da",
        "colab_type": "code",
        "colab": {
          "base_uri": "https://localhost:8080/",
          "height": 326
        },
        "outputId": "e0ed0a48-5f35-4490-91ad-8ea263ee6c4e"
      },
      "source": [
        "# You can use this to visualize all mutations of Population-based Training.\n",
        "! cat ~/ray_results/pbt_test/pbt_global.txt"
      ],
      "execution_count": 6,
      "outputs": [
        {
          "output_type": "stream",
          "text": [
            "[\"2_lr=0.1119,momentum=0.58434\", \"0_lr=0.29441,momentum=0.63457\", 9, 10, {\"lr\": 0.29440642206878687, \"momentum\": 0.6345687651410256}, {\"lr\": 0.3532877064825442, \"momentum\": 0.99}]\n",
            "[\"2_lr=0.1119,momentum=0.58434\", \"1_lr=0.29348,momentum=0.4912\", 14, 15, {\"lr\": 0.2934779781878045, \"momentum\": 0.4912048219546437}, {\"lr\": 0.3521735738253654, \"momentum\": 0.9}]\n",
            "[\"2_lr=0.1119,momentum=0.58434\", \"1_lr=0.29348,momentum=0.4912\", 19, 20, {\"lr\": 0.2934779781878045, \"momentum\": 0.4912048219546437}, {\"lr\": 0.23478238255024364, \"momentum\": 0.9}]\n",
            "[\"2_lr=0.1119,momentum=0.58434\", \"0_lr=0.29441,momentum=0.63457\", 24, 25, {\"lr\": 0.29440642206878687, \"momentum\": 0.6345687651410256}, {\"lr\": 0.6819258538247831, \"momentum\": 0.99}]\n",
            "[\"2_lr=0.1119,momentum=0.58434\", \"1_lr=0.29348,momentum=0.4912\", 29, 30, {\"lr\": 0.2934779781878045, \"momentum\": 0.4912048219546437}, {\"lr\": 0.6297722494889437, \"momentum\": 0.9}]\n",
            "[\"2_lr=0.1119,momentum=0.58434\", \"1_lr=0.29348,momentum=0.4912\", 34, 35, {\"lr\": 0.2934779781878045, \"momentum\": 0.4912048219546437}, {\"lr\": 0.23478238255024364, \"momentum\": 0.9}]\n",
            "[\"2_lr=0.1119,momentum=0.58434\", \"1_lr=0.29348,momentum=0.4912\", 39, 40, {\"lr\": 0.2934779781878045, \"momentum\": 0.4912048219546437}, {\"lr\": 0.3521735738253654, \"momentum\": 0.9}]\n",
            "[\"2_lr=0.1119,momentum=0.58434\", \"1_lr=0.29348,momentum=0.4912\", 44, 45, {\"lr\": 0.2934779781878045, \"momentum\": 0.4912048219546437}, {\"lr\": 0.23478238255024364, \"momentum\": 0.8}]\n",
            "[\"3_lr=0.14521,momentum=0.94555\", \"1_lr=0.29348,momentum=0.4912\", 49, 50, {\"lr\": 0.2934779781878045, \"momentum\": 0.4912048219546437}, {\"lr\": 0.23478238255024364, \"momentum\": 0.9}]\n",
            "[\"3_lr=0.14521,momentum=0.94555\", \"1_lr=0.29348,momentum=0.4912\", 54, 55, {\"lr\": 0.2934779781878045, \"momentum\": 0.4912048219546437}, {\"lr\": 0.25330778836387874, \"momentum\": 0.8}]\n",
            "[\"3_lr=0.14521,momentum=0.94555\", \"1_lr=0.29348,momentum=0.4912\", 59, 60, {\"lr\": 0.2934779781878045, \"momentum\": 0.4912048219546437}, {\"lr\": 0.3521735738253654, \"momentum\": 0.99}]\n",
            "[\"3_lr=0.14521,momentum=0.94555\", \"2_lr=0.1119,momentum=0.58434\", 64, 65, {\"lr\": 0.23478238255024364, \"momentum\": 0.8}, {\"lr\": 0.18782590604019492, \"momentum\": 0.9}]\n",
            "[\"3_lr=0.14521,momentum=0.94555\", \"1_lr=0.29348,momentum=0.4912\", 69, 70, {\"lr\": 0.2934779781878045, \"momentum\": 0.4912048219546437}, {\"lr\": 0.3521735738253654, \"momentum\": 0.99}]\n",
            "[\"3_lr=0.14521,momentum=0.94555\", \"1_lr=0.29348,momentum=0.4912\", 74, 75, {\"lr\": 0.2934779781878045, \"momentum\": 0.4912048219546437}, {\"lr\": 0.3521735738253654, \"momentum\": 0.9}]\n",
            "[\"3_lr=0.14521,momentum=0.94555\", \"0_lr=0.29441,momentum=0.63457\", 84, 88, {\"lr\": 0.29440642206878687, \"momentum\": 0.6345687651410256}, {\"lr\": 0.3532877064825442, \"momentum\": 0.8}]\n",
            "[\"3_lr=0.14521,momentum=0.94555\", \"0_lr=0.29441,momentum=0.63457\", 89, 93, {\"lr\": 0.29440642206878687, \"momentum\": 0.6345687651410256}, {\"lr\": 0.2355251376550295, \"momentum\": 0.8}]\n",
            "[\"3_lr=0.14521,momentum=0.94555\", \"1_lr=0.29348,momentum=0.4912\", 94, 95, {\"lr\": 0.2934779781878045, \"momentum\": 0.4912048219546437}, {\"lr\": 0.23478238255024364, \"momentum\": 0.9}]\n"
          ],
          "name": "stdout"
        }
      ]
    },
    {
      "cell_type": "markdown",
      "metadata": {
        "id": "aMqgScx_N8dd",
        "colab_type": "text"
      },
      "source": [
        "# Visualizing the results of Population-based Training"
      ]
    },
    {
      "cell_type": "code",
      "metadata": {
        "id": "vGnexzrpN8de",
        "colab_type": "code",
        "colab": {
          "base_uri": "https://localhost:8080/",
          "height": 286
        },
        "outputId": "b857e940-210e-4556-c227-37caf61e25bf"
      },
      "source": [
        "# Plot by wall-clock time\n",
        "\n",
        "dfs = analysis.fetch_trial_dataframes()\n",
        "# This plots everything on the same plot\n",
        "ax = None\n",
        "for d in dfs.values():\n",
        "    ax = d.plot(\"training_iteration\", \"mean_accuracy\", ax=ax, legend=False)\n",
        "\n",
        "plt.xlabel(\"epoch\"); plt.ylabel(\"Test Accuracy\"); "
      ],
      "execution_count": 7,
      "outputs": [
        {
          "output_type": "display_data",
          "data": {
            "image/png": "[encoded data removed]",
            "text/plain": [
              "<Figure size 432x288 with 1 Axes>"
            ]
          },
          "metadata": {
            "tags": []
          }
        }
      ]
    },
    {
      "cell_type": "code",
      "metadata": {
        "id": "CzolqzT3Qi6s",
        "colab_type": "code",
        "colab": {}
      },
      "source": [
        ""
      ],
      "execution_count": 0,
      "outputs": []
    }
  ]
}