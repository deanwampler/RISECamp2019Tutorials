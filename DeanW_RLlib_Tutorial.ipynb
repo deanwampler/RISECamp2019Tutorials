{
  "nbformat": 4,
  "nbformat_minor": 0,
  "metadata": {
    "colab": {
      "name": "DeanW - RLlib Tutorial",
      "provenance": [],
      "collapsed_sections": [],
      "include_colab_link": true
    },
    "hide_code_all_hidden": false,
    "kernelspec": {
      "display_name": "Python 3",
      "language": "python",
      "name": "python3"
    },
    "language_info": {
      "codemirror_mode": {
        "name": "ipython",
        "version": 3
      },
      "file_extension": ".py",
      "mimetype": "text/x-python",
      "name": "python",
      "nbconvert_exporter": "python",
      "pygments_lexer": "ipython3",
      "version": "3.7.4"
    }
  },
  "cells": [
    {
      "cell_type": "markdown",
      "metadata": {
        "id": "view-in-github",
        "colab_type": "text"
      },
      "source": [
        "<a href=\"https://colab.research.google.com/github/deanwampler/RISECamp2019Tutorials/blob/master/DeanW_RLlib_Tutorial.ipynb\" target=\"_parent\"><img src=\"https://colab.research.google.com/assets/colab-badge.svg\" alt=\"Open In Colab\"/></a>"
      ]
    },
    {
      "cell_type": "markdown",
      "metadata": {
        "colab_type": "text",
        "id": "7ghlHAH0Nlhi"
      },
      "source": [
        "# Install Dependencies\n",
        "\n",
        "If you are running on Google Colab, you need to install the necessary dependencies before beginning the exercise."
      ]
    },
    {
      "cell_type": "code",
      "metadata": {
        "colab_type": "code",
        "id": "tHNPcnXPNlhj",
        "colab": {
          "base_uri": "https://localhost:8080/",
          "height": 1000
        },
        "outputId": "b9f44357-e087-4eaa-9943-541d16c5a2fc"
      },
      "source": [
        "print('NOTE: Intentionally crashing session to use the newly installed library.\\n')\n",
        "\n",
        "!pip uninstall -y pyarrow\n",
        "!pip install ray[debug]==0.7.5\n",
        "!pip install bs4\n",
        "\n",
        "!git clone https://github.com/ray-project/tutorial || true\n",
        "from tutorial.rllib_exercises import test_exercises\n",
        "\n",
        "print(\"Successfully installed all the dependencies!\")\n",
        "\n",
        "# A hack to force the runtime to restart, needed to include the above dependencies.\n",
        "import os\n",
        "os._exit(0)"
      ],
      "execution_count": 0,
      "outputs": [
        {
          "output_type": "stream",
          "text": [
            "NOTE: Intentionally crashing session to use the newly installed library.\n",
            "\n",
            "Uninstalling pyarrow-0.14.1:\n",
            "  Successfully uninstalled pyarrow-0.14.1\n",
            "Collecting ray[debug]==0.7.5\n",
            "\u001b[?25l  Downloading https://files.pythonhosted.org/packages/9b/e7/37a7f8dc2b1f96c760a3950d8bb5a3f14066f1699f5d004f0f6462d880c9/ray-0.7.5-cp36-cp36m-manylinux1_x86_64.whl (74.9MB)\n",
            "\u001b[K     |████████████████████████████████| 74.9MB 1.3MB/s \n",
            "\u001b[?25hCollecting protobuf>=3.8.0 (from ray[debug]==0.7.5)\n",
            "\u001b[?25l  Downloading https://files.pythonhosted.org/packages/a8/52/d8d2dbff74b8bf517c42db8d44c3f9ef6555e6f5d6caddfa3f207b9143df/protobuf-3.10.0-cp36-cp36m-manylinux1_x86_64.whl (1.3MB)\n",
            "\u001b[K     |████████████████████████████████| 1.3MB 38.0MB/s \n",
            "\u001b[?25hRequirement already satisfied: pyyaml in /usr/local/lib/python3.6/dist-packages (from ray[debug]==0.7.5) (3.13)\n",
            "Requirement already satisfied: six>=1.0.0 in /usr/local/lib/python3.6/dist-packages (from ray[debug]==0.7.5) (1.12.0)\n",
            "Collecting funcsigs (from ray[debug]==0.7.5)\n",
            "  Downloading https://files.pythonhosted.org/packages/69/cb/f5be453359271714c01b9bd06126eaf2e368f1fddfff30818754b5ac2328/funcsigs-1.0.2-py2.py3-none-any.whl\n",
            "Requirement already satisfied: filelock in /usr/local/lib/python3.6/dist-packages (from ray[debug]==0.7.5) (3.0.12)\n",
            "Requirement already satisfied: click in /usr/local/lib/python3.6/dist-packages (from ray[debug]==0.7.5) (7.0)\n",
            "Collecting colorama (from ray[debug]==0.7.5)\n",
            "  Downloading https://files.pythonhosted.org/packages/4f/a6/728666f39bfff1719fc94c481890b2106837da9318031f71a8424b662e12/colorama-0.4.1-py2.py3-none-any.whl\n",
            "Collecting redis>=3.3.2 (from ray[debug]==0.7.5)\n",
            "\u001b[?25l  Downloading https://files.pythonhosted.org/packages/32/ae/28613a62eea0d53d3db3147f8715f90da07667e99baeedf1010eb400f8c0/redis-3.3.11-py2.py3-none-any.whl (66kB)\n",
            "\u001b[K     |████████████████████████████████| 71kB 12.0MB/s \n",
            "\u001b[?25hRequirement already satisfied: jsonschema in /usr/local/lib/python3.6/dist-packages (from ray[debug]==0.7.5) (2.6.0)\n",
            "Requirement already satisfied: pytest in /usr/local/lib/python3.6/dist-packages (from ray[debug]==0.7.5) (3.6.4)\n",
            "Requirement already satisfied: numpy>=1.14 in /usr/local/lib/python3.6/dist-packages (from ray[debug]==0.7.5) (1.16.5)\n",
            "Requirement already satisfied: psutil; extra == \"debug\" in /usr/local/lib/python3.6/dist-packages (from ray[debug]==0.7.5) (5.4.8)\n",
            "Collecting setproctitle; extra == \"debug\" (from ray[debug]==0.7.5)\n",
            "  Downloading https://files.pythonhosted.org/packages/5a/0d/dc0d2234aacba6cf1a729964383e3452c52096dc695581248b548786f2b3/setproctitle-1.1.10.tar.gz\n",
            "Collecting py-spy; extra == \"debug\" (from ray[debug]==0.7.5)\n",
            "\u001b[?25l  Downloading https://files.pythonhosted.org/packages/1b/49/7cea4c6ddcec7bf944c0508f480a25c9c309c6e5b96039e3aff33a579509/py_spy-0.2.2-py2.py3-none-manylinux1_x86_64.whl (2.8MB)\n",
            "\u001b[K     |████████████████████████████████| 2.8MB 34.4MB/s \n",
            "\u001b[?25hRequirement already satisfied: setuptools in /usr/local/lib/python3.6/dist-packages (from protobuf>=3.8.0->ray[debug]==0.7.5) (41.2.0)\n",
            "Requirement already satisfied: pluggy<0.8,>=0.5 in /usr/local/lib/python3.6/dist-packages (from pytest->ray[debug]==0.7.5) (0.7.1)\n",
            "Requirement already satisfied: py>=1.5.0 in /usr/local/lib/python3.6/dist-packages (from pytest->ray[debug]==0.7.5) (1.8.0)\n",
            "Requirement already satisfied: attrs>=17.4.0 in /usr/local/lib/python3.6/dist-packages (from pytest->ray[debug]==0.7.5) (19.2.0)\n",
            "Requirement already satisfied: more-itertools>=4.0.0 in /usr/local/lib/python3.6/dist-packages (from pytest->ray[debug]==0.7.5) (7.2.0)\n",
            "Requirement already satisfied: atomicwrites>=1.0 in /usr/local/lib/python3.6/dist-packages (from pytest->ray[debug]==0.7.5) (1.3.0)\n",
            "Building wheels for collected packages: setproctitle\n",
            "  Building wheel for setproctitle (setup.py) ... \u001b[?25l\u001b[?25hdone\n",
            "  Created wheel for setproctitle: filename=setproctitle-1.1.10-cp36-cp36m-linux_x86_64.whl size=33931 sha256=968de74764b3bbbb2e367e8487aa271b834c89ff8c7fdc6041a934b8221b85d4\n",
            "  Stored in directory: /root/.cache/pip/wheels/e6/b1/a6/9719530228e258eba904501fef99d5d85c80d52bd8f14438a3\n",
            "Successfully built setproctitle\n",
            "Installing collected packages: protobuf, funcsigs, colorama, redis, setproctitle, py-spy, ray\n",
            "  Found existing installation: protobuf 3.7.1\n",
            "    Uninstalling protobuf-3.7.1:\n",
            "      Successfully uninstalled protobuf-3.7.1\n",
            "Successfully installed colorama-0.4.1 funcsigs-1.0.2 protobuf-3.10.0 py-spy-0.2.2 ray-0.7.5 redis-3.3.11 setproctitle-1.1.10\n"
          ],
          "name": "stdout"
        },
        {
          "output_type": "display_data",
          "data": {
            "application/vnd.colab-display-data+json": {
              "pip_warning": {
                "packages": [
                  "google"
                ]
              }
            }
          },
          "metadata": {
            "tags": []
          }
        },
        {
          "output_type": "stream",
          "text": [
            "Requirement already satisfied: bs4 in /usr/local/lib/python3.6/dist-packages (0.0.1)\n",
            "Requirement already satisfied: beautifulsoup4 in /usr/local/lib/python3.6/dist-packages (from bs4) (4.6.3)\n",
            "Cloning into 'tutorial'...\n",
            "remote: Enumerating objects: 36, done.\u001b[K\n",
            "remote: Counting objects: 100% (36/36), done.\u001b[K\n",
            "remote: Compressing objects: 100% (30/30), done.\u001b[K\n",
            "remote: Total 884 (delta 16), reused 14 (delta 6), pack-reused 848\n",
            "Receiving objects: 100% (884/884), 31.13 MiB | 37.90 MiB/s, done.\n",
            "Resolving deltas: 100% (481/481), done.\n"
          ],
          "name": "stdout"
        }
      ]
    },
    {
      "cell_type": "markdown",
      "metadata": {
        "colab_type": "text",
        "hideCode": false,
        "hidePrompt": false,
        "id": "bAptEafKNlhm"
      },
      "source": [
        "# RL Exercise - Markov Decision Processes\n",
        "\n",
        "**GOAL:** The goal of the exercise is to introduce the Markov Decision Process abstraction and to show how to use Markov Decision Processes in Python.\n",
        "\n",
        "**The key abstraction in reinforcement learning is the Markov decision process (MDP).** An MDP models sequential interactions with an external environment. It consists of the following:\n",
        "- a **state space**\n",
        "- a set of **actions**\n",
        "- a **transition function** which describes the probability of being in a state $s'$ at time $t+1$ given that the MDP was in state $s$ at time $t$ and action $a$ was taken\n",
        "- a **reward function**, which determines the reward received at time $t$\n",
        "- a **discount factor** $\\gamma$\n",
        "\n",
        "More details are available [here](https://en.wikipedia.org/wiki/Markov_decision_process).\n",
        "\n",
        "**NOTE:** Reinforcement learning algorithms are often applied to problems that don't strictly fit into the MDP framework. In particular, situations in which the state of the environment is not fully observed lead to violations of the MDP assumption. Nevertheless, RL algorithms can be applied anyway.\n",
        "\n",
        "## Policies\n",
        "\n",
        "A **policy** is a function that takes in a **state** and returns an **action**. A policy may be stochastic (i.e., it may sample from a probability distribution) or it can be deterministic.\n",
        "\n",
        "The **goal of reinforcement learning** is to learn a **policy** for maximizing the cumulative reward in an MDP. That is, we wish to find a policy $\\pi$ which solves the following optimization problem\n",
        "\n",
        "\\begin{equation}\n",
        "\\arg\\max_{\\pi} \\sum_{t=1}^T \\gamma^t R_t(\\pi),\n",
        "\\end{equation}\n",
        "\n",
        "where $T$ is the number of steps taken in the MDP (this is a random variable and may depend on $\\pi$) and $R_t$ is the reward received at time $t$ (also a random variable which depends on $\\pi$).\n",
        "\n",
        "A number of algorithms are available for solving reinforcement learning problems. Several of the most widely known are [value iteration](https://en.wikipedia.org/wiki/Markov_decision_process#Value_iteration), [policy iteration](https://en.wikipedia.org/wiki/Markov_decision_process#Policy_iteration), and [Q learning](https://en.wikipedia.org/wiki/Q-learning).\n",
        "\n",
        "## RL in Python\n",
        "\n",
        "The `gym` Python module provides MDP interfaces to a variety of simulators. For example, the CartPole environment interfaces with a simple simulator which simulates the physics of balancing a pole on a cart. The CartPole problem is described at https://gym.openai.com/envs/CartPole-v0. This example fits into the MDP framework as follows.\n",
        "- The **state** consists of the position and velocity of the cart as well as the angle and angular velocity of the pole that is balancing on the cart.\n",
        "- The **actions** are to decrease or increase the cart's velocity by one unit.\n",
        "- The **transition function** is deterministic and is determined by simulating physical laws.\n",
        "- The **reward function** is a constant 1 as long as the pole is upright, and 0 once the pole has fallen over. Therefore, maximizing the reward means balancing the pole for as long as possible.\n",
        "- The **discount factor** in this case can be taken to be 1.\n",
        "\n",
        "More information about the `gym` Python module is available at https://gym.openai.com/."
      ]
    },
    {
      "cell_type": "code",
      "metadata": {
        "colab_type": "code",
        "id": "a9Kwo5ZfNlhn",
        "colab": {}
      },
      "source": [
        "from __future__ import absolute_import\n",
        "from __future__ import division\n",
        "from __future__ import print_function\n",
        "\n",
        "import gym\n",
        "import numpy as np"
      ],
      "execution_count": 0,
      "outputs": []
    },
    {
      "cell_type": "markdown",
      "metadata": {
        "colab_type": "text",
        "id": "WPpofaxQNlhp"
      },
      "source": [
        "The code below illustrates how to create and manipulate MDPs in Python. An MDP can be created by calling `gym.make`. Gym environments are identified by names like `CartPole-v0`. A **catalog of built-in environments** can be found at https://gym.openai.com/envs."
      ]
    },
    {
      "cell_type": "code",
      "metadata": {
        "colab_type": "code",
        "hideCode": false,
        "hidePrompt": false,
        "id": "6DZ68SG9Nlhp",
        "colab": {
          "base_uri": "https://localhost:8080/",
          "height": 34
        },
        "outputId": "72d38a03-c67c-4dc8-8e9c-3af07a4380de"
      },
      "source": [
        "env = gym.make('CartPole-v0')\n",
        "print('Created env:', env)"
      ],
      "execution_count": 2,
      "outputs": [
        {
          "output_type": "stream",
          "text": [
            "Created env: <TimeLimit<CartPoleEnv<CartPole-v0>>>\n"
          ],
          "name": "stdout"
        }
      ]
    },
    {
      "cell_type": "markdown",
      "metadata": {
        "colab_type": "text",
        "id": "Xn5PqgDzNlhr"
      },
      "source": [
        "Reset the state of the MDP by calling `env.reset()`. This call returns the initial state of the MDP."
      ]
    },
    {
      "cell_type": "code",
      "metadata": {
        "colab_type": "code",
        "hideCode": false,
        "hidePrompt": false,
        "id": "zRA58dOFNlhs",
        "colab": {
          "base_uri": "https://localhost:8080/",
          "height": 34
        },
        "outputId": "7b83ceef-e1f1-4836-cded-ea164f1c0643"
      },
      "source": [
        "state = env.reset()\n",
        "print('The starting state is:', state)"
      ],
      "execution_count": 3,
      "outputs": [
        {
          "output_type": "stream",
          "text": [
            "The starting state is: [-0.01548261 -0.01163897 -0.00374599 -0.01113733]\n"
          ],
          "name": "stdout"
        }
      ]
    },
    {
      "cell_type": "markdown",
      "metadata": {
        "colab_type": "text",
        "id": "8MuXXesWNlhu"
      },
      "source": [
        "The `env.step` method takes an action (in the case of the CartPole environment, the appropriate actions are 0 or 1, for moving left or right). It returns a tuple of four things:\n",
        "1. the new state of the environment\n",
        "2. a reward\n",
        "3. a boolean indicating whether the simulation has finished\n",
        "4. a dictionary of miscellaneous extra information"
      ]
    },
    {
      "cell_type": "code",
      "metadata": {
        "colab_type": "code",
        "hideCode": false,
        "hidePrompt": false,
        "id": "TufVaMz_Nlhu",
        "colab": {
          "base_uri": "https://localhost:8080/",
          "height": 34
        },
        "outputId": "2e29a3e4-4d8a-4791-c4e3-cc79f7b07bb7"
      },
      "source": [
        "# Simulate taking an action in the environment. Appropriate actions for\n",
        "# the CartPole environment are 0 and 1 (for moving left and right).\n",
        "action = 0\n",
        "state, reward, done, info = env.step(action)\n",
        "print(state, reward, done, info)"
      ],
      "execution_count": 4,
      "outputs": [
        {
          "output_type": "stream",
          "text": [
            "[-0.01571539 -0.20670699 -0.00396874  0.28036134] 1.0 False {}\n"
          ],
          "name": "stdout"
        }
      ]
    },
    {
      "cell_type": "markdown",
      "metadata": {
        "colab_type": "text",
        "id": "uBIoIuWYNlhw"
      },
      "source": [
        "A **rollout** is a simulation of a policy in an environment. It alternates between choosing actions based (using some policy) and taking those actions in the environment.\n",
        "\n",
        "The code below performs a rollout in a given environment. It takes **random actions** until the simulation has finished and returns the cumulative reward."
      ]
    },
    {
      "cell_type": "code",
      "metadata": {
        "colab_type": "code",
        "id": "Zp00mr88Nlhw",
        "colab": {
          "base_uri": "https://localhost:8080/",
          "height": 51
        },
        "outputId": "f618a1ed-66d5-4ef7-f846-271a8afaf3d7"
      },
      "source": [
        "def random_rollout(env):\n",
        "    state = env.reset()\n",
        "    \n",
        "    done = False\n",
        "    cumulative_reward = 0\n",
        "\n",
        "    # Keep looping as long as the simulation has not finished.\n",
        "    while not done:\n",
        "        # Choose a random action (either 0 or 1).\n",
        "        action = np.random.choice([0, 1])\n",
        "        \n",
        "        # Take the action in the environment.\n",
        "        state, reward, done, _ = env.step(action)\n",
        "        \n",
        "        # Update the cumulative reward.\n",
        "        cumulative_reward += reward\n",
        "    \n",
        "    # Return the cumulative reward.\n",
        "    return cumulative_reward\n",
        "    \n",
        "reward = random_rollout(env)\n",
        "print(reward)\n",
        "reward = random_rollout(env)\n",
        "print(reward)"
      ],
      "execution_count": 5,
      "outputs": [
        {
          "output_type": "stream",
          "text": [
            "31.0\n",
            "17.0\n"
          ],
          "name": "stdout"
        }
      ]
    },
    {
      "cell_type": "markdown",
      "metadata": {
        "colab_type": "text",
        "id": "i3FVvEJRNlhy"
      },
      "source": [
        "**EXERCISE:** Finish implementing the `rollout_policy` function below, which should take an environment *and* a policy. The *policy* is a function that takes in a *state* and returns an *action*. The main difference is that instead of choosing a **random action**, the action should be chosen **with the policy** (as a function of the state)."
      ]
    },
    {
      "cell_type": "code",
      "metadata": {
        "colab_type": "code",
        "id": "9PgmkROqNlhy",
        "colab": {
          "base_uri": "https://localhost:8080/",
          "height": 51
        },
        "outputId": "1c0bb9ea-1ef2-46c2-a17d-d97734b0efe5"
      },
      "source": [
        "def rollout_policy(env, policy):\n",
        "    state = env.reset()\n",
        "    \n",
        "    done = False\n",
        "    cumulative_reward = 0\n",
        "\n",
        "    # EXERCISE: Fill out this function by copying the 'random_rollout' function\n",
        "    # and then modifying it to choose the action using the policy.\n",
        "    # Keep looping as long as the simulation has not finished.\n",
        "    while not done:\n",
        "        action = policy(state)\n",
        "        \n",
        "        # Take the action in the environment.\n",
        "        state, reward, done, _ = env.step(action)\n",
        "        \n",
        "        # Update the cumulative reward.\n",
        "        cumulative_reward += reward\n",
        "    \n",
        "    # Return the cumulative reward.\n",
        "    return cumulative_reward\n",
        "\n",
        "def sample_policy1(state):\n",
        "    return 0 if state[0] < 0 else 1\n",
        "\n",
        "def sample_policy2(state):\n",
        "    return 1 if state[0] < 0 else 0\n",
        "\n",
        "reward1 = np.mean([rollout_policy(env, sample_policy1) for _ in range(100)])\n",
        "reward2 = np.mean([rollout_policy(env, sample_policy2) for _ in range(100)])\n",
        "\n",
        "print('The first sample policy got an average reward of {}.'.format(reward1))\n",
        "print('The second sample policy got an average reward of {}.'.format(reward2))\n",
        "\n",
        "assert 5 < reward1 < 15, ('Make sure that rollout_policy computes the action '\n",
        "                          'by applying the policy to the state.')\n",
        "assert 25 < reward2 < 35, ('Make sure that rollout_policy computes the action '\n",
        "                           'by applying the policy to the state.')"
      ],
      "execution_count": 6,
      "outputs": [
        {
          "output_type": "stream",
          "text": [
            "The first sample policy got an average reward of 9.43.\n",
            "The second sample policy got an average reward of 28.72.\n"
          ],
          "name": "stdout"
        }
      ]
    },
    {
      "cell_type": "markdown",
      "metadata": {
        "colab_type": "text",
        "id": "qXQ8hIB9Nlh0"
      },
      "source": [
        "# RLlib Exercise 1 - Proximal Policy Optimization\n",
        "\n",
        "**GOAL:** The goal of this exercise is to demonstrate how to use the proximal policy optimization (PPO) algorithm.\n",
        "\n",
        "To understand how to use **RLlib**, see the documentation at http://rllib.io.\n",
        "\n",
        "PPO is described in detail in https://arxiv.org/abs/1707.06347. It is a variant of Trust Region Policy Optimization (TRPO) described in https://arxiv.org/abs/1502.05477\n",
        "\n",
        "PPO works in two phases. In one phase, a large number of rollouts are performed (in parallel). The rollouts are then aggregated on the driver and a surrogate optimization objective is defined based on those rollouts. We then use SGD to find the policy that maximizes that objective with a penalty term for diverging too much from the current policy.\n",
        "\n",
        "![ppo](https://raw.githubusercontent.com/ucbrise/risecamp/risecamp2018/ray/tutorial/rllib_exercises/ppo.png)\n",
        "\n",
        "**NOTE:** The SGD optimization step is best performed in a data-parallel manner over multiple GPUs. This is exposed through the `num_gpus` field of the `config` dictionary (for this to work, you must be using a machine that has GPUs)."
      ]
    },
    {
      "cell_type": "code",
      "metadata": {
        "colab_type": "code",
        "id": "d_Luh2OENlh0",
        "colab": {
          "base_uri": "https://localhost:8080/",
          "height": 700
        },
        "outputId": "042526f1-66f8-4009-e82d-2cc5daef3b7e"
      },
      "source": [
        "# Be sure to install the latest version of RLlib.\n",
        "! pip install -U ray[rllib]"
      ],
      "execution_count": 7,
      "outputs": [
        {
          "output_type": "stream",
          "text": [
            "Requirement already up-to-date: ray[rllib] in /usr/local/lib/python3.6/dist-packages (0.7.5)\n",
            "Requirement already satisfied, skipping upgrade: click in /usr/local/lib/python3.6/dist-packages (from ray[rllib]) (7.0)\n",
            "Requirement already satisfied, skipping upgrade: pytest in /usr/local/lib/python3.6/dist-packages (from ray[rllib]) (3.6.4)\n",
            "Requirement already satisfied, skipping upgrade: pyyaml in /usr/local/lib/python3.6/dist-packages (from ray[rllib]) (3.13)\n",
            "Requirement already satisfied, skipping upgrade: filelock in /usr/local/lib/python3.6/dist-packages (from ray[rllib]) (3.0.12)\n",
            "Requirement already satisfied, skipping upgrade: numpy>=1.14 in /usr/local/lib/python3.6/dist-packages (from ray[rllib]) (1.16.5)\n",
            "Requirement already satisfied, skipping upgrade: six>=1.0.0 in /usr/local/lib/python3.6/dist-packages (from ray[rllib]) (1.12.0)\n",
            "Requirement already satisfied, skipping upgrade: colorama in /usr/local/lib/python3.6/dist-packages (from ray[rllib]) (0.4.1)\n",
            "Requirement already satisfied, skipping upgrade: jsonschema in /usr/local/lib/python3.6/dist-packages (from ray[rllib]) (2.6.0)\n",
            "Requirement already satisfied, skipping upgrade: redis>=3.3.2 in /usr/local/lib/python3.6/dist-packages (from ray[rllib]) (3.3.11)\n",
            "Requirement already satisfied, skipping upgrade: funcsigs in /usr/local/lib/python3.6/dist-packages (from ray[rllib]) (1.0.2)\n",
            "Requirement already satisfied, skipping upgrade: protobuf>=3.8.0 in /usr/local/lib/python3.6/dist-packages (from ray[rllib]) (3.10.0)\n",
            "Collecting lz4; extra == \"rllib\" (from ray[rllib])\n",
            "\u001b[?25l  Downloading https://files.pythonhosted.org/packages/5d/5e/cedd32c203ce0303188b0c7ff8388bba3c33e4bf6da21ae789962c4fb2e7/lz4-2.2.1-cp36-cp36m-manylinux1_x86_64.whl (395kB)\n",
            "\u001b[K     |████████████████████████████████| 399kB 5.1MB/s \n",
            "\u001b[?25hRequirement already satisfied, skipping upgrade: scipy; extra == \"rllib\" in /usr/local/lib/python3.6/dist-packages (from ray[rllib]) (1.3.1)\n",
            "Requirement already satisfied, skipping upgrade: gym[atari]; extra == \"rllib\" in /usr/local/lib/python3.6/dist-packages (from ray[rllib]) (0.10.11)\n",
            "Collecting opencv-python-headless; extra == \"rllib\" (from ray[rllib])\n",
            "\u001b[?25l  Downloading https://files.pythonhosted.org/packages/1f/dc/b250f03ab68068033fd2356428c1357431d8ebc6a26405098e0f27c94f7a/opencv_python_headless-4.1.1.26-cp36-cp36m-manylinux1_x86_64.whl (22.1MB)\n",
            "\u001b[K     |████████████████████████████████| 22.1MB 1.6MB/s \n",
            "\u001b[?25hRequirement already satisfied, skipping upgrade: py>=1.5.0 in /usr/local/lib/python3.6/dist-packages (from pytest->ray[rllib]) (1.8.0)\n",
            "Requirement already satisfied, skipping upgrade: more-itertools>=4.0.0 in /usr/local/lib/python3.6/dist-packages (from pytest->ray[rllib]) (7.2.0)\n",
            "Requirement already satisfied, skipping upgrade: attrs>=17.4.0 in /usr/local/lib/python3.6/dist-packages (from pytest->ray[rllib]) (19.2.0)\n",
            "Requirement already satisfied, skipping upgrade: atomicwrites>=1.0 in /usr/local/lib/python3.6/dist-packages (from pytest->ray[rllib]) (1.3.0)\n",
            "Requirement already satisfied, skipping upgrade: pluggy<0.8,>=0.5 in /usr/local/lib/python3.6/dist-packages (from pytest->ray[rllib]) (0.7.1)\n",
            "Requirement already satisfied, skipping upgrade: setuptools in /usr/local/lib/python3.6/dist-packages (from pytest->ray[rllib]) (41.2.0)\n",
            "Requirement already satisfied, skipping upgrade: requests>=2.0 in /usr/local/lib/python3.6/dist-packages (from gym[atari]; extra == \"rllib\"->ray[rllib]) (2.21.0)\n",
            "Requirement already satisfied, skipping upgrade: pyglet>=1.2.0 in /usr/local/lib/python3.6/dist-packages (from gym[atari]; extra == \"rllib\"->ray[rllib]) (1.4.4)\n",
            "Requirement already satisfied, skipping upgrade: Pillow; extra == \"atari\" in /usr/local/lib/python3.6/dist-packages (from gym[atari]; extra == \"rllib\"->ray[rllib]) (4.3.0)\n",
            "Requirement already satisfied, skipping upgrade: atari-py>=0.1.4; extra == \"atari\" in /usr/local/lib/python3.6/dist-packages (from gym[atari]; extra == \"rllib\"->ray[rllib]) (0.1.15)\n",
            "Requirement already satisfied, skipping upgrade: PyOpenGL; extra == \"atari\" in /usr/local/lib/python3.6/dist-packages (from gym[atari]; extra == \"rllib\"->ray[rllib]) (3.1.0)\n",
            "Requirement already satisfied, skipping upgrade: urllib3<1.25,>=1.21.1 in /usr/local/lib/python3.6/dist-packages (from requests>=2.0->gym[atari]; extra == \"rllib\"->ray[rllib]) (1.24.3)\n",
            "Requirement already satisfied, skipping upgrade: chardet<3.1.0,>=3.0.2 in /usr/local/lib/python3.6/dist-packages (from requests>=2.0->gym[atari]; extra == \"rllib\"->ray[rllib]) (3.0.4)\n",
            "Requirement already satisfied, skipping upgrade: idna<2.9,>=2.5 in /usr/local/lib/python3.6/dist-packages (from requests>=2.0->gym[atari]; extra == \"rllib\"->ray[rllib]) (2.8)\n",
            "Requirement already satisfied, skipping upgrade: certifi>=2017.4.17 in /usr/local/lib/python3.6/dist-packages (from requests>=2.0->gym[atari]; extra == \"rllib\"->ray[rllib]) (2019.9.11)\n",
            "Requirement already satisfied, skipping upgrade: future in /usr/local/lib/python3.6/dist-packages (from pyglet>=1.2.0->gym[atari]; extra == \"rllib\"->ray[rllib]) (0.16.0)\n",
            "Requirement already satisfied, skipping upgrade: olefile in /usr/local/lib/python3.6/dist-packages (from Pillow; extra == \"atari\"->gym[atari]; extra == \"rllib\"->ray[rllib]) (0.46)\n",
            "Installing collected packages: lz4, opencv-python-headless\n",
            "Successfully installed lz4-2.2.1 opencv-python-headless-4.1.1.26\n"
          ],
          "name": "stdout"
        }
      ]
    },
    {
      "cell_type": "code",
      "metadata": {
        "colab_type": "code",
        "id": "XwPnR2ibNlh2",
        "colab": {}
      },
      "source": [
        "from __future__ import absolute_import\n",
        "from __future__ import division\n",
        "from __future__ import print_function\n",
        "\n",
        "import gym\n",
        "import ray\n",
        "from ray.rllib.agents.ppo import PPOTrainer, DEFAULT_CONFIG\n",
        "from ray.tune.logger import pretty_print"
      ],
      "execution_count": 0,
      "outputs": []
    },
    {
      "cell_type": "code",
      "metadata": {
        "colab_type": "code",
        "id": "tQFzEX2BNlh3",
        "colab": {
          "base_uri": "https://localhost:8080/",
          "height": 156
        },
        "outputId": "bdb9ee01-c52e-4ba2-af81-d7b3cf0dbb54"
      },
      "source": [
        "# Start up Ray. This must be done before we instantiate any RL agents.\n",
        "ray.init(num_cpus=3, ignore_reinit_error=True, log_to_driver=False)"
      ],
      "execution_count": 9,
      "outputs": [
        {
          "output_type": "stream",
          "text": [
            "2019-10-17 17:28:00,891\tINFO resource_spec.py:205 -- Starting Ray with 6.05 GiB memory available for workers and up to 3.05 GiB for objects. You can adjust these settings with ray.init(memory=<bytes>, object_store_memory=<bytes>).\n"
          ],
          "name": "stderr"
        },
        {
          "output_type": "execute_result",
          "data": {
            "text/plain": [
              "{'node_ip_address': '172.28.0.2',\n",
              " 'object_store_address': '/tmp/ray/session_2019-10-17_17-28-00_888926_227/sockets/plasma_store',\n",
              " 'raylet_socket_name': '/tmp/ray/session_2019-10-17_17-28-00_888926_227/sockets/raylet',\n",
              " 'redis_address': '172.28.0.2:54596',\n",
              " 'session_dir': '/tmp/ray/session_2019-10-17_17-28-00_888926_227',\n",
              " 'webui_url': None}"
            ]
          },
          "metadata": {
            "tags": []
          },
          "execution_count": 9
        }
      ]
    },
    {
      "cell_type": "markdown",
      "metadata": {
        "colab_type": "text",
        "id": "f9yhpJZVNlh5"
      },
      "source": [
        "Instantiate a PPOTrainer object. We pass in a config object that specifies how the network and training procedure should be configured. Some of the parameters are the following.\n",
        "\n",
        "- `num_workers` is the number of actors that the agent will create. This determines the degree of parallelism that will be used.\n",
        "- `num_sgd_iter` is the number of epochs of SGD (passes through the data) that will be used to optimize the PPO surrogate objective at each iteration of PPO.\n",
        "- `sgd_minibatch_size` is the SGD batch size that will be used to optimize the PPO surrogate objective.\n",
        "- `model` contains a dictionary of parameters describing the neural net used to parameterize the policy. The `fcnet_hiddens` parameter is a list of the sizes of the hidden layers."
      ]
    },
    {
      "cell_type": "code",
      "metadata": {
        "colab_type": "code",
        "id": "Ok210MCfNlh5",
        "colab": {
          "base_uri": "https://localhost:8080/",
          "height": 139
        },
        "outputId": "94ad7094-b889-4f97-b69f-a3d5f9264a62"
      },
      "source": [
        "config = DEFAULT_CONFIG.copy()\n",
        "config['num_workers'] = 1\n",
        "config['num_sgd_iter'] = 30\n",
        "config['sgd_minibatch_size'] = 128\n",
        "config['model']['fcnet_hiddens'] = [100, 100]\n",
        "config['num_cpus_per_worker'] = 0  # This avoids running out of resources in the notebook environment when this cell is re-executed\n",
        "\n",
        "agent = PPOTrainer(config, 'CartPole-v0')"
      ],
      "execution_count": 10,
      "outputs": [
        {
          "output_type": "stream",
          "text": [
            "2019-10-17 17:29:04,937\tINFO trainer.py:344 -- Tip: set 'eager': true or the --eager flag to enable TensorFlow eager execution\n",
            "2019-10-17 17:29:06,704\tINFO rollout_worker.py:768 -- Built policy map: {'default_policy': <ray.rllib.policy.tf_policy_template.PPOTFPolicy object at 0x7f482bfcd978>}\n",
            "2019-10-17 17:29:06,705\tINFO rollout_worker.py:769 -- Built preprocessor map: {'default_policy': <ray.rllib.models.preprocessors.NoPreprocessor object at 0x7f482bfcd6d8>}\n",
            "2019-10-17 17:29:06,706\tINFO rollout_worker.py:370 -- Built filter map: {'default_policy': <ray.rllib.utils.filter.NoFilter object at 0x7f482bfcd588>}\n",
            "2019-10-17 17:29:06,740\tINFO multi_gpu_optimizer.py:93 -- LocalMultiGPUOptimizer devices ['/cpu:0']\n",
            "2019-10-17 17:29:10,994\tWARNING util.py:45 -- Install gputil for GPU system monitoring.\n"
          ],
          "name": "stderr"
        }
      ]
    },
    {
      "cell_type": "markdown",
      "metadata": {
        "colab_type": "text",
        "id": "Ty1a6AWVNlh7"
      },
      "source": [
        "Train the policy on the `CartPole-v0` environment for 2 steps. The CartPole problem is described at https://gym.openai.com/envs/CartPole-v0.\n",
        "\n",
        "**EXERCISE:** Inspect how well the policy is doing by looking for the lines that say something like\n",
        "\n",
        "```\n",
        "episode_len_mean: 22.262569832402235\n",
        "episode_reward_mean: 22.262569832402235\n",
        "```\n",
        "\n",
        "This indicates how much reward the policy is receiving and how many time steps of the environment the policy ran. The maximum possible reward for this problem is 200. The reward and trajectory length are very close because the agent receives a reward of one for every time step that it survives (however, that is specific to this environment)."
      ]
    },
    {
      "cell_type": "code",
      "metadata": {
        "colab_type": "code",
        "id": "3o0wjdZ3Nlh7",
        "colab": {
          "base_uri": "https://localhost:8080/",
          "height": 1000
        },
        "outputId": "0fb42ded-ed70-4cea-f03e-4c1d671f124b"
      },
      "source": [
        "for i in range(2):\n",
        "    result = agent.train()\n",
        "    print(pretty_print(result))"
      ],
      "execution_count": 11,
      "outputs": [
        {
          "output_type": "stream",
          "text": [
            "2019-10-17 17:29:55,606\tINFO tf_policy.py:358 -- Optimizing variable <tf.Variable 'default_policy/fc_1/kernel:0' shape=(4, 100) dtype=float32>\n",
            "2019-10-17 17:29:55,610\tINFO tf_policy.py:358 -- Optimizing variable <tf.Variable 'default_policy/fc_1/bias:0' shape=(100,) dtype=float32>\n",
            "2019-10-17 17:29:55,612\tINFO tf_policy.py:358 -- Optimizing variable <tf.Variable 'default_policy/fc_value_1/kernel:0' shape=(4, 100) dtype=float32>\n",
            "2019-10-17 17:29:55,614\tINFO tf_policy.py:358 -- Optimizing variable <tf.Variable 'default_policy/fc_value_1/bias:0' shape=(100,) dtype=float32>\n",
            "2019-10-17 17:29:55,616\tINFO tf_policy.py:358 -- Optimizing variable <tf.Variable 'default_policy/fc_2/kernel:0' shape=(100, 100) dtype=float32>\n",
            "2019-10-17 17:29:55,618\tINFO tf_policy.py:358 -- Optimizing variable <tf.Variable 'default_policy/fc_2/bias:0' shape=(100,) dtype=float32>\n",
            "2019-10-17 17:29:55,620\tINFO tf_policy.py:358 -- Optimizing variable <tf.Variable 'default_policy/fc_value_2/kernel:0' shape=(100, 100) dtype=float32>\n",
            "2019-10-17 17:29:55,622\tINFO tf_policy.py:358 -- Optimizing variable <tf.Variable 'default_policy/fc_value_2/bias:0' shape=(100,) dtype=float32>\n",
            "2019-10-17 17:29:55,625\tINFO tf_policy.py:358 -- Optimizing variable <tf.Variable 'default_policy/fc_out/kernel:0' shape=(100, 2) dtype=float32>\n",
            "2019-10-17 17:29:55,626\tINFO tf_policy.py:358 -- Optimizing variable <tf.Variable 'default_policy/fc_out/bias:0' shape=(2,) dtype=float32>\n",
            "2019-10-17 17:29:55,627\tINFO tf_policy.py:358 -- Optimizing variable <tf.Variable 'default_policy/value_out/kernel:0' shape=(100, 1) dtype=float32>\n",
            "2019-10-17 17:29:55,628\tINFO tf_policy.py:358 -- Optimizing variable <tf.Variable 'default_policy/value_out/bias:0' shape=(1,) dtype=float32>\n",
            "2019-10-17 17:29:55,640\tINFO multi_gpu_impl.py:146 -- Training on concatenated sample batches:\n",
            "\n",
            "{ 'inputs': [ np.ndarray((4000,), dtype=int64, min=0.0, max=1.0, mean=0.476),\n",
            "              np.ndarray((4000,), dtype=float32, min=0.0, max=1.0, mean=0.954),\n",
            "              np.ndarray((4000, 4), dtype=float32, min=-2.622, max=2.429, mean=-0.002),\n",
            "              np.ndarray((4000,), dtype=float32, min=-0.697, max=-0.689, mean=-0.693),\n",
            "              np.ndarray((4000,), dtype=int64, min=0.0, max=1.0, mean=0.502),\n",
            "              np.ndarray((4000,), dtype=float32, min=-1.262, max=4.032, mean=0.0),\n",
            "              np.ndarray((4000, 2), dtype=float32, min=-0.009, max=0.008, mean=0.0),\n",
            "              np.ndarray((4000, 4), dtype=float32, min=-2.622, max=2.429, mean=-0.002),\n",
            "              np.ndarray((4000,), dtype=int64, min=0.0, max=1.0, mean=0.476),\n",
            "              np.ndarray((4000,), dtype=float32, min=0.0, max=1.0, mean=0.954),\n",
            "              np.ndarray((4000,), dtype=float32, min=0.992, max=49.001, mean=12.438),\n",
            "              np.ndarray((4000,), dtype=float32, min=-0.008, max=0.009, mean=-0.0)],\n",
            "  'placeholders': [ <tf.Tensor 'default_policy/action:0' shape=(?,) dtype=int64>,\n",
            "                    <tf.Tensor 'default_policy/prev_reward:0' shape=(?,) dtype=float32>,\n",
            "                    <tf.Tensor 'default_policy/observation:0' shape=(?, 4) dtype=float32>,\n",
            "                    <tf.Tensor 'default_policy/action_logp:0' shape=(?,) dtype=float32>,\n",
            "                    <tf.Tensor 'default_policy/actions:0' shape=(?,) dtype=int64>,\n",
            "                    <tf.Tensor 'default_policy/advantages:0' shape=(?,) dtype=float32>,\n",
            "                    <tf.Tensor 'default_policy/behaviour_logits:0' shape=(?, 2) dtype=float32>,\n",
            "                    <tf.Tensor 'default_policy/observation:0' shape=(?, 4) dtype=float32>,\n",
            "                    <tf.Tensor 'default_policy/action:0' shape=(?,) dtype=int64>,\n",
            "                    <tf.Tensor 'default_policy/prev_reward:0' shape=(?,) dtype=float32>,\n",
            "                    <tf.Tensor 'default_policy/value_targets:0' shape=(?,) dtype=float32>,\n",
            "                    <tf.Tensor 'default_policy/vf_preds:0' shape=(?,) dtype=float32>],\n",
            "  'state_inputs': []}\n",
            "\n",
            "2019-10-17 17:29:55,645\tINFO multi_gpu_impl.py:191 -- Divided 4000 rollout sequences, each of length 1, among 1 devices.\n"
          ],
          "name": "stderr"
        },
        {
          "output_type": "stream",
          "text": [
            "custom_metrics: {}\n",
            "date: 2019-10-17_17-30-00\n",
            "done: false\n",
            "episode_len_mean: 21.956043956043956\n",
            "episode_reward_max: 69.0\n",
            "episode_reward_mean: 21.956043956043956\n",
            "episode_reward_min: 8.0\n",
            "episodes_this_iter: 182\n",
            "episodes_total: 182\n",
            "experiment_id: 8df48c78f2e848559104268c4316f605\n",
            "hostname: 3f50239ad82f\n",
            "info:\n",
            "  grad_time_ms: 4583.987\n",
            "  learner:\n",
            "    default_policy:\n",
            "      cur_kl_coeff: 0.20000000298023224\n",
            "      cur_lr: 4.999999873689376e-05\n",
            "      entropy: 0.6629343628883362\n",
            "      entropy_coeff: 0.0\n",
            "      kl: 0.030516868457198143\n",
            "      policy_loss: -0.038631584495306015\n",
            "      total_loss: 162.85377502441406\n",
            "      vf_explained_var: 0.03283630311489105\n",
            "      vf_loss: 162.88629150390625\n",
            "  load_time_ms: 136.479\n",
            "  num_steps_sampled: 4000\n",
            "  num_steps_trained: 3968\n",
            "  sample_time_ms: 5731.56\n",
            "  update_time_ms: 1091.357\n",
            "iterations_since_restore: 1\n",
            "node_ip: 172.28.0.2\n",
            "num_healthy_workers: 1\n",
            "off_policy_estimator: {}\n",
            "perf:\n",
            "  cpu_util_percent: 21.632394366197186\n",
            "  ram_util_percent: 11.054929577464787\n",
            "pid: 227\n",
            "policy_reward_max: {}\n",
            "policy_reward_mean: {}\n",
            "policy_reward_min: {}\n",
            "sampler_perf:\n",
            "  mean_env_wait_ms: 0.08928570202725197\n",
            "  mean_inference_ms: 1.1005163848236241\n",
            "  mean_processing_ms: 0.2033032348411616\n",
            "time_since_restore: 11.664397478103638\n",
            "time_this_iter_s: 11.664397478103638\n",
            "time_total_s: 11.664397478103638\n",
            "timestamp: 1571333400\n",
            "timesteps_since_restore: 4000\n",
            "timesteps_this_iter: 4000\n",
            "timesteps_total: 4000\n",
            "training_iteration: 1\n",
            "\n",
            "custom_metrics: {}\n",
            "date: 2019-10-17_17-30-08\n",
            "done: false\n",
            "episode_len_mean: 36.34862385321101\n",
            "episode_reward_max: 125.0\n",
            "episode_reward_mean: 36.34862385321101\n",
            "episode_reward_min: 8.0\n",
            "episodes_this_iter: 109\n",
            "episodes_total: 291\n",
            "experiment_id: 8df48c78f2e848559104268c4316f605\n",
            "hostname: 3f50239ad82f\n",
            "info:\n",
            "  grad_time_ms: 4171.114\n",
            "  learner:\n",
            "    default_policy:\n",
            "      cur_kl_coeff: 0.30000001192092896\n",
            "      cur_lr: 4.999999873689376e-05\n",
            "      entropy: 0.6122984290122986\n",
            "      entropy_coeff: 0.0\n",
            "      kl: 0.018337205052375793\n",
            "      policy_loss: -0.03350381180644035\n",
            "      total_loss: 283.602294921875\n",
            "      vf_explained_var: 0.02165122516453266\n",
            "      vf_loss: 283.6302795410156\n",
            "  load_time_ms: 69.585\n",
            "  num_steps_sampled: 8000\n",
            "  num_steps_trained: 7936\n",
            "  sample_time_ms: 5104.412\n",
            "  update_time_ms: 552.555\n",
            "iterations_since_restore: 2\n",
            "node_ip: 172.28.0.2\n",
            "num_healthy_workers: 1\n",
            "off_policy_estimator: {}\n",
            "perf:\n",
            "  cpu_util_percent: 68.975\n",
            "  ram_util_percent: 11.800000000000002\n",
            "pid: 227\n",
            "policy_reward_max: {}\n",
            "policy_reward_mean: {}\n",
            "policy_reward_min: {}\n",
            "sampler_perf:\n",
            "  mean_env_wait_ms: 0.08356787237342095\n",
            "  mean_inference_ms: 0.9826712422990123\n",
            "  mean_processing_ms: 0.17878362915245039\n",
            "time_since_restore: 19.925833702087402\n",
            "time_this_iter_s: 8.261436223983765\n",
            "time_total_s: 19.925833702087402\n",
            "timestamp: 1571333408\n",
            "timesteps_since_restore: 8000\n",
            "timesteps_this_iter: 4000\n",
            "timesteps_total: 8000\n",
            "training_iteration: 2\n",
            "\n"
          ],
          "name": "stdout"
        }
      ]
    },
    {
      "cell_type": "markdown",
      "metadata": {
        "colab_type": "text",
        "id": "FPdkWLrENlh9"
      },
      "source": [
        "**EXERCISE:** The current network and training configuration are too large and heavy-duty for a simple problem like CartPole. Modify the configuration to use a smaller network and to speed up the optimization of the surrogate objective (fewer SGD iterations and a larger batch size should help)."
      ]
    },
    {
      "cell_type": "code",
      "metadata": {
        "colab_type": "code",
        "id": "3lp6tqkNNlh9",
        "colab": {
          "base_uri": "https://localhost:8080/",
          "height": 241
        },
        "outputId": "8c59ab78-76e2-4c8e-ada2-147772069fd6"
      },
      "source": [
        "config = DEFAULT_CONFIG.copy()\n",
        "config['num_workers'] = 5\n",
        "config['num_sgd_iter'] = 20\n",
        "config['sgd_minibatch_size'] = 256\n",
        "config['model']['fcnet_hiddens'] = [20, 20, 20]\n",
        "config['num_cpus_per_worker'] = 0\n",
        "\n",
        "agent = PPOTrainer(config, 'CartPole-v0')"
      ],
      "execution_count": 30,
      "outputs": [
        {
          "output_type": "stream",
          "text": [
            "2019-10-17 17:45:58,008\tINFO trainer.py:344 -- Tip: set 'eager': true or the --eager flag to enable TensorFlow eager execution\n",
            "2019-10-17 17:45:59,451\tINFO rollout_worker.py:768 -- Built policy map: {'default_policy': <ray.rllib.policy.tf_policy_template.PPOTFPolicy object at 0x7f4754c10eb8>}\n",
            "2019-10-17 17:45:59,453\tINFO rollout_worker.py:769 -- Built preprocessor map: {'default_policy': <ray.rllib.models.preprocessors.NoPreprocessor object at 0x7f4754c10dd8>}\n",
            "2019-10-17 17:45:59,460\tINFO rollout_worker.py:370 -- Built filter map: {'default_policy': <ray.rllib.utils.filter.NoFilter object at 0x7f4752fc7ef0>}\n",
            "2019-10-17 17:45:59,526\tWARNING worker.py:1779 -- WARNING: 12 PYTHON workers have been started. This could be a result of using a large number of actors, or it could be a consequence of using nested tasks (see https://github.com/ray-project/ray/issues/3644) for some a discussion of workarounds.\n",
            "2019-10-17 17:45:59,577\tWARNING worker.py:1779 -- WARNING: 13 PYTHON workers have been started. This could be a result of using a large number of actors, or it could be a consequence of using nested tasks (see https://github.com/ray-project/ray/issues/3644) for some a discussion of workarounds.\n",
            "2019-10-17 17:45:59,713\tINFO multi_gpu_optimizer.py:93 -- LocalMultiGPUOptimizer devices ['/cpu:0']\n",
            "2019-10-17 17:46:03,495\tWARNING worker.py:1779 -- WARNING: 14 PYTHON workers have been started. This could be a result of using a large number of actors, or it could be a consequence of using nested tasks (see https://github.com/ray-project/ray/issues/3644) for some a discussion of workarounds.\n",
            "2019-10-17 17:46:03,496\tWARNING worker.py:1779 -- WARNING: 15 PYTHON workers have been started. This could be a result of using a large number of actors, or it could be a consequence of using nested tasks (see https://github.com/ray-project/ray/issues/3644) for some a discussion of workarounds.\n",
            "2019-10-17 17:46:08,450\tWARNING worker.py:1779 -- WARNING: 16 PYTHON workers have been started. This could be a result of using a large number of actors, or it could be a consequence of using nested tasks (see https://github.com/ray-project/ray/issues/3644) for some a discussion of workarounds.\n",
            "2019-10-17 17:46:16,729\tINFO trainable.py:102 -- _setup took 18.705 seconds. If your trainable is slow to initialize, consider setting reuse_actors=True to reduce actor creation overheads.\n",
            "2019-10-17 17:46:16,733\tWARNING util.py:45 -- Install gputil for GPU system monitoring.\n"
          ],
          "name": "stderr"
        }
      ]
    },
    {
      "cell_type": "markdown",
      "metadata": {
        "colab_type": "text",
        "id": "64FmVP7kNlh_"
      },
      "source": [
        "**EXERCISE:** Train the agent and try to get a reward of 200. If it's training too slowly you may need to modify the config above to use fewer hidden units, a larger `sgd_minibatch_size`, a smaller `num_sgd_iter`, or a larger `num_workers`.\n",
        "\n",
        "This should take around 20 or 30 training iterations."
      ]
    },
    {
      "cell_type": "code",
      "metadata": {
        "colab_type": "code",
        "id": "XB7sdKUzNliA",
        "colab": {
          "base_uri": "https://localhost:8080/",
          "height": 1000
        },
        "outputId": "7ac4dc0a-074f-4f5a-9116-cdca49ea0c96"
      },
      "source": [
        "for i in range(5):\n",
        "    result = agent.train()\n",
        "    print(pretty_print(result))"
      ],
      "execution_count": 32,
      "outputs": [
        {
          "output_type": "stream",
          "text": [
            "custom_metrics: {}\n",
            "date: 2019-10-17_17-46-58\n",
            "done: false\n",
            "episode_len_mean: 44.6\n",
            "episode_reward_max: 163.0\n",
            "episode_reward_mean: 44.6\n",
            "episode_reward_min: 9.0\n",
            "episodes_this_iter: 84\n",
            "episodes_total: 408\n",
            "experiment_id: 29a5ea6fb1d34f21806dc3808f85f75d\n",
            "hostname: 3f50239ad82f\n",
            "info:\n",
            "  grad_time_ms: 1185.373\n",
            "  learner:\n",
            "    default_policy:\n",
            "      cur_kl_coeff: 0.20000000298023224\n",
            "      cur_lr: 4.999999873689376e-05\n",
            "      entropy: 0.6088184118270874\n",
            "      entropy_coeff: 0.0\n",
            "      kl: 0.012102948501706123\n",
            "      policy_loss: -0.019876277074217796\n",
            "      total_loss: 774.8694458007812\n",
            "      vf_explained_var: 0.006450927350670099\n",
            "      vf_loss: 774.8869018554688\n",
            "  load_time_ms: 43.065\n",
            "  num_steps_sampled: 12000\n",
            "  num_steps_trained: 11520\n",
            "  sample_time_ms: 4237.388\n",
            "  update_time_ms: 2052.844\n",
            "iterations_since_restore: 3\n",
            "node_ip: 172.28.0.2\n",
            "num_healthy_workers: 5\n",
            "off_policy_estimator: {}\n",
            "perf:\n",
            "  cpu_util_percent: 32.95925925925926\n",
            "  ram_util_percent: 25.770370370370365\n",
            "pid: 227\n",
            "policy_reward_max: {}\n",
            "policy_reward_mean: {}\n",
            "policy_reward_min: {}\n",
            "sampler_perf:\n",
            "  mean_env_wait_ms: 0.18315092980547337\n",
            "  mean_inference_ms: 4.3876051832256415\n",
            "  mean_processing_ms: 0.5143751699535065\n",
            "time_since_restore: 22.74679183959961\n",
            "time_this_iter_s: 5.053022623062134\n",
            "time_total_s: 22.74679183959961\n",
            "timestamp: 1571334418\n",
            "timesteps_since_restore: 12000\n",
            "timesteps_this_iter: 4000\n",
            "timesteps_total: 12000\n",
            "training_iteration: 3\n",
            "\n",
            "custom_metrics: {}\n",
            "date: 2019-10-17_17-47-03\n",
            "done: false\n",
            "episode_len_mean: 57.65\n",
            "episode_reward_max: 200.0\n",
            "episode_reward_mean: 57.65\n",
            "episode_reward_min: 10.0\n",
            "episodes_this_iter: 57\n",
            "episodes_total: 465\n",
            "experiment_id: 29a5ea6fb1d34f21806dc3808f85f75d\n",
            "hostname: 3f50239ad82f\n",
            "info:\n",
            "  grad_time_ms: 1155.871\n",
            "  learner:\n",
            "    default_policy:\n",
            "      cur_kl_coeff: 0.20000000298023224\n",
            "      cur_lr: 4.999999873689376e-05\n",
            "      entropy: 0.5916292071342468\n",
            "      entropy_coeff: 0.0\n",
            "      kl: 0.009038382209837437\n",
            "      policy_loss: -0.008727255277335644\n",
            "      total_loss: 1197.09521484375\n",
            "      vf_explained_var: 0.008465846069157124\n",
            "      vf_loss: 1197.10205078125\n",
            "  load_time_ms: 32.803\n",
            "  num_steps_sampled: 16000\n",
            "  num_steps_trained: 15360\n",
            "  sample_time_ms: 4180.255\n",
            "  update_time_ms: 1542.849\n",
            "iterations_since_restore: 4\n",
            "node_ip: 172.28.0.2\n",
            "num_healthy_workers: 5\n",
            "off_policy_estimator: {}\n",
            "perf:\n",
            "  cpu_util_percent: 94.32857142857144\n",
            "  ram_util_percent: 25.800000000000004\n",
            "pid: 227\n",
            "policy_reward_max: {}\n",
            "policy_reward_mean: {}\n",
            "policy_reward_min: {}\n",
            "sampler_perf:\n",
            "  mean_env_wait_ms: 0.18071449537035222\n",
            "  mean_inference_ms: 4.321620387112533\n",
            "  mean_processing_ms: 0.5032702232007644\n",
            "time_since_restore: 27.85985279083252\n",
            "time_this_iter_s: 5.11306095123291\n",
            "time_total_s: 27.85985279083252\n",
            "timestamp: 1571334423\n",
            "timesteps_since_restore: 16000\n",
            "timesteps_this_iter: 4000\n",
            "timesteps_total: 16000\n",
            "training_iteration: 4\n",
            "\n",
            "custom_metrics: {}\n",
            "date: 2019-10-17_17-47-08\n",
            "done: false\n",
            "episode_len_mean: 81.44\n",
            "episode_reward_max: 200.0\n",
            "episode_reward_mean: 81.44\n",
            "episode_reward_min: 18.0\n",
            "episodes_this_iter: 35\n",
            "episodes_total: 500\n",
            "experiment_id: 29a5ea6fb1d34f21806dc3808f85f75d\n",
            "hostname: 3f50239ad82f\n",
            "info:\n",
            "  grad_time_ms: 1121.209\n",
            "  learner:\n",
            "    default_policy:\n",
            "      cur_kl_coeff: 0.20000000298023224\n",
            "      cur_lr: 4.999999873689376e-05\n",
            "      entropy: 0.5553262829780579\n",
            "      entropy_coeff: 0.0\n",
            "      kl: 0.008131096139550209\n",
            "      policy_loss: -0.01172224897891283\n",
            "      total_loss: 1647.7020263671875\n",
            "      vf_explained_var: 0.006576077081263065\n",
            "      vf_loss: 1647.7122802734375\n",
            "  load_time_ms: 26.699\n",
            "  num_steps_sampled: 20000\n",
            "  num_steps_trained: 19200\n",
            "  sample_time_ms: 4151.849\n",
            "  update_time_ms: 1238.637\n",
            "iterations_since_restore: 5\n",
            "node_ip: 172.28.0.2\n",
            "num_healthy_workers: 5\n",
            "off_policy_estimator: {}\n",
            "perf:\n",
            "  cpu_util_percent: 91.8125\n",
            "  ram_util_percent: 25.8\n",
            "pid: 227\n",
            "policy_reward_max: {}\n",
            "policy_reward_mean: {}\n",
            "policy_reward_min: {}\n",
            "sampler_perf:\n",
            "  mean_env_wait_ms: 0.1794602203531064\n",
            "  mean_inference_ms: 4.298637906656787\n",
            "  mean_processing_ms: 0.4977958253246584\n",
            "time_since_restore: 32.923476696014404\n",
            "time_this_iter_s: 5.063623905181885\n",
            "time_total_s: 32.923476696014404\n",
            "timestamp: 1571334428\n",
            "timesteps_since_restore: 20000\n",
            "timesteps_this_iter: 4000\n",
            "timesteps_total: 20000\n",
            "training_iteration: 5\n",
            "\n",
            "custom_metrics: {}\n",
            "date: 2019-10-17_17-47-13\n",
            "done: false\n",
            "episode_len_mean: 105.19\n",
            "episode_reward_max: 200.0\n",
            "episode_reward_mean: 105.19\n",
            "episode_reward_min: 18.0\n",
            "episodes_this_iter: 26\n",
            "episodes_total: 526\n",
            "experiment_id: 29a5ea6fb1d34f21806dc3808f85f75d\n",
            "hostname: 3f50239ad82f\n",
            "info:\n",
            "  grad_time_ms: 1099.779\n",
            "  learner:\n",
            "    default_policy:\n",
            "      cur_kl_coeff: 0.20000000298023224\n",
            "      cur_lr: 4.999999873689376e-05\n",
            "      entropy: 0.5814546942710876\n",
            "      entropy_coeff: 0.0\n",
            "      kl: 0.0007818339508958161\n",
            "      policy_loss: -0.0013860188191756606\n",
            "      total_loss: 2139.875732421875\n",
            "      vf_explained_var: 0.0037971376441419125\n",
            "      vf_loss: 2139.877197265625\n",
            "  load_time_ms: 22.593\n",
            "  num_steps_sampled: 24000\n",
            "  num_steps_trained: 23040\n",
            "  sample_time_ms: 4118.315\n",
            "  update_time_ms: 1036.04\n",
            "iterations_since_restore: 6\n",
            "node_ip: 172.28.0.2\n",
            "num_healthy_workers: 5\n",
            "off_policy_estimator: {}\n",
            "perf:\n",
            "  cpu_util_percent: 94.34285714285714\n",
            "  ram_util_percent: 25.800000000000004\n",
            "pid: 227\n",
            "policy_reward_max: {}\n",
            "policy_reward_mean: {}\n",
            "policy_reward_min: {}\n",
            "sampler_perf:\n",
            "  mean_env_wait_ms: 0.17840194778928053\n",
            "  mean_inference_ms: 4.279560417909623\n",
            "  mean_processing_ms: 0.4967067177556086\n",
            "time_since_restore: 37.91044473648071\n",
            "time_this_iter_s: 4.986968040466309\n",
            "time_total_s: 37.91044473648071\n",
            "timestamp: 1571334433\n",
            "timesteps_since_restore: 24000\n",
            "timesteps_this_iter: 4000\n",
            "timesteps_total: 24000\n",
            "training_iteration: 6\n",
            "\n",
            "custom_metrics: {}\n",
            "date: 2019-10-17_17-47-18\n",
            "done: false\n",
            "episode_len_mean: 128.82\n",
            "episode_reward_max: 200.0\n",
            "episode_reward_mean: 128.82\n",
            "episode_reward_min: 23.0\n",
            "episodes_this_iter: 22\n",
            "episodes_total: 548\n",
            "experiment_id: 29a5ea6fb1d34f21806dc3808f85f75d\n",
            "hostname: 3f50239ad82f\n",
            "info:\n",
            "  grad_time_ms: 1086.831\n",
            "  learner:\n",
            "    default_policy:\n",
            "      cur_kl_coeff: 0.10000000149011612\n",
            "      cur_lr: 4.999999873689376e-05\n",
            "      entropy: 0.5666185021400452\n",
            "      entropy_coeff: 0.0\n",
            "      kl: 0.00428156740963459\n",
            "      policy_loss: -0.002871926175430417\n",
            "      total_loss: 2164.817626953125\n",
            "      vf_explained_var: 0.0022689818870276213\n",
            "      vf_loss: 2164.820068359375\n",
            "  load_time_ms: 19.657\n",
            "  num_steps_sampled: 28000\n",
            "  num_steps_trained: 26880\n",
            "  sample_time_ms: 4096.9\n",
            "  update_time_ms: 889.201\n",
            "iterations_since_restore: 7\n",
            "node_ip: 172.28.0.2\n",
            "num_healthy_workers: 5\n",
            "off_policy_estimator: {}\n",
            "perf:\n",
            "  cpu_util_percent: 94.88571428571427\n",
            "  ram_util_percent: 25.800000000000004\n",
            "pid: 227\n",
            "policy_reward_max: {}\n",
            "policy_reward_mean: {}\n",
            "policy_reward_min: {}\n",
            "sampler_perf:\n",
            "  mean_env_wait_ms: 0.1787129023700424\n",
            "  mean_inference_ms: 4.268139748458878\n",
            "  mean_processing_ms: 0.49339140742768534\n",
            "time_since_restore: 42.913546562194824\n",
            "time_this_iter_s: 5.003101825714111\n",
            "time_total_s: 42.913546562194824\n",
            "timestamp: 1571334438\n",
            "timesteps_since_restore: 28000\n",
            "timesteps_this_iter: 4000\n",
            "timesteps_total: 28000\n",
            "training_iteration: 7\n",
            "\n"
          ],
          "name": "stdout"
        }
      ]
    },
    {
      "cell_type": "markdown",
      "metadata": {
        "colab_type": "text",
        "id": "PW6bN9CYNliB"
      },
      "source": [
        "Checkpoint the current model. The call to `agent.save()` returns the path to the checkpointed model and can be used later to restore the model."
      ]
    },
    {
      "cell_type": "code",
      "metadata": {
        "colab_type": "code",
        "id": "6uf808LMNliC",
        "colab": {
          "base_uri": "https://localhost:8080/",
          "height": 34
        },
        "outputId": "bd61952c-2c58-443d-92c6-22f38b5d11f9"
      },
      "source": [
        "checkpoint_path = agent.save()\n",
        "print(checkpoint_path)"
      ],
      "execution_count": 33,
      "outputs": [
        {
          "output_type": "stream",
          "text": [
            "/root/ray_results/PPO_CartPole-v0_2019-10-17_17-45-582kkrslhm/checkpoint_7/checkpoint-7\n"
          ],
          "name": "stdout"
        }
      ]
    },
    {
      "cell_type": "markdown",
      "metadata": {
        "colab_type": "text",
        "id": "05icI8bfNliD"
      },
      "source": [
        "Now let's use the trained policy to make predictions.\n",
        "\n",
        "**NOTE:** Here we are loading the trained policy in the same process, but in practice, this would often be done in a different process (probably on a different machine)."
      ]
    },
    {
      "cell_type": "code",
      "metadata": {
        "colab_type": "code",
        "id": "8Qq2_AYVNliE",
        "colab": {
          "base_uri": "https://localhost:8080/",
          "height": 275
        },
        "outputId": "32540252-d7b9-4496-9b45-8bdcb3d0fc01"
      },
      "source": [
        "trained_config = config.copy()\n",
        "\n",
        "test_agent = PPOTrainer(trained_config, 'CartPole-v0')\n",
        "test_agent.restore(checkpoint_path)"
      ],
      "execution_count": 34,
      "outputs": [
        {
          "output_type": "stream",
          "text": [
            "2019-10-17 17:53:16,069\tINFO trainer.py:344 -- Tip: set 'eager': true or the --eager flag to enable TensorFlow eager execution\n",
            "2019-10-17 17:53:17,538\tINFO rollout_worker.py:768 -- Built policy map: {'default_policy': <ray.rllib.policy.tf_policy_template.PPOTFPolicy object at 0x7f47502de6d8>}\n",
            "2019-10-17 17:53:17,539\tINFO rollout_worker.py:769 -- Built preprocessor map: {'default_policy': <ray.rllib.models.preprocessors.NoPreprocessor object at 0x7f47502deda0>}\n",
            "2019-10-17 17:53:17,540\tINFO rollout_worker.py:370 -- Built filter map: {'default_policy': <ray.rllib.utils.filter.NoFilter object at 0x7f47502de278>}\n",
            "2019-10-17 17:53:17,605\tWARNING worker.py:1779 -- WARNING: 12 PYTHON workers have been started. This could be a result of using a large number of actors, or it could be a consequence of using nested tasks (see https://github.com/ray-project/ray/issues/3644) for some a discussion of workarounds.\n",
            "2019-10-17 17:53:17,656\tWARNING worker.py:1779 -- WARNING: 13 PYTHON workers have been started. This could be a result of using a large number of actors, or it could be a consequence of using nested tasks (see https://github.com/ray-project/ray/issues/3644) for some a discussion of workarounds.\n",
            "2019-10-17 17:53:17,789\tINFO multi_gpu_optimizer.py:93 -- LocalMultiGPUOptimizer devices ['/cpu:0']\n",
            "2019-10-17 17:53:21,735\tWARNING worker.py:1779 -- WARNING: 14 PYTHON workers have been started. This could be a result of using a large number of actors, or it could be a consequence of using nested tasks (see https://github.com/ray-project/ray/issues/3644) for some a discussion of workarounds.\n",
            "2019-10-17 17:53:21,740\tWARNING worker.py:1779 -- WARNING: 15 PYTHON workers have been started. This could be a result of using a large number of actors, or it could be a consequence of using nested tasks (see https://github.com/ray-project/ray/issues/3644) for some a discussion of workarounds.\n",
            "2019-10-17 17:53:27,203\tWARNING worker.py:1779 -- WARNING: 16 PYTHON workers have been started. This could be a result of using a large number of actors, or it could be a consequence of using nested tasks (see https://github.com/ray-project/ray/issues/3644) for some a discussion of workarounds.\n",
            "2019-10-17 17:53:34,424\tINFO trainable.py:102 -- _setup took 18.329 seconds. If your trainable is slow to initialize, consider setting reuse_actors=True to reduce actor creation overheads.\n",
            "2019-10-17 17:53:34,435\tWARNING util.py:45 -- Install gputil for GPU system monitoring.\n",
            "2019-10-17 17:53:35,494\tINFO trainable.py:358 -- Restored from checkpoint: /root/ray_results/PPO_CartPole-v0_2019-10-17_17-45-582kkrslhm/checkpoint_7/checkpoint-7\n",
            "2019-10-17 17:53:35,509\tINFO trainable.py:365 -- Current state after restoring: {'_iteration': 7, '_timesteps_total': 28000, '_time_total': 42.913546562194824, '_episodes_total': 548}\n"
          ],
          "name": "stderr"
        }
      ]
    },
    {
      "cell_type": "markdown",
      "metadata": {
        "colab_type": "text",
        "id": "c2gUUlqkNliG"
      },
      "source": [
        "Now use the trained policy to act in an environment. The key line is the call to `test_agent.compute_action(state)` which uses the trained policy to choose an action.\n",
        "\n",
        "**EXERCISE:** Verify that the reward received roughly matches up with the reward printed in the training logs."
      ]
    },
    {
      "cell_type": "code",
      "metadata": {
        "colab_type": "code",
        "id": "9asL5Z5lNliH",
        "colab": {
          "base_uri": "https://localhost:8080/",
          "height": 71
        },
        "outputId": "14032109-d3d4-41fc-866a-d076f8e0937b"
      },
      "source": [
        "env = gym.make('CartPole-v0')\n",
        "state = env.reset()\n",
        "done = False\n",
        "cumulative_reward = 0\n",
        "\n",
        "while not done:\n",
        "    action = test_agent.compute_action(state)\n",
        "    state, reward, done, _ = env.step(action)\n",
        "    cumulative_reward += reward\n",
        "\n",
        "print(cumulative_reward)"
      ],
      "execution_count": 35,
      "outputs": [
        {
          "output_type": "stream",
          "text": [
            "2019-10-17 17:54:02,254\tINFO tf_run_builder.py:92 -- Executing TF run without tracing. To dump TF timeline traces to disk, set the TF_TIMELINE_DIR environment variable.\n"
          ],
          "name": "stderr"
        },
        {
          "output_type": "stream",
          "text": [
            "161.0\n"
          ],
          "name": "stdout"
        }
      ]
    },
    {
      "cell_type": "markdown",
      "metadata": {
        "colab_type": "text",
        "id": "iB1ORu-yNliJ"
      },
      "source": [
        "# RLlib Exercise 2 - Custom Environments and Reward Shaping\n",
        "\n",
        "**GOAL:** The goal of this exercise is to demonstrate how to adapt your own problem to use RLlib.\n",
        "\n",
        "To understand how to use **RLlib**, see the documentation at http://rllib.io.\n",
        "\n",
        "RLlib is not only easy to use in simulated benchmarks but also in the real-world. Here, we will cover two important concepts: how to create your own Markov Decision Process abstraction, and how to shape the reward of your environment so make your agent more effective. "
      ]
    },
    {
      "cell_type": "code",
      "metadata": {
        "colab_type": "code",
        "id": "Csnr34cnNliK",
        "colab": {
          "base_uri": "https://localhost:8080/",
          "height": 34
        },
        "outputId": "433eddcd-a091-4e4a-df44-800be6c20df3"
      },
      "source": [
        "from __future__ import absolute_import\n",
        "from __future__ import division\n",
        "from __future__ import print_function\n",
        "\n",
        "import gym\n",
        "from gym import spaces\n",
        "import numpy as np\n",
        "from tutorial.rllib_exercises import test_exercises\n",
        "\n",
        "import ray\n",
        "from ray.rllib.agents.ppo import PPOTrainer, DEFAULT_CONFIG\n",
        "\n",
        "ray.init(ignore_reinit_error=True, log_to_driver=False)"
      ],
      "execution_count": 36,
      "outputs": [
        {
          "output_type": "stream",
          "text": [
            "2019-10-17 17:54:47,301\tERROR worker.py:1432 -- Calling ray.init() again after it has already been called.\n"
          ],
          "name": "stderr"
        }
      ]
    },
    {
      "cell_type": "markdown",
      "metadata": {
        "colab_type": "text",
        "id": "Wg0Xb06MNliM"
      },
      "source": [
        "## 1. Different Spaces\n",
        "\n",
        "The first thing to do when formulating an RL problem is to specify the dimensions of your observation space and action space. Abstractions for these are provided in ``gym``. \n",
        "\n",
        "### **Exercise 1:** Match different actions to their corresponding space.\n",
        "\n",
        "The purpose of this exercise is to familiarize you with different Gym spaces. For example:\n",
        "\n",
        "    discrete = spaces.Discrete(10)\n",
        "    print(\"Random sample of this space: \", [discrete.sample() for i in range(4)])\n",
        "\n",
        "Use `help(spaces)` or `help([specific space])` (i.e., `help(spaces.Discrete)`) for more info."
      ]
    },
    {
      "cell_type": "code",
      "metadata": {
        "colab_type": "code",
        "id": "7RfODlKgNliM",
        "colab": {
          "base_uri": "https://localhost:8080/",
          "height": 286
        },
        "outputId": "84548055-a521-4c3a-806b-2a628441e7f6"
      },
      "source": [
        "action_space_map = {\n",
        "    \"discrete_10\": spaces.Discrete(10),\n",
        "    \"box_1\": spaces.Box(0, 1, shape=(1,)),\n",
        "    \"box_3x1\": spaces.Box(-2, 2, shape=(3, 1)),\n",
        "    \"multi_discrete\": spaces.MultiDiscrete([ 5, 2, 2, 4 ])\n",
        "}\n",
        "\n",
        "action_space_jumble = {\n",
        "    \"discrete_10\": action_space_map[\"discrete_10\"],\n",
        "    \"box_1\": spaces.Box(0, 1, shape=(1,)),\n",
        "    \"box_3x1\": spaces.Box(-2, 2, shape=(3,1)),\n",
        "    \"multi_discrete\": spaces.MultiDiscrete([5,2,2,4])\n",
        "}\n",
        "\n",
        "\n",
        "for space_id, state in action_space_jumble.items():\n",
        "    assert action_space_map[space_id].contains(state), (\n",
        "        \"Looks like {} to {} is matched incorrectly.\".format(space_id, state))\n",
        "    \n",
        "print(\"Success!\")"
      ],
      "execution_count": 41,
      "outputs": [
        {
          "output_type": "stream",
          "text": [
            "/usr/local/lib/python3.6/dist-packages/gym/logger.py:30: UserWarning: \u001b[33mWARN: gym.spaces.Box autodetected dtype as <class 'numpy.float32'>. Please provide explicit dtype.\u001b[0m\n",
            "  warnings.warn(colorize('%s: %s'%('WARN', msg % args), 'yellow'))\n"
          ],
          "name": "stderr"
        },
        {
          "output_type": "error",
          "ename": "AssertionError",
          "evalue": "ignored",
          "traceback": [
            "\u001b[0;31m---------------------------------------------------------------------------\u001b[0m",
            "\u001b[0;31mAssertionError\u001b[0m                            Traceback (most recent call last)",
            "\u001b[0;32m<ipython-input-41-a062fc3f64d5>\u001b[0m in \u001b[0;36m<module>\u001b[0;34m()\u001b[0m\n\u001b[1;32m     16\u001b[0m \u001b[0;32mfor\u001b[0m \u001b[0mspace_id\u001b[0m\u001b[0;34m,\u001b[0m \u001b[0mstate\u001b[0m \u001b[0;32min\u001b[0m \u001b[0maction_space_jumble\u001b[0m\u001b[0;34m.\u001b[0m\u001b[0mitems\u001b[0m\u001b[0;34m(\u001b[0m\u001b[0;34m)\u001b[0m\u001b[0;34m:\u001b[0m\u001b[0;34m\u001b[0m\u001b[0;34m\u001b[0m\u001b[0m\n\u001b[1;32m     17\u001b[0m     assert action_space_map[space_id].contains(state), (\n\u001b[0;32m---> 18\u001b[0;31m         \"Looks like {} to {} is matched incorrectly.\".format(space_id, state))\n\u001b[0m\u001b[1;32m     19\u001b[0m \u001b[0;34m\u001b[0m\u001b[0m\n\u001b[1;32m     20\u001b[0m \u001b[0mprint\u001b[0m\u001b[0;34m(\u001b[0m\u001b[0;34m\"Success!\"\u001b[0m\u001b[0;34m)\u001b[0m\u001b[0;34m\u001b[0m\u001b[0;34m\u001b[0m\u001b[0m\n",
            "\u001b[0;31mAssertionError\u001b[0m: Looks like discrete_10 to Discrete(10) is matched incorrectly."
          ]
        }
      ]
    },
    {
      "cell_type": "markdown",
      "metadata": {
        "colab_type": "text",
        "id": "l9rrsSmsNliO"
      },
      "source": [
        "## **Exercise 2**: Setting up a custom environment with rewards\n",
        "\n",
        "We'll setup an `n-Chain` environment, which presents moves along a linear chain of states, with two actions:\n",
        "\n",
        "     (0) forward, which moves along the chain but returns no reward\n",
        "     (1) backward, which returns to the beginning and has a small reward\n",
        "\n",
        "The end of the chain, however, presents a large reward, and by moving 'forward', at the end of the chain this large reward can be repeated.\n",
        "\n",
        "#### Step 1: Implement ``ChainEnv._setup_spaces``\n",
        "\n",
        "We'll use a `spaces.Discrete` action space and observation space. Implement `ChainEnv._setup_spaces` so that `self.action_space` and `self.obseration_space` are proper gym spaces.\n",
        "  \n",
        "1. Observation space is an integer in ``[0 to n-1]``.\n",
        "2. Action space is an integer in ``[0, 1]``.\n",
        "\n",
        "For example:\n",
        "\n",
        "```python\n",
        "    self.action_space = spaces.Discrete(2)\n",
        "    self.observation_space = ...\n",
        "```\n",
        "\n",
        "You should see a message indicating tests passing when done correctly!\n",
        "\n",
        "#### Step 2: Implement a reward function.\n",
        "\n",
        "When `env.step` is called, it returns a tuple of ``(state, reward, done, info)``. Right now, the reward is always 0. \n",
        "\n",
        "Implement it so that \n",
        "\n",
        "1. ``action == 1`` will return `self.small_reward`.\n",
        "2. ``action == 0`` will return 0 if `self.state < self.n - 1`.\n",
        "3. ``action == 0`` will return `self.large_reward` if `self.state == self.n - 1`.\n",
        "\n",
        "You should see a message indicating tests passing when done correctly. "
      ]
    },
    {
      "cell_type": "code",
      "metadata": {
        "colab_type": "code",
        "id": "SFpjKjqTNliO",
        "colab": {
          "base_uri": "https://localhost:8080/",
          "height": 85
        },
        "outputId": "2f6838d2-65c2-4118-af97-93291741dc17"
      },
      "source": [
        "class ChainEnv(gym.Env):\n",
        "    \n",
        "    def __init__(self, env_config = None):\n",
        "        env_config = env_config or {}\n",
        "        self.n = env_config.get(\"n\", 20)\n",
        "        self.small_reward = env_config.get(\"small\", 2)  # payout for 'backwards' action\n",
        "        self.large_reward = env_config.get(\"large\", 10)  # payout at end of chain for 'forwards' action\n",
        "        self.state = 0  # Start at beginning of the chain\n",
        "        self._horizon = self.n\n",
        "        self._counter = 0  # For terminating the episode\n",
        "        self._setup_spaces()\n",
        "    \n",
        "    def _setup_spaces(self):\n",
        "        ##############\n",
        "        # TODO: Implement this so that it passes tests\n",
        "        self.action_space = spaces.Discrete(2)\n",
        "        self.observation_space = spaces.Discrete(self.n)\n",
        "        ##############\n",
        "\n",
        "    def step(self, action):\n",
        "        assert self.action_space.contains(action)\n",
        "        if action == 1:  # 'backwards': go back to the beginning, get small reward\n",
        "            ##############\n",
        "            # TODO 2: Implement this so that it passes tests\n",
        "            reward = self.small_reward\n",
        "            ##############\n",
        "            self.state = 0\n",
        "        elif self.state < self.n - 1:  # 'forwards': go up along the chain\n",
        "            ##############\n",
        "            # TODO 2: Implement this so that it passes tests\n",
        "            reward = 0\n",
        "            self.state += 1\n",
        "        else:  # 'forwards': stay at the end of the chain, collect large reward\n",
        "            ##############\n",
        "            # TODO 2: Implement this so that it passes tests\n",
        "            reward = self.large_reward\n",
        "            ##############\n",
        "        self._counter += 1\n",
        "        done = self._counter >= self._horizon\n",
        "        return self.state, reward, done, {}\n",
        "\n",
        "    def reset(self):\n",
        "        self.state = 0\n",
        "        self._counter = 0\n",
        "        return self.state\n",
        "    \n",
        "# Tests here:\n",
        "test_exercises.test_chain_env_spaces(ChainEnv)\n",
        "test_exercises.test_chain_env_reward(ChainEnv)"
      ],
      "execution_count": 43,
      "outputs": [
        {
          "output_type": "stream",
          "text": [
            "Testing if spaces have been setup correctly...\n",
            "Success! You've setup the spaces correctly.\n",
            "Testing if reward has been setup correctly...\n",
            "Success! You've setup the rewards correctly.\n"
          ],
          "name": "stdout"
        }
      ]
    },
    {
      "cell_type": "markdown",
      "metadata": {
        "colab_type": "text",
        "id": "yqMJtzLNNliQ"
      },
      "source": [
        "### Now let's train a policy on the environment and evaluate this policy on our environment.\n",
        "\n",
        "You'll see that despite an extremely high reward, the policy has barely explored the state space."
      ]
    },
    {
      "cell_type": "code",
      "metadata": {
        "colab_type": "code",
        "id": "FyXbhXoANliQ",
        "colab": {}
      },
      "source": [
        "trainer_config = DEFAULT_CONFIG.copy()\n",
        "trainer_config['num_workers'] = 1\n",
        "trainer_config[\"train_batch_size\"] = 400\n",
        "trainer_config[\"sgd_minibatch_size\"] = 64\n",
        "trainer_config[\"num_sgd_iter\"] = 10"
      ],
      "execution_count": 0,
      "outputs": []
    },
    {
      "cell_type": "code",
      "metadata": {
        "colab_type": "code",
        "id": "uoNYqFPcNliS",
        "colab": {
          "base_uri": "https://localhost:8080/",
          "height": 479
        },
        "outputId": "c16fdd8e-d065-40f2-d254-26e084031ceb"
      },
      "source": [
        "trainer = PPOTrainer(trainer_config, ChainEnv);\n",
        "for i in range(20):\n",
        "    print(\"Training iteration {}...\".format(i))\n",
        "    trainer.train()"
      ],
      "execution_count": 45,
      "outputs": [
        {
          "output_type": "stream",
          "text": [
            "2019-10-17 18:06:06,797\tINFO trainer.py:344 -- Tip: set 'eager': true or the --eager flag to enable TensorFlow eager execution\n",
            "2019-10-17 18:06:08,180\tINFO rollout_worker.py:768 -- Built policy map: {'default_policy': <ray.rllib.policy.tf_policy_template.PPOTFPolicy object at 0x7f4751e6edd8>}\n",
            "2019-10-17 18:06:08,181\tINFO rollout_worker.py:769 -- Built preprocessor map: {'default_policy': <ray.rllib.models.preprocessors.OneHotPreprocessor object at 0x7f4751e6eb38>}\n",
            "2019-10-17 18:06:08,187\tINFO rollout_worker.py:370 -- Built filter map: {'default_policy': <ray.rllib.utils.filter.NoFilter object at 0x7f474f476c18>}\n",
            "2019-10-17 18:06:08,223\tINFO multi_gpu_optimizer.py:93 -- LocalMultiGPUOptimizer devices ['/cpu:0']\n",
            "2019-10-17 18:06:12,522\tWARNING util.py:45 -- Install gputil for GPU system monitoring.\n"
          ],
          "name": "stderr"
        },
        {
          "output_type": "stream",
          "text": [
            "Training iteration 0...\n",
            "Training iteration 1...\n",
            "Training iteration 2...\n",
            "Training iteration 3...\n",
            "Training iteration 4...\n",
            "Training iteration 5...\n",
            "Training iteration 6...\n",
            "Training iteration 7...\n",
            "Training iteration 8...\n",
            "Training iteration 9...\n",
            "Training iteration 10...\n",
            "Training iteration 11...\n",
            "Training iteration 12...\n",
            "Training iteration 13...\n",
            "Training iteration 14...\n",
            "Training iteration 15...\n",
            "Training iteration 16...\n",
            "Training iteration 17...\n",
            "Training iteration 18...\n",
            "Training iteration 19...\n"
          ],
          "name": "stdout"
        }
      ]
    },
    {
      "cell_type": "code",
      "metadata": {
        "colab_type": "code",
        "id": "nP6xXGNONliT",
        "colab": {
          "base_uri": "https://localhost:8080/",
          "height": 51
        },
        "outputId": "ff2a5f98-7272-432b-9a1b-01d272c6f10e"
      },
      "source": [
        "env = ChainEnv({})\n",
        "state = env.reset()\n",
        "\n",
        "done = False\n",
        "max_state = -1\n",
        "cumulative_reward = 0\n",
        "\n",
        "while not done:\n",
        "    action = trainer.compute_action(state)\n",
        "    state, reward, done, results = env.step(action)\n",
        "    max_state = max(max_state, state)\n",
        "    cumulative_reward += reward\n",
        "\n",
        "print(\"Cumulative reward you've received is: {}. Congratulations!\".format(cumulative_reward))\n",
        "print(\"Max state you've visited is: {}. This is out of {} states.\".format(max_state, env.n))"
      ],
      "execution_count": 46,
      "outputs": [
        {
          "output_type": "stream",
          "text": [
            "Cumulative reward you've received is: 30. Congratulations!\n",
            "Max state you've visited is: 2. This is out of 20 states.\n"
          ],
          "name": "stdout"
        }
      ]
    },
    {
      "cell_type": "markdown",
      "metadata": {
        "colab_type": "text",
        "id": "nbdppkbENliV"
      },
      "source": [
        "## Exercise 3: Shaping the reward to encourage proper behavior.\n",
        "\n",
        "You'll see that despite an extremely high reward, the policy has barely explored the state space. This is often the situation - where the reward designed to encourage a particular solution is suboptimal, and the behavior created is unintended.\n",
        "\n",
        "#### Modify `ShapedChainEnv.step` to provide a reward that encourages the policy to traverse the chain (not just stick to 0). Do not change the behavior of the environment (the action -> state behavior should be the same).\n",
        "\n",
        "You can change the reward to be whatever you wish."
      ]
    },
    {
      "cell_type": "code",
      "metadata": {
        "colab_type": "code",
        "id": "PfyPqX1ZNliV",
        "colab": {
          "base_uri": "https://localhost:8080/",
          "height": 51
        },
        "outputId": "dfb741cb-8a0d-4489-ed41-3255d5fedb03"
      },
      "source": [
        "class ShapedChainEnv(ChainEnv):\n",
        "    def step(self, action):\n",
        "        assert self.action_space.contains(action)\n",
        "        if action == 1:  # 'backwards': go back to the beginning\n",
        "            reward = self.small_reward \n",
        "            self.state = 0\n",
        "        elif self.state < self.n - 1:  # 'forwards': go up along the chain\n",
        "            choice = np.random.uniform(0, 1)\n",
        "            reward = -1 #if choice == 1 else 1\n",
        "            self.state += 1\n",
        "        else:  # 'forwards': stay at the end of the chain\n",
        "            reward = self.large_reward\n",
        "        self._counter += 1\n",
        "        done = self._counter >= self._horizon\n",
        "        return self.state, reward, done, {}\n",
        "    \n",
        "test_exercises.test_chain_env_behavior(ShapedChainEnv)"
      ],
      "execution_count": 56,
      "outputs": [
        {
          "output_type": "stream",
          "text": [
            "Testing if behavior has been changed...\n",
            "Success! Behavior of environment is correct.\n"
          ],
          "name": "stdout"
        }
      ]
    },
    {
      "cell_type": "markdown",
      "metadata": {
        "colab_type": "text",
        "id": "ty6H4MffNliW"
      },
      "source": [
        "### Evaluate `ShapedChainEnv` by running the cell below.\n",
        "\n",
        "This trains PPO on the new env and counts the number of states seen."
      ]
    },
    {
      "cell_type": "code",
      "metadata": {
        "colab_type": "code",
        "id": "8U6GkAO6NliX",
        "colab": {
          "base_uri": "https://localhost:8080/",
          "height": 711
        },
        "outputId": "6b271802-d936-43ed-c7d8-59af816ed817"
      },
      "source": [
        "trainer = PPOTrainer(trainer_config, ShapedChainEnv);\n",
        "for i in range(20):\n",
        "    print(\"Training iteration {}...\".format(i))\n",
        "    trainer.train()\n",
        "\n",
        "env = ShapedChainEnv({})\n",
        "\n",
        "max_states = []\n",
        "\n",
        "for i in range(5):\n",
        "    state = env.reset()\n",
        "    done = False\n",
        "    max_state = -1\n",
        "    cumulative_reward = 0\n",
        "    while not done:\n",
        "        action = trainer.compute_action(state)\n",
        "        state, reward, done, results = env.step(action)\n",
        "        max_state = max(max_state, state)\n",
        "        cumulative_reward += reward\n",
        "    max_states += [max_state]\n",
        "\n",
        "print(\"Cumulative reward you've received is: {}!\".format(cumulative_reward))\n",
        "print(\"Max state you've visited is: {}. This is out of {} states.\".format(np.mean(max_state), env.n))\n",
        "assert (env.n - np.mean(max_state)) / env.n < 0.2, \"This policy did not traverse many states.\""
      ],
      "execution_count": 57,
      "outputs": [
        {
          "output_type": "stream",
          "text": [
            "2019-10-17 18:48:38,496\tINFO trainer.py:344 -- Tip: set 'eager': true or the --eager flag to enable TensorFlow eager execution\n",
            "2019-10-17 18:48:40,623\tINFO rollout_worker.py:768 -- Built policy map: {'default_policy': <ray.rllib.policy.tf_policy_template.PPOTFPolicy object at 0x7f4736cfb550>}\n",
            "2019-10-17 18:48:40,624\tINFO rollout_worker.py:769 -- Built preprocessor map: {'default_policy': <ray.rllib.models.preprocessors.OneHotPreprocessor object at 0x7f4736cfbb38>}\n",
            "2019-10-17 18:48:40,629\tINFO rollout_worker.py:370 -- Built filter map: {'default_policy': <ray.rllib.utils.filter.NoFilter object at 0x7f4734bc6e48>}\n",
            "2019-10-17 18:48:40,666\tINFO multi_gpu_optimizer.py:93 -- LocalMultiGPUOptimizer devices ['/cpu:0']\n",
            "2019-10-17 18:48:40,674\tWARNING worker.py:1779 -- WARNING: 12 PYTHON workers have been started. This could be a result of using a large number of actors, or it could be a consequence of using nested tasks (see https://github.com/ray-project/ray/issues/3644) for some a discussion of workarounds.\n",
            "2019-10-17 18:48:45,987\tWARNING util.py:45 -- Install gputil for GPU system monitoring.\n"
          ],
          "name": "stderr"
        },
        {
          "output_type": "stream",
          "text": [
            "Training iteration 0...\n",
            "Training iteration 1...\n",
            "Training iteration 2...\n",
            "Training iteration 3...\n",
            "Training iteration 4...\n",
            "Training iteration 5...\n",
            "Training iteration 6...\n",
            "Training iteration 7...\n",
            "Training iteration 8...\n",
            "Training iteration 9...\n",
            "Training iteration 10...\n",
            "Training iteration 11...\n",
            "Training iteration 12...\n",
            "Training iteration 13...\n",
            "Training iteration 14...\n",
            "Training iteration 15...\n",
            "Training iteration 16...\n",
            "Training iteration 17...\n",
            "Training iteration 18...\n",
            "Training iteration 19...\n",
            "Cumulative reward you've received is: 28!\n",
            "Max state you've visited is: 2.0. This is out of 20 states.\n"
          ],
          "name": "stdout"
        },
        {
          "output_type": "error",
          "ename": "AssertionError",
          "evalue": "ignored",
          "traceback": [
            "\u001b[0;31m---------------------------------------------------------------------------\u001b[0m",
            "\u001b[0;31mAssertionError\u001b[0m                            Traceback (most recent call last)",
            "\u001b[0;32m<ipython-input-57-49d90e8d0a61>\u001b[0m in \u001b[0;36m<module>\u001b[0;34m()\u001b[0m\n\u001b[1;32m     22\u001b[0m \u001b[0mprint\u001b[0m\u001b[0;34m(\u001b[0m\u001b[0;34m\"Cumulative reward you've received is: {}!\"\u001b[0m\u001b[0;34m.\u001b[0m\u001b[0mformat\u001b[0m\u001b[0;34m(\u001b[0m\u001b[0mcumulative_reward\u001b[0m\u001b[0;34m)\u001b[0m\u001b[0;34m)\u001b[0m\u001b[0;34m\u001b[0m\u001b[0;34m\u001b[0m\u001b[0m\n\u001b[1;32m     23\u001b[0m \u001b[0mprint\u001b[0m\u001b[0;34m(\u001b[0m\u001b[0;34m\"Max state you've visited is: {}. This is out of {} states.\"\u001b[0m\u001b[0;34m.\u001b[0m\u001b[0mformat\u001b[0m\u001b[0;34m(\u001b[0m\u001b[0mnp\u001b[0m\u001b[0;34m.\u001b[0m\u001b[0mmean\u001b[0m\u001b[0;34m(\u001b[0m\u001b[0mmax_state\u001b[0m\u001b[0;34m)\u001b[0m\u001b[0;34m,\u001b[0m \u001b[0menv\u001b[0m\u001b[0;34m.\u001b[0m\u001b[0mn\u001b[0m\u001b[0;34m)\u001b[0m\u001b[0;34m)\u001b[0m\u001b[0;34m\u001b[0m\u001b[0;34m\u001b[0m\u001b[0m\n\u001b[0;32m---> 24\u001b[0;31m \u001b[0;32massert\u001b[0m \u001b[0;34m(\u001b[0m\u001b[0menv\u001b[0m\u001b[0;34m.\u001b[0m\u001b[0mn\u001b[0m \u001b[0;34m-\u001b[0m \u001b[0mnp\u001b[0m\u001b[0;34m.\u001b[0m\u001b[0mmean\u001b[0m\u001b[0;34m(\u001b[0m\u001b[0mmax_state\u001b[0m\u001b[0;34m)\u001b[0m\u001b[0;34m)\u001b[0m \u001b[0;34m/\u001b[0m \u001b[0menv\u001b[0m\u001b[0;34m.\u001b[0m\u001b[0mn\u001b[0m \u001b[0;34m<\u001b[0m \u001b[0;36m0.2\u001b[0m\u001b[0;34m,\u001b[0m \u001b[0;34m\"This policy did not traverse many states.\"\u001b[0m\u001b[0;34m\u001b[0m\u001b[0;34m\u001b[0m\u001b[0m\n\u001b[0m",
            "\u001b[0;31mAssertionError\u001b[0m: This policy did not traverse many states."
          ]
        }
      ]
    },
    {
      "cell_type": "code",
      "metadata": {
        "colab_type": "code",
        "id": "Sj5ynpINNliZ",
        "colab": {}
      },
      "source": [
        ""
      ],
      "execution_count": 0,
      "outputs": []
    }
  ]
}