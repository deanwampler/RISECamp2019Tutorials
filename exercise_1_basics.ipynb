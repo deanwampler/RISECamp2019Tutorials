{
  "nbformat": 4,
  "nbformat_minor": 0,
  "metadata": {
    "kernelspec": {
      "display_name": "Python 3",
      "language": "python",
      "name": "python3"
    },
    "language_info": {
      "codemirror_mode": {
        "name": "ipython",
        "version": 3
      },
      "file_extension": ".py",
      "mimetype": "text/x-python",
      "name": "python",
      "nbconvert_exporter": "python",
      "pygments_lexer": "ipython3",
      "version": "3.7.3"
    },
    "colab": {
      "name": "exercise_1_basics.ipynb",
      "provenance": [],
      "include_colab_link": true
    }
  },
  "cells": [
    {
      "cell_type": "markdown",
      "metadata": {
        "id": "view-in-github",
        "colab_type": "text"
      },
      "source": [
        "<a href=\"https://colab.research.google.com/github/deanwampler/RISECamp2019Tutorials/blob/master/exercise_1_basics.ipynb\" target=\"_parent\"><img src=\"https://colab.research.google.com/assets/colab-badge.svg\" alt=\"Open In Colab\"/></a>"
      ]
    },
    {
      "cell_type": "markdown",
      "metadata": {
        "id": "wEObo2jPFsf9",
        "colab_type": "text"
      },
      "source": [
        "# Tutorial: Learning how to use Tune"
      ]
    },
    {
      "cell_type": "markdown",
      "metadata": {
        "id": "-HqkiQQiFsgB",
        "colab_type": "text"
      },
      "source": [
        "<img src=\"tune.png\" alt=\"Tune Logo\" width=\"400\"/>\n",
        "\n",
        "\n",
        "Tuning hyperparameters is often the most expensive part of the machine learning workflow. Tune is built to address this, demonstrating an efficient and scalable solution for this pain point. Note that this example depends on Tensorflow 2.0.\n",
        "\n",
        "**Code**: https://github.com/ray-project/ray/tree/master/python/ray/tune\n",
        "\n",
        "**Examples**: https://github.com/ray-project/ray/tree/master/python/ray/tune/examples\n",
        "\n",
        "**Documentation**: http://ray.readthedocs.io/en/latest/tune.html\n",
        "\n",
        "**Mailing List** https://groups.google.com/forum/#!forum/ray-dev"
      ]
    },
    {
      "cell_type": "code",
      "metadata": {
        "id": "rjKreeCzFsgC",
        "colab_type": "code",
        "colab": {
          "base_uri": "https://localhost:8080/",
          "height": 119
        },
        "outputId": "d0d4a340-386f-4825-eed5-3ab725babc4f"
      },
      "source": [
        "## If you are running on Google Colab, uncomment below to install the necessary dependencies \n",
        "## before beginning the exercise.\n",
        "\n",
        "print(\"Setting up colab environment\")\n",
        "!pip uninstall -y -q pyarrow\n",
        "!pip install -q https://s3-us-west-2.amazonaws.com/ray-wheels/latest/ray-0.8.0.dev5-cp36-cp36m-manylinux1_x86_64.whl\n",
        "!pip install -q ray[debug]\n",
        "\n",
        "# # A hack to force the runtime to restart, needed to include the above dependencies.\n",
        "print(\"Done installing! Restarting via forced crash (this is not an issue).\")\n",
        "import os\n",
        "os._exit(0)"
      ],
      "execution_count": 0,
      "outputs": [
        {
          "output_type": "stream",
          "text": [
            "Setting up colab environment\n",
            "\u001b[K     |████████████████████████████████| 75.9MB 135.2MB/s \n",
            "\u001b[K     |████████████████████████████████| 71kB 2.6MB/s \n",
            "\u001b[K     |████████████████████████████████| 1.3MB 8.3MB/s \n",
            "\u001b[K     |████████████████████████████████| 2.8MB 7.8MB/s \n",
            "\u001b[?25h  Building wheel for setproctitle (setup.py) ... \u001b[?25l\u001b[?25hdone\n"
          ],
          "name": "stdout"
        }
      ]
    },
    {
      "cell_type": "code",
      "metadata": {
        "id": "deU35QL-FsgH",
        "colab_type": "code",
        "colab": {
          "base_uri": "https://localhost:8080/",
          "height": 34
        },
        "outputId": "aa81d870-429a-40c2-d8b5-08eab4434d6e"
      },
      "source": [
        "## If you are running on Google Colab, please install TensorFlow 2.0 by uncommenting below..\n",
        "\n",
        "try:\n",
        "  # %tensorflow_version only exists in Colab.\n",
        "  %tensorflow_version 2.x\n",
        "except Exception:\n",
        "  pass"
      ],
      "execution_count": 1,
      "outputs": [
        {
          "output_type": "stream",
          "text": [
            "TensorFlow 2.x selected.\n"
          ],
          "name": "stdout"
        }
      ]
    },
    {
      "cell_type": "markdown",
      "metadata": {
        "id": "YiQKaT5wFsgJ",
        "colab_type": "text"
      },
      "source": [
        "This tutorial will step through a couple key steps of the hyperparameter tuning process with Tune. \n",
        "\n",
        "1. Visualizing the data.\n",
        "2. Creating a model training procedure (using Keras).\n",
        "3. Tuning the model by adapting the above model training procedure to **use Tune**.\n",
        "4. Analyzing the model created by Tune.\n",
        "\n",
        "Note that this uses Tune's **function-based API**. This is mainly for prototyping. A later tutorial will cover Tune's more powerful **class-based Trainable** API."
      ]
    },
    {
      "cell_type": "code",
      "metadata": {
        "id": "Zn866G-kFsgK",
        "colab_type": "code",
        "colab": {
          "base_uri": "https://localhost:8080/",
          "height": 34
        },
        "outputId": "e6c0298c-26e3-4535-b49d-d4cbdbbe8d30"
      },
      "source": [
        "import numpy as np\n",
        "np.random.seed(0)\n",
        "\n",
        "import tensorflow as tf\n",
        "try:\n",
        "    tf.get_logger().setLevel('INFO')\n",
        "except Exception as exc:\n",
        "    print(exc)\n",
        "import warnings\n",
        "warnings.simplefilter(\"ignore\")\n",
        "\n",
        "from tensorflow.keras.models import Sequential\n",
        "from tensorflow.keras.layers import Dense\n",
        "\n",
        "from tensorflow.keras.optimizers import SGD, Adam\n",
        "from tensorflow.keras.callbacks import ModelCheckpoint\n",
        "\n",
        "import ray\n",
        "from ray import tune\n",
        "from ray.tune.examples.utils import get_iris_data\n",
        "\n",
        "import inspect\n",
        "import pandas as pd\n",
        "import matplotlib.pyplot as plt\n",
        "plt.style.use('ggplot')\n",
        "%matplotlib inline"
      ],
      "execution_count": 2,
      "outputs": [
        {
          "output_type": "stream",
          "text": [
            "Using TensorFlow backend.\n"
          ],
          "name": "stderr"
        }
      ]
    },
    {
      "cell_type": "markdown",
      "metadata": {
        "id": "DpCwUhubFsgN",
        "colab_type": "text"
      },
      "source": [
        "## Visualize your data"
      ]
    },
    {
      "cell_type": "markdown",
      "metadata": {
        "id": "DqGR0RrDFsgO",
        "colab_type": "text"
      },
      "source": [
        "Let's first take a look at the distribution of the dataset.\n",
        "\n",
        "The Iris data sets consists of 3 different types of iris flowers’ (Setosa, Versicolour, and Virginica) petal and sepal length, stored in a 150x4 numpy.ndarray,\n",
        "\n",
        "The rows being the samples and the columns being: Sepal Length, Sepal Width, Petal Length and Petal Width.\n",
        "\n",
        "### The goal of this tutorial is to have a model that can accurately predict the true label given a 4-tuple of Sepal Length, Sepal Width, Petal Length and Petal Width."
      ]
    },
    {
      "cell_type": "code",
      "metadata": {
        "id": "FpoZfprDFsgP",
        "colab_type": "code",
        "colab": {
          "base_uri": "https://localhost:8080/",
          "height": 395
        },
        "outputId": "0dc870f4-6102-4566-ec56-cc2219176428"
      },
      "source": [
        "from sklearn.datasets import load_iris\n",
        "\n",
        "iris = load_iris()\n",
        "true_data = iris['data']\n",
        "true_label = iris['target']\n",
        "names = iris['target_names']\n",
        "feature_names = iris['feature_names']\n",
        "\n",
        "def plot_data(X, y):\n",
        "    # Visualize the data sets\n",
        "    plt.figure(figsize=(16, 6))\n",
        "    plt.subplot(1, 2, 1)\n",
        "    for target, target_name in enumerate(names):\n",
        "        X_plot = X[y == target]\n",
        "        plt.plot(X_plot[:, 0], X_plot[:, 1], linestyle='none', marker='o', label=target_name)\n",
        "    plt.xlabel(feature_names[0])\n",
        "    plt.ylabel(feature_names[1])\n",
        "    plt.axis('equal')\n",
        "    plt.legend();\n",
        "\n",
        "    plt.subplot(1, 2, 2)\n",
        "    for target, target_name in enumerate(names):\n",
        "        X_plot = X[y == target]\n",
        "        plt.plot(X_plot[:, 2], X_plot[:, 3], linestyle='none', marker='o', label=target_name)\n",
        "    plt.xlabel(feature_names[2])\n",
        "    plt.ylabel(feature_names[3])\n",
        "    plt.axis('equal')\n",
        "    plt.legend();\n",
        "    \n",
        "plot_data(true_data, true_label)"
      ],
      "execution_count": 3,
      "outputs": [
        {
          "output_type": "display_data",
          "data": {
            "image/png": "[encoded data removed]",
            "text/plain": [
              "<Figure size 1152x432 with 2 Axes>"
            ]
          },
          "metadata": {
            "tags": []
          }
        }
      ]
    },
    {
      "cell_type": "markdown",
      "metadata": {
        "id": "ExghI1WPFsgR",
        "colab_type": "text"
      },
      "source": [
        "## Creating a model training procedure (using Keras)"
      ]
    },
    {
      "cell_type": "markdown",
      "metadata": {
        "id": "x3lpZ5WhFsgS",
        "colab_type": "text"
      },
      "source": [
        "Now, let's define a function that will take in some hyperparameters and return a model that we can then use to train."
      ]
    },
    {
      "cell_type": "code",
      "metadata": {
        "id": "RffYuIuEFsgS",
        "colab_type": "code",
        "colab": {}
      },
      "source": [
        "def create_model(learning_rate, dense_1, dense_2):\n",
        "    assert learning_rate > 0 and dense_1 > 0 and dense_2 > 0, \"Did you set the right configuration?\"\n",
        "    model = Sequential()\n",
        "    model.add(Dense(int(dense_1), input_shape=(4,), activation='relu', name='fc1'))\n",
        "    model.add(Dense(int(dense_2), activation='relu', name='fc2'))\n",
        "    model.add(Dense(3, activation='softmax', name='output'))\n",
        "    optimizer = SGD(lr=learning_rate)\n",
        "    model.compile(optimizer, loss='categorical_crossentropy', metrics=['accuracy'])\n",
        "    return model"
      ],
      "execution_count": 0,
      "outputs": []
    },
    {
      "cell_type": "markdown",
      "metadata": {
        "id": "xmlJS5UnFsgU",
        "colab_type": "text"
      },
      "source": [
        "Below is a function that trains the model using the ``create_model`` function and returns the trained model."
      ]
    },
    {
      "cell_type": "code",
      "metadata": {
        "id": "r9WXn0LhFsgV",
        "colab_type": "code",
        "colab": {}
      },
      "source": [
        "def train_on_iris():\n",
        "    train_x, train_y, test_x, test_y = get_iris_data()\n",
        "    model = create_model(learning_rate=0.1, dense_1=2, dense_2=2)\n",
        "    # This saves the top model. `accuracy` is only available in TF2.0.\n",
        "    checkpoint_callback = ModelCheckpoint(\n",
        "        \"model.h5\", monitor='accuracy', save_best_only=True, save_freq=2)\n",
        "\n",
        "    # Train the model\n",
        "    model.fit(\n",
        "        train_x, train_y, \n",
        "        validation_data=(test_x, test_y),\n",
        "        verbose=0, batch_size=10, epochs=20, callbacks=[checkpoint_callback])\n",
        "    return model"
      ],
      "execution_count": 0,
      "outputs": []
    },
    {
      "cell_type": "markdown",
      "metadata": {
        "id": "65sun5BiFsgb",
        "colab_type": "text"
      },
      "source": [
        "Let's quickly train the model on the dataset. The accuracy should be quite low."
      ]
    },
    {
      "cell_type": "code",
      "metadata": {
        "id": "5Bdtzm6MFsgd",
        "colab_type": "code",
        "colab": {
          "base_uri": "https://localhost:8080/",
          "height": 51
        },
        "outputId": "0d7c088f-2ed5-4d39-b919-0d9ae7ee36a8"
      },
      "source": [
        "original_model = train_on_iris()  # This trains the model and returns it.\n",
        "train_x, train_y, test_x, test_y = get_iris_data()\n",
        "original_loss, original_accuracy = original_model.evaluate(test_x, test_y, verbose=0)\n",
        "print(\"Loss is {:0.4f}\".format(original_loss))\n",
        "print(\"Accuracy is {:0.4f}\".format(original_accuracy))"
      ],
      "execution_count": 6,
      "outputs": [
        {
          "output_type": "stream",
          "text": [
            "Loss is 0.5991\n",
            "Accuracy is 0.6053\n"
          ],
          "name": "stdout"
        }
      ]
    },
    {
      "cell_type": "markdown",
      "metadata": {
        "id": "vHpyrrhWFsgf",
        "colab_type": "text"
      },
      "source": [
        "## Integrate with Tune\n",
        "\n",
        "Now, let's use Tune to optimize a model that learns to classify Iris. This will happen in two parts - **modifying** the training function to support Tune, and then **configuring** Tune.\n",
        "\n",
        "Let's first define a callback function to report intermediate training progress back to Tune."
      ]
    },
    {
      "cell_type": "code",
      "metadata": {
        "id": "uVdfUXK_Fsgg",
        "colab_type": "code",
        "colab": {}
      },
      "source": [
        "import tensorflow.keras as keras\n",
        "from ray.tune import track\n",
        "\n",
        "\n",
        "class TuneReporterCallback(keras.callbacks.Callback):\n",
        "    \"\"\"Tune Callback for Keras.\n",
        "    \n",
        "    The callback is invoked every epoch.\n",
        "    \"\"\"\n",
        "\n",
        "    def __init__(self, logs={}):\n",
        "        self.iteration = 0\n",
        "        super(TuneReporterCallback, self).__init__()\n",
        "\n",
        "    def on_epoch_end(self, batch, logs={}):\n",
        "        self.iteration += 1\n",
        "        track.log(keras_info=logs, mean_accuracy=logs.get(\"accuracy\"), mean_loss=logs.get(\"loss\"))\n"
      ],
      "execution_count": 0,
      "outputs": []
    },
    {
      "cell_type": "markdown",
      "metadata": {
        "id": "9BdlVwhiFsgi",
        "colab_type": "text"
      },
      "source": [
        "### Integration Part 1: Modifying the Training Function\n",
        "\n",
        "**Instructions** Follow the next 2 steps for modifying the ``train_iris`` function to support Tune.\n",
        "\n",
        "1. Change the signature of the function to take in a hyperparameter dictionary. This function will be called on a Ray.\n",
        "\n",
        "```python\n",
        "def tune_iris(config)\n",
        "```\n",
        "    \n",
        "    \n",
        "2. Pass in the configuration values into ``create_model``:\n",
        "\n",
        "```python\n",
        "model = create_model(learning_rate=config[\"lr\"], dense_1=config[\"dense_1\"], dense_2=config[\"dense_2\"])\n",
        "```"
      ]
    },
    {
      "cell_type": "code",
      "metadata": {
        "id": "G9xWUv7-Fsgj",
        "colab_type": "code",
        "colab": {
          "base_uri": "https://localhost:8080/",
          "height": 51
        },
        "outputId": "33480934-3fa4-4d55-b099-1308db2fbfcf"
      },
      "source": [
        "def tune_iris(config):  # TODO: Change me.\n",
        "    train_x, train_y, test_x, test_y = get_iris_data()\n",
        "    model = create_model(learning_rate=config[\"lr\"], dense_1=config[\"dense_1\"], dense_2=config[\"dense_2\"])  # TODO: Change me.\n",
        "    checkpoint_callback = ModelCheckpoint(\n",
        "        \"model.h5\", monitor='loss', save_best_only=True, save_freq=2)\n",
        "\n",
        "    # Enable Tune to make intermediate decisions by using a Tune Callback hook. This is Keras specific.\n",
        "    callbacks = [checkpoint_callback, TuneReporterCallback()]\n",
        "    \n",
        "    # Train the model\n",
        "    model.fit(\n",
        "        train_x, train_y, \n",
        "        validation_data=(test_x, test_y),\n",
        "        verbose=0, \n",
        "        batch_size=10, \n",
        "        epochs=20, \n",
        "        callbacks=callbacks)\n",
        "    \n",
        "assert len(inspect.getargspec(tune_iris).args) == 1, \"The `tune_iris` function needs to take in the arg `config`.\"\n",
        "\n",
        "print(\"Test-running to make sure this function will run correctly.\")\n",
        "tune.track.init()  # For testing purposes only.\n",
        "tune_iris({\"lr\": 0.1, \"dense_1\": 4, \"dense_2\": 4})\n",
        "print(\"Success!\")"
      ],
      "execution_count": 8,
      "outputs": [
        {
          "output_type": "stream",
          "text": [
            "Test-running to make sure this function will run correctly.\n",
            "Success!\n"
          ],
          "name": "stdout"
        }
      ]
    },
    {
      "cell_type": "markdown",
      "metadata": {
        "id": "16dZrAJ-Fsgl",
        "colab_type": "text"
      },
      "source": [
        "### Integration Part 2: Configuring Tune to tune hyperparameters.\n",
        "\n",
        "**Instructions** Follow the next 2 steps to configure Tune to identify the top hyperparameters.\n",
        "\n",
        "1. Designate the hyperparameter space. \n",
        "\n",
        "```python\n",
        "hyperparameter_space = {\n",
        "    \"lr\": tune.loguniform(0.001, 0.1),  \n",
        "    \"dense_1\": tune.uniform(2, 128),\n",
        "    \"dense_2\": tune.uniform(2, 128),\n",
        "}\n",
        "```\n",
        "2. Increase the number of samples. The more trials we evaluate, the more chances we choose a good model.\n",
        "\n",
        "```python\n",
        "num_samples = 20\n",
        "```\n",
        "#### FAQ: How does parallelism work in Tune?\n",
        "\n",
        "\n",
        "Setting ``num_samples`` will run a *total* of 20 trials (hyperparameter configuration samples). However, not all of them will run at once. The max training concurrency will be the number of CPU cores on the machine you're running on. For a 2-core machine, 2 models will be trained concurrently. When one is finished, a new training process will start with a new hyperparameter configuration sample. \n",
        "\n",
        "Each trial will run on a new Python process. The python process is killed when the trial is finished.\n",
        "\n",
        "\n",
        "#### FAQ: How do I debug things in Tune?\n",
        "\n",
        "The `error file` column will show up in the output. Run the below cell with the ``error file path`` path to diagnose your issue.\n",
        "\n",
        "```\n",
        "! cat /home/ubuntu/tune_iris/tune_iris_c66e1100_2019-10-09_17-13-24x_swb9xs/error_2019-10-09_17-13-29.txt\n",
        "```"
      ]
    },
    {
      "cell_type": "markdown",
      "metadata": {
        "id": "OtLB8i7sFsgm",
        "colab_type": "text"
      },
      "source": [
        "# Launch a Tune hyperparameter search"
      ]
    },
    {
      "cell_type": "code",
      "metadata": {
        "scrolled": false,
        "id": "vEjkIU3OFsgm",
        "colab_type": "code",
        "colab": {
          "base_uri": "https://localhost:8080/",
          "height": 616
        },
        "outputId": "f6fb8f93-0e6b-4df2-f1bc-d3020c5bbd3a"
      },
      "source": [
        "# This seeds the hyperparameter sampling.\n",
        "import numpy as np; np.random.seed(5)  \n",
        "hyperparameter_space = {\n",
        "    \"lr\": tune.loguniform(0.001, 0.1),  \n",
        "    \"dense_1\": tune.uniform(2, 128),\n",
        "    \"dense_2\": tune.uniform(2, 128),\n",
        "}  # TODO: Fill me out.\n",
        "num_samples = 20  # TODO: Fill me out.\n",
        "\n",
        "####################################################################################################\n",
        "################ This is just a validation function for tutorial purposes only. ####################\n",
        "HP_KEYS = [\"lr\", \"dense_1\", \"dense_2\"]\n",
        "assert all(key in hyperparameter_space for key in HP_KEYS), (\n",
        "    \"The hyperparameter space is not fully designated. It must include all of {}\".format(HP_KEYS))\n",
        "######################################################################################################\n",
        "\n",
        "ray.shutdown()  # Restart Ray defensively in case the ray connection is lost. \n",
        "ray.init(log_to_driver=False)\n",
        "# We clean out the logs before running for a clean visualization later.\n",
        "! rm -rf ~/ray_results/tune_iris\n",
        "\n",
        "analysis = tune.run(\n",
        "    tune_iris, \n",
        "    verbose=1, \n",
        "    config=hyperparameter_space,\n",
        "    num_samples=num_samples)\n",
        "\n",
        "assert len(analysis.trials) == 20, \"Did you set the correct number of samples?\""
      ],
      "execution_count": 9,
      "outputs": [
        {
          "output_type": "display_data",
          "data": {
            "text/html": [
              "== Status ==<br>Memory usage on this node: 1.5/12.7 GiB<br>Using FIFO scheduling algorithm.<br>Resources requested: 0/2 CPUs, 0/0 GPUs, 0.0/6.15 GiB heap, 0.0/2.1 GiB objects<br>Number of trials: 20 ({'TERMINATED': 20})<br>Result logdir: /root/ray_results/tune_iris<br><table>\n",
              "<thead>\n",
              "<tr><th>Trial name        </th><th>ID      </th><th>status    </th><th>loc    </th><th style=\"text-align: right;\">        lr</th><th style=\"text-align: right;\">  dense_1</th><th style=\"text-align: right;\">  dense_2</th><th style=\"text-align: right;\">  iter</th><th style=\"text-align: right;\">  total time (s)</th><th style=\"text-align: right;\">    loss</th></tr>\n",
              "</thead>\n",
              "<tbody>\n",
              "<tr><td>tune_iris_2c43deaa</td><td>2c43deaa</td><td>TERMINATED</td><td>pid=500</td><td style=\"text-align: right;\">0.00533917</td><td style=\"text-align: right;\">125.41   </td><td style=\"text-align: right;\"> 13.3175 </td><td style=\"text-align: right;\">    19</td><td style=\"text-align: right;\">         2.36892</td><td style=\"text-align: right;\">0.809336</td></tr>\n",
              "<tr><td>tune_iris_2c440f74</td><td>2c440f74</td><td>TERMINATED</td><td>pid=501</td><td style=\"text-align: right;\">0.00621546</td><td style=\"text-align: right;\"> 46.6214 </td><td style=\"text-align: right;\"> 63.3164 </td><td style=\"text-align: right;\">    19</td><td style=\"text-align: right;\">         2.5229 </td><td style=\"text-align: right;\">0.439748</td></tr>\n",
              "<tr><td>tune_iris_2c443a30</td><td>2c443a30</td><td>TERMINATED</td><td>pid=571</td><td style=\"text-align: right;\">0.095861  </td><td style=\"text-align: right;\">103.843  </td><td style=\"text-align: right;\"> 83.8318 </td><td style=\"text-align: right;\">    19</td><td style=\"text-align: right;\">         1.75506</td><td style=\"text-align: right;\">0.278644</td></tr>\n",
              "<tr><td>tune_iris_2c446744</td><td>2c446744</td><td>TERMINATED</td><td>pid=572</td><td style=\"text-align: right;\">0.0435457 </td><td style=\"text-align: right;\"> 32.5601 </td><td style=\"text-align: right;\"> 98.3109 </td><td style=\"text-align: right;\">    19</td><td style=\"text-align: right;\">         1.9246 </td><td style=\"text-align: right;\">0.257149</td></tr>\n",
              "<tr><td>tune_iris_2c448c6a</td><td>2c448c6a</td><td>TERMINATED</td><td>pid=593</td><td style=\"text-align: right;\">0.00166649</td><td style=\"text-align: right;\"> 27.7235 </td><td style=\"text-align: right;\"> 17.006  </td><td style=\"text-align: right;\">    19</td><td style=\"text-align: right;\">         1.50482</td><td style=\"text-align: right;\">0.763803</td></tr>\n",
              "<tr><td>tune_iris_2c44b672</td><td>2c44b672</td><td>TERMINATED</td><td>pid=636</td><td style=\"text-align: right;\">0.056991  </td><td style=\"text-align: right;\"> 67.9831 </td><td style=\"text-align: right;\"> 64.0091 </td><td style=\"text-align: right;\">    19</td><td style=\"text-align: right;\">         3.01218</td><td style=\"text-align: right;\">0.358661</td></tr>\n",
              "<tr><td>tune_iris_2c44da94</td><td>2c44da94</td><td>TERMINATED</td><td>pid=661</td><td style=\"text-align: right;\">0.0290899 </td><td style=\"text-align: right;\">  3.83717</td><td style=\"text-align: right;\"> 13.7637 </td><td style=\"text-align: right;\">    19</td><td style=\"text-align: right;\">         1.78745</td><td style=\"text-align: right;\">0.399978</td></tr>\n",
              "<tr><td>tune_iris_2c4500dc</td><td>2c4500dc</td><td>TERMINATED</td><td>pid=664</td><td style=\"text-align: right;\">0.0449892 </td><td style=\"text-align: right;\">107.02   </td><td style=\"text-align: right;\">114.444  </td><td style=\"text-align: right;\">    19</td><td style=\"text-align: right;\">         1.94322</td><td style=\"text-align: right;\">0.15415 </td></tr>\n",
              "<tr><td>tune_iris_2c452ef4</td><td>2c452ef4</td><td>TERMINATED</td><td>pid=696</td><td style=\"text-align: right;\">0.0824189 </td><td style=\"text-align: right;\"> 72.7285 </td><td style=\"text-align: right;\"> 13.4091 </td><td style=\"text-align: right;\">    19</td><td style=\"text-align: right;\">         1.46563</td><td style=\"text-align: right;\">0.349256</td></tr>\n",
              "<tr><td>tune_iris_2c455492</td><td>2c455492</td><td>TERMINATED</td><td>pid=695</td><td style=\"text-align: right;\">0.0981698 </td><td style=\"text-align: right;\"> 62.1526 </td><td style=\"text-align: right;\"> 88.2994 </td><td style=\"text-align: right;\">    19</td><td style=\"text-align: right;\">         2.09099</td><td style=\"text-align: right;\">0.308854</td></tr>\n",
              "<tr><td>tune_iris_2c457904</td><td>2c457904</td><td>TERMINATED</td><td>pid=781</td><td style=\"text-align: right;\">0.0486128 </td><td style=\"text-align: right;\"> 79.6317 </td><td style=\"text-align: right;\"> 72.9616 </td><td style=\"text-align: right;\">    19</td><td style=\"text-align: right;\">         1.95959</td><td style=\"text-align: right;\">0.416415</td></tr>\n",
              "<tr><td>tune_iris_2c459f38</td><td>2c459f38</td><td>TERMINATED</td><td>pid=780</td><td style=\"text-align: right;\">0.0054491 </td><td style=\"text-align: right;\"> 89.0573 </td><td style=\"text-align: right;\">104.837  </td><td style=\"text-align: right;\">    19</td><td style=\"text-align: right;\">         1.87001</td><td style=\"text-align: right;\">0.454253</td></tr>\n",
              "<tr><td>tune_iris_2c45c63e</td><td>2c45c63e</td><td>TERMINATED</td><td>pid=802</td><td style=\"text-align: right;\">0.0710047 </td><td style=\"text-align: right;\">  2.72262</td><td style=\"text-align: right;\"> 92.7905 </td><td style=\"text-align: right;\">    19</td><td style=\"text-align: right;\">         1.55704</td><td style=\"text-align: right;\">0.368084</td></tr>\n",
              "<tr><td>tune_iris_2c45eb5a</td><td>2c45eb5a</td><td>TERMINATED</td><td>pid=845</td><td style=\"text-align: right;\">0.0215833 </td><td style=\"text-align: right;\"> 27.1704 </td><td style=\"text-align: right;\"> 89.7798 </td><td style=\"text-align: right;\">    19</td><td style=\"text-align: right;\">         3.07287</td><td style=\"text-align: right;\">0.212532</td></tr>\n",
              "<tr><td>tune_iris_2c461058</td><td>2c461058</td><td>TERMINATED</td><td>pid=870</td><td style=\"text-align: right;\">0.0141523 </td><td style=\"text-align: right;\"> 75.0449 </td><td style=\"text-align: right;\"> 10.1279 </td><td style=\"text-align: right;\">    19</td><td style=\"text-align: right;\">         1.56556</td><td style=\"text-align: right;\">0.351646</td></tr>\n",
              "<tr><td>tune_iris_2c463d4e</td><td>2c463d4e</td><td>TERMINATED</td><td>pid=873</td><td style=\"text-align: right;\">0.002262  </td><td style=\"text-align: right;\"> 45.0324 </td><td style=\"text-align: right;\"> 78.6965 </td><td style=\"text-align: right;\">    19</td><td style=\"text-align: right;\">         2.31387</td><td style=\"text-align: right;\">0.664981</td></tr>\n",
              "<tr><td>tune_iris_2c4661a2</td><td>2c4661a2</td><td>TERMINATED</td><td>pid=901</td><td style=\"text-align: right;\">0.00246008</td><td style=\"text-align: right;\"> 17.3151 </td><td style=\"text-align: right;\">119.77   </td><td style=\"text-align: right;\">    19</td><td style=\"text-align: right;\">         1.84939</td><td style=\"text-align: right;\">0.634395</td></tr>\n",
              "<tr><td>tune_iris_2c4688f8</td><td>2c4688f8</td><td>TERMINATED</td><td>pid=894</td><td style=\"text-align: right;\">0.00418755</td><td style=\"text-align: right;\"> 61.7639 </td><td style=\"text-align: right;\">  9.83866</td><td style=\"text-align: right;\">    19</td><td style=\"text-align: right;\">         2.16074</td><td style=\"text-align: right;\">0.493239</td></tr>\n",
              "<tr><td>tune_iris_2c46b1de</td><td>2c46b1de</td><td>TERMINATED</td><td>pid=989</td><td style=\"text-align: right;\">0.00355376</td><td style=\"text-align: right;\"> 30.4745 </td><td style=\"text-align: right;\">120.825  </td><td style=\"text-align: right;\">    19</td><td style=\"text-align: right;\">         1.62361</td><td style=\"text-align: right;\">0.4455  </td></tr>\n",
              "<tr><td>tune_iris_2c46de48</td><td>2c46de48</td><td>TERMINATED</td><td>pid=990</td><td style=\"text-align: right;\">0.00568263</td><td style=\"text-align: right;\"> 50.3717 </td><td style=\"text-align: right;\"> 40.0522 </td><td style=\"text-align: right;\">    19</td><td style=\"text-align: right;\">         2.08229</td><td style=\"text-align: right;\">0.405054</td></tr>\n",
              "</tbody>\n",
              "</table><br>"
            ],
            "text/plain": [
              "<IPython.core.display.HTML object>"
            ]
          },
          "metadata": {
            "tags": []
          }
        },
        {
          "output_type": "stream",
          "text": [
            "2019-10-17 19:07:17,881\tINFO tune.py:285 -- Returning an analysis object by default. You can call `analysis.trials` to retrieve a list of trials. This message will be removed in future versions of Tune.\n"
          ],
          "name": "stderr"
        }
      ]
    },
    {
      "cell_type": "markdown",
      "metadata": {
        "id": "H9B8bal4Fsgr",
        "colab_type": "text"
      },
      "source": [
        "## Analyze the best tuned model\n",
        "\n",
        "Let's compare the real labels with the classified labels."
      ]
    },
    {
      "cell_type": "code",
      "metadata": {
        "scrolled": true,
        "id": "FuSfuhs5Fsgs",
        "colab_type": "code",
        "colab": {
          "base_uri": "https://localhost:8080/",
          "height": 395
        },
        "outputId": "d494b113-c899-423a-efe7-df6e0b42b9fa"
      },
      "source": [
        "_, _, test_data, test_labels = get_iris_data()\n",
        "plot_data(test_data, test_labels.argmax(1))"
      ],
      "execution_count": 10,
      "outputs": [
        {
          "output_type": "display_data",
          "data": {
            "image/png": "[encoded data removed]",
            "text/plain": [
              "<Figure size 1152x432 with 2 Axes>"
            ]
          },
          "metadata": {
            "tags": []
          }
        }
      ]
    },
    {
      "cell_type": "code",
      "metadata": {
        "id": "goppf38qFsgu",
        "colab_type": "code",
        "colab": {
          "base_uri": "https://localhost:8080/",
          "height": 497
        },
        "outputId": "b34a172e-3d9e-480a-d97b-a1e31a24c646"
      },
      "source": [
        "# Obtain the directory where the best model is saved.\n",
        "print(\"You can use any of the following columns to get the best model: \\n{}.\".format(\n",
        "    [k for k in analysis.dataframe() if k.startswith(\"keras_info\")]))\n",
        "print(\"=\" * 10)\n",
        "logdir = analysis.get_best_logdir(\"keras_info/val_loss\", mode=\"min\")\n",
        "# We saved the model as `model.h5` in the logdir of the trial.\n",
        "from tensorflow.keras.models import load_model\n",
        "tuned_model = load_model(logdir + \"/model.h5\")\n",
        "\n",
        "tuned_loss, tuned_accuracy = tuned_model.evaluate(test_data, test_labels, verbose=0)\n",
        "print(\"Loss is {:0.4f}\".format(tuned_loss))\n",
        "print(\"Tuned accuracy is {:0.4f}\".format(tuned_accuracy))\n",
        "print(\"The original un-tuned model had an accuracy of {:0.4f}\".format(original_accuracy))\n",
        "predicted_label = tuned_model.predict(test_data)\n",
        "plot_data(test_data, predicted_label.argmax(1))"
      ],
      "execution_count": 11,
      "outputs": [
        {
          "output_type": "stream",
          "text": [
            "You can use any of the following columns to get the best model: \n",
            "['keras_info/acc', 'keras_info/loss', 'keras_info/val_acc', 'keras_info/val_loss'].\n",
            "==========\n",
            "Loss is 0.1434\n",
            "Tuned accuracy is 0.9737\n",
            "The original un-tuned model had an accuracy of 0.6053\n"
          ],
          "name": "stdout"
        },
        {
          "output_type": "display_data",
          "data": {
            "image/png": "[encoded data removed]",
            "text/plain": [
              "<Figure size 1152x432 with 2 Axes>"
            ]
          },
          "metadata": {
            "tags": []
          }
        }
      ]
    },
    {
      "cell_type": "markdown",
      "metadata": {
        "id": "FUQQNZP9Fsgx",
        "colab_type": "text"
      },
      "source": [
        "We can compare the performance of the best model by visualizing predictions compared to the ground truth."
      ]
    },
    {
      "cell_type": "code",
      "metadata": {
        "id": "CvmdHdDWFsgy",
        "colab_type": "code",
        "colab": {
          "base_uri": "https://localhost:8080/",
          "height": 395
        },
        "outputId": "2735ee37-4ec2-45c2-fda8-b1c8b962399a"
      },
      "source": [
        "def plot_comparison(X, y):\n",
        "    # Visualize the data sets\n",
        "    plt.figure(figsize=(16, 6))\n",
        "    plt.subplot(1, 2, 1)\n",
        "    for target, target_name in enumerate([\"Incorrect\", \"Correct\"]):\n",
        "        X_plot = X[y == target]\n",
        "        plt.plot(X_plot[:, 0], X_plot[:, 1], linestyle='none', marker='o', label=target_name)\n",
        "    plt.xlabel(feature_names[0])\n",
        "    plt.ylabel(feature_names[1])\n",
        "    plt.axis('equal')\n",
        "    plt.legend();\n",
        "\n",
        "    plt.subplot(1, 2, 2)\n",
        "    for target, target_name in enumerate([\"Incorrect\", \"Correct\"]):\n",
        "        X_plot = X[y == target]\n",
        "        plt.plot(X_plot[:, 2], X_plot[:, 3], linestyle='none', marker='o', label=target_name)\n",
        "    plt.xlabel(feature_names[2])\n",
        "    plt.ylabel(feature_names[3])\n",
        "    plt.axis('equal')\n",
        "    plt.legend();\n",
        "    \n",
        "plot_comparison(test_data, test_labels.argmax(1) == predicted_label.argmax(1))"
      ],
      "execution_count": 12,
      "outputs": [
        {
          "output_type": "display_data",
          "data": {
            "image/png": "[encoded data removed]",
            "text/plain": [
              "<Figure size 1152x432 with 2 Axes>"
            ]
          },
          "metadata": {
            "tags": []
          }
        }
      ]
    },
    {
      "cell_type": "markdown",
      "metadata": {
        "id": "uziDFM_tFsg1",
        "colab_type": "text"
      },
      "source": [
        "## Extra - use Tensorboard for results"
      ]
    },
    {
      "cell_type": "markdown",
      "metadata": {
        "id": "7uO8XLpaFsg2",
        "colab_type": "text"
      },
      "source": [
        "You can use TensorBoard to view trial performances. If the graphs do not load, click `Toggle All Runs`."
      ]
    },
    {
      "cell_type": "code",
      "metadata": {
        "id": "g1iIJmkOFsg3",
        "colab_type": "code",
        "colab": {}
      },
      "source": [
        "%load_ext tensorboard"
      ],
      "execution_count": 0,
      "outputs": []
    },
    {
      "cell_type": "code",
      "metadata": {
        "scrolled": true,
        "id": "Jsz1vwvBFsg6",
        "colab_type": "code",
        "colab": {
          "base_uri": "https://localhost:8080/",
          "height": 17
        },
        "outputId": "3086ae7d-d358-456d-8a54-643982b74ece"
      },
      "source": [
        "%tensorboard --logdir ~/ray_results/tune_iris"
      ],
      "execution_count": 14,
      "outputs": [
        {
          "output_type": "display_data",
          "data": {
            "text/html": [
              "\n",
              "    <div id=\"root\"></div>\n",
              "    <script>\n",
              "      (function() {\n",
              "        window.TENSORBOARD_ENV = window.TENSORBOARD_ENV || {};\n",
              "        window.TENSORBOARD_ENV[\"IN_COLAB\"] = true;\n",
              "        document.querySelector(\"base\").href = \"https://localhost:6006\";\n",
              "        function fixUpTensorboard(root) {\n",
              "          const tftb = root.querySelector(\"tf-tensorboard\");\n",
              "          // Disable the fragment manipulation behavior in Colab. Not\n",
              "          // only is the behavior not useful (as the iframe's location\n",
              "          // is not visible to the user), it causes TensorBoard's usage\n",
              "          // of `window.replace` to navigate away from the page and to\n",
              "          // the `localhost:<port>` URL specified by the base URI, which\n",
              "          // in turn causes the frame to (likely) crash.\n",
              "          tftb.removeAttribute(\"use-hash\");\n",
              "        }\n",
              "        function executeAllScripts(root) {\n",
              "          // When `script` elements are inserted into the DOM by\n",
              "          // assigning to an element's `innerHTML`, the scripts are not\n",
              "          // executed. Thus, we manually re-insert these scripts so that\n",
              "          // TensorBoard can initialize itself.\n",
              "          for (const script of root.querySelectorAll(\"script\")) {\n",
              "            const newScript = document.createElement(\"script\");\n",
              "            newScript.type = script.type;\n",
              "            newScript.textContent = script.textContent;\n",
              "            root.appendChild(newScript);\n",
              "            script.remove();\n",
              "          }\n",
              "        }\n",
              "        function setHeight(root, height) {\n",
              "          // We set the height dynamically after the TensorBoard UI has\n",
              "          // been initialized. This avoids an intermediate state in\n",
              "          // which the container plus the UI become taller than the\n",
              "          // final width and cause the Colab output frame to be\n",
              "          // permanently resized, eventually leading to an empty\n",
              "          // vertical gap below the TensorBoard UI. It's not clear\n",
              "          // exactly what causes this problematic intermediate state,\n",
              "          // but setting the height late seems to fix it.\n",
              "          root.style.height = `${height}px`;\n",
              "        }\n",
              "        const root = document.getElementById(\"root\");\n",
              "        fetch(\".\")\n",
              "          .then((x) => x.text())\n",
              "          .then((html) => void (root.innerHTML = html))\n",
              "          .then(() => fixUpTensorboard(root))\n",
              "          .then(() => executeAllScripts(root))\n",
              "          .then(() => setHeight(root, 800));\n",
              "      })();\n",
              "    </script>\n",
              "  "
            ],
            "text/plain": [
              "<IPython.core.display.HTML object>"
            ]
          },
          "metadata": {
            "tags": []
          }
        }
      ]
    },
    {
      "cell_type": "code",
      "metadata": {
        "id": "I6-2_wdmHuPF",
        "colab_type": "code",
        "colab": {}
      },
      "source": [
        ""
      ],
      "execution_count": 0,
      "outputs": []
    }
  ]
}